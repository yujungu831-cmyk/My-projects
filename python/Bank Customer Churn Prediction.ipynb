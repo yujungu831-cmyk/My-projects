{
 "cells":[
  {
   "cell_type":"markdown",
   "source":[
    "# **Bank Customer Churn Prediction**"
   ],
   "attachments":{},
   "metadata":{
    "datalore":{
     "node_id":"6a09L03HBVm2xUtoxg58ir",
     "type":"MD",
     "hide_input_from_viewers":false,
     "hide_output_from_viewers":false,
     "report_properties":{
      "rowId":"GfT536eqD85il1pFwIaFeG",
      "relativeY":0
     }
    }
   }
  },
  {
   "cell_type":"code",
   "source":[
    "import numpy as np\n",
    "import pandas as pd\n",
    "\n",
    "churn_df = pd.read_csv('bank.data.csv')\n",
    "churn_df.head()"
   ],
   "execution_count":75,
   "outputs":[
    {
     "data":{
      "text\/html":[
       "<div>\n",
       "<style scoped>\n",
       "    .dataframe tbody tr th:only-of-type {\n",
       "        vertical-align: middle;\n",
       "    }\n",
       "\n",
       "    .dataframe tbody tr th {\n",
       "        vertical-align: top;\n",
       "    }\n",
       "\n",
       "    .dataframe thead th {\n",
       "        text-align: right;\n",
       "    }\n",
       "<\/style>\n",
       "<table border=\"1\" class=\"dataframe\">\n",
       "  <thead>\n",
       "    <tr style=\"text-align: right;\">\n",
       "      <th><\/th>\n",
       "      <th>RowNumber<\/th>\n",
       "      <th>CustomerId<\/th>\n",
       "      <th>Surname<\/th>\n",
       "      <th>CreditScore<\/th>\n",
       "      <th>Geography<\/th>\n",
       "      <th>Gender<\/th>\n",
       "      <th>Age<\/th>\n",
       "      <th>Tenure<\/th>\n",
       "      <th>Balance<\/th>\n",
       "      <th>NumOfProducts<\/th>\n",
       "      <th>HasCrCard<\/th>\n",
       "      <th>IsActiveMember<\/th>\n",
       "      <th>EstimatedSalary<\/th>\n",
       "      <th>Exited<\/th>\n",
       "    <\/tr>\n",
       "  <\/thead>\n",
       "  <tbody>\n",
       "    <tr>\n",
       "      <th>0<\/th>\n",
       "      <td>1<\/td>\n",
       "      <td>15634602<\/td>\n",
       "      <td>Hargrave<\/td>\n",
       "      <td>619<\/td>\n",
       "      <td>France<\/td>\n",
       "      <td>Female<\/td>\n",
       "      <td>42<\/td>\n",
       "      <td>2<\/td>\n",
       "      <td>0.00<\/td>\n",
       "      <td>1<\/td>\n",
       "      <td>1<\/td>\n",
       "      <td>1<\/td>\n",
       "      <td>101348.88<\/td>\n",
       "      <td>1<\/td>\n",
       "    <\/tr>\n",
       "    <tr>\n",
       "      <th>1<\/th>\n",
       "      <td>2<\/td>\n",
       "      <td>15647311<\/td>\n",
       "      <td>Hill<\/td>\n",
       "      <td>608<\/td>\n",
       "      <td>Spain<\/td>\n",
       "      <td>Female<\/td>\n",
       "      <td>41<\/td>\n",
       "      <td>1<\/td>\n",
       "      <td>83807.86<\/td>\n",
       "      <td>1<\/td>\n",
       "      <td>0<\/td>\n",
       "      <td>1<\/td>\n",
       "      <td>112542.58<\/td>\n",
       "      <td>0<\/td>\n",
       "    <\/tr>\n",
       "    <tr>\n",
       "      <th>2<\/th>\n",
       "      <td>3<\/td>\n",
       "      <td>15619304<\/td>\n",
       "      <td>Onio<\/td>\n",
       "      <td>502<\/td>\n",
       "      <td>France<\/td>\n",
       "      <td>Female<\/td>\n",
       "      <td>42<\/td>\n",
       "      <td>8<\/td>\n",
       "      <td>159660.80<\/td>\n",
       "      <td>3<\/td>\n",
       "      <td>1<\/td>\n",
       "      <td>0<\/td>\n",
       "      <td>113931.57<\/td>\n",
       "      <td>1<\/td>\n",
       "    <\/tr>\n",
       "    <tr>\n",
       "      <th>3<\/th>\n",
       "      <td>4<\/td>\n",
       "      <td>15701354<\/td>\n",
       "      <td>Boni<\/td>\n",
       "      <td>699<\/td>\n",
       "      <td>France<\/td>\n",
       "      <td>Female<\/td>\n",
       "      <td>39<\/td>\n",
       "      <td>1<\/td>\n",
       "      <td>0.00<\/td>\n",
       "      <td>2<\/td>\n",
       "      <td>0<\/td>\n",
       "      <td>0<\/td>\n",
       "      <td>93826.63<\/td>\n",
       "      <td>0<\/td>\n",
       "    <\/tr>\n",
       "    <tr>\n",
       "      <th>4<\/th>\n",
       "      <td>5<\/td>\n",
       "      <td>15737888<\/td>\n",
       "      <td>Mitchell<\/td>\n",
       "      <td>850<\/td>\n",
       "      <td>Spain<\/td>\n",
       "      <td>Female<\/td>\n",
       "      <td>43<\/td>\n",
       "      <td>2<\/td>\n",
       "      <td>125510.82<\/td>\n",
       "      <td>1<\/td>\n",
       "      <td>1<\/td>\n",
       "      <td>1<\/td>\n",
       "      <td>79084.10<\/td>\n",
       "      <td>0<\/td>\n",
       "    <\/tr>\n",
       "  <\/tbody>\n",
       "<\/table>\n",
       "<\/div>"
      ]
     },
     "metadata":{},
     "output_type":"display_data"
    }
   ],
   "metadata":{
    "datalore":{
     "node_id":"ooxwUYUXqKfc5bhCdCGdaR",
     "type":"CODE",
     "hide_input_from_viewers":false,
     "hide_output_from_viewers":false,
     "report_properties":{
      "rowId":"WfZIFpufKWDCWs0mNvCh26",
      "relativeY":0
     }
    }
   }
  },
  {
   "cell_type":"markdown",
   "source":[
    "# Part 1: Data Exploration"
   ],
   "attachments":{},
   "metadata":{
    "datalore":{
     "node_id":"jOzmA0201Dc24ZB0SWKDKl",
     "type":"MD",
     "hide_input_from_viewers":false,
     "hide_output_from_viewers":false,
     "report_properties":{
      "rowId":"EaZPksKV98U0oR0YQzGNOO",
      "relativeY":0
     }
    }
   }
  },
  {
   "cell_type":"code",
   "source":[
    "# check data info\n",
    "churn_df.info()"
   ],
   "execution_count":76,
   "outputs":[
    {
     "name":"stdout",
     "text":[
      "<class 'pandas.core.frame.DataFrame'>\n",
      "RangeIndex: 10000 entries, 0 to 9999\n",
      "Data columns (total 14 columns):\n",
      " #   Column           Non-Null Count  Dtype  \n",
      "---  ------           --------------  -----  \n",
      " 0   RowNumber        10000 non-null  int64  \n",
      " 1   CustomerId       10000 non-null  int64  \n",
      " 2   Surname          10000 non-null  object \n",
      " 3   CreditScore      10000 non-null  int64  \n",
      " 4   Geography        10000 non-null  object \n",
      " 5   Gender           10000 non-null  object \n",
      " 6   Age              10000 non-null  int64  \n",
      " 7   Tenure           10000 non-null  int64  \n",
      " 8   Balance          10000 non-null  float64\n",
      " 9   NumOfProducts    10000 non-null  int64  \n",
      " 10  HasCrCard        10000 non-null  int64  \n",
      " 11  IsActiveMember   10000 non-null  int64  \n",
      " 12  EstimatedSalary  10000 non-null  float64\n",
      " 13  Exited           10000 non-null  int64  \n",
      "dtypes: float64(2), int64(9), object(3)\n",
      "memory usage: 1.1+ MB\n"
     ],
     "output_type":"stream"
    }
   ],
   "metadata":{
    "datalore":{
     "node_id":"uFTcunuurtECJknLzrRRhC",
     "type":"CODE",
     "hide_input_from_viewers":false,
     "hide_output_from_viewers":false,
     "report_properties":{
      "rowId":"BAtX6dhK95DCgSg7s9JmrW",
      "relativeY":0
     }
    }
   }
  },
  {
   "cell_type":"code",
   "source":[
    "#check the unique value\n",
    "churn_df.nunique()"
   ],
   "execution_count":77,
   "outputs":[
    {
     "data":{
      "text\/html":[
       "<pre>RowNumber          10000\n",
       "CustomerId         10000\n",
       "Surname             2932\n",
       "CreditScore          460\n",
       "Geography              3\n",
       "Gender                 2\n",
       "Age                   70\n",
       "Tenure                11\n",
       "Balance             6382\n",
       "NumOfProducts          4\n",
       "HasCrCard              2\n",
       "IsActiveMember         2\n",
       "EstimatedSalary     9999\n",
       "Exited                 2\n",
       "dtype: int64<\/pre>"
      ]
     },
     "metadata":{},
     "output_type":"display_data"
    }
   ],
   "metadata":{
    "datalore":{
     "node_id":"kvWxlH3ijg7jPpCdamJMkE",
     "type":"CODE",
     "hide_input_from_viewers":false,
     "hide_output_from_viewers":false,
     "report_properties":{
      "rowId":"Wzl6xhlmB2vXFmcRAfkfHD",
      "relativeY":0
     }
    }
   }
  },
  {
   "cell_type":"code",
   "source":[
    "y = churn_df['Exited']"
   ],
   "execution_count":78,
   "outputs":[],
   "metadata":{
    "datalore":{
     "node_id":"X9ejbtMakoG5tKDYYLFxC4",
     "type":"CODE",
     "hide_input_from_viewers":false,
     "hide_output_from_viewers":false,
     "report_properties":{
      "rowId":"GnTvu1MoeDKBt2kZKBHVLi",
      "relativeY":0
     }
    }
   }
  },
  {
   "cell_type":"code",
   "source":[
    "# check missing values\n",
    "churn_df.isnull().sum()"
   ],
   "execution_count":79,
   "outputs":[
    {
     "data":{
      "text\/html":[
       "<pre>RowNumber          0\n",
       "CustomerId         0\n",
       "Surname            0\n",
       "CreditScore        0\n",
       "Geography          0\n",
       "Gender             0\n",
       "Age                0\n",
       "Tenure             0\n",
       "Balance            0\n",
       "NumOfProducts      0\n",
       "HasCrCard          0\n",
       "IsActiveMember     0\n",
       "EstimatedSalary    0\n",
       "Exited             0\n",
       "dtype: int64<\/pre>"
      ]
     },
     "metadata":{},
     "output_type":"display_data"
    }
   ],
   "metadata":{
    "datalore":{
     "node_id":"CsSSvaLo27vqacn35gONg6",
     "type":"CODE",
     "hide_input_from_viewers":false,
     "hide_output_from_viewers":false,
     "report_properties":{
      "rowId":"6vB4l1lQdD5rkrgGSrlyRK",
      "relativeY":0
     }
    }
   }
  },
  {
   "cell_type":"markdown",
   "source":[
    "**There are no missing values in the data.**"
   ],
   "attachments":{},
   "metadata":{
    "datalore":{
     "node_id":"WbB6mTpVI6f1joT11E8hjv",
     "type":"MD",
     "hide_input_from_viewers":false,
     "hide_output_from_viewers":false,
     "report_properties":{
      "rowId":"FQsful8tvY44oawyAwEctO",
      "relativeY":0
     }
    }
   }
  },
  {
   "cell_type":"code",
   "source":[
    "#check the description of the meaningful data\n",
    "churn_df[['CreditScore', 'Age', 'Tenure', 'NumOfProducts','Balance', 'EstimatedSalary']].describe()"
   ],
   "execution_count":80,
   "outputs":[
    {
     "data":{
      "text\/html":[
       "<div>\n",
       "<style scoped>\n",
       "    .dataframe tbody tr th:only-of-type {\n",
       "        vertical-align: middle;\n",
       "    }\n",
       "\n",
       "    .dataframe tbody tr th {\n",
       "        vertical-align: top;\n",
       "    }\n",
       "\n",
       "    .dataframe thead th {\n",
       "        text-align: right;\n",
       "    }\n",
       "<\/style>\n",
       "<table border=\"1\" class=\"dataframe\">\n",
       "  <thead>\n",
       "    <tr style=\"text-align: right;\">\n",
       "      <th><\/th>\n",
       "      <th>CreditScore<\/th>\n",
       "      <th>Age<\/th>\n",
       "      <th>Tenure<\/th>\n",
       "      <th>NumOfProducts<\/th>\n",
       "      <th>Balance<\/th>\n",
       "      <th>EstimatedSalary<\/th>\n",
       "    <\/tr>\n",
       "  <\/thead>\n",
       "  <tbody>\n",
       "    <tr>\n",
       "      <th>count<\/th>\n",
       "      <td>10000.000000<\/td>\n",
       "      <td>10000.000000<\/td>\n",
       "      <td>10000.000000<\/td>\n",
       "      <td>10000.000000<\/td>\n",
       "      <td>10000.000000<\/td>\n",
       "      <td>10000.000000<\/td>\n",
       "    <\/tr>\n",
       "    <tr>\n",
       "      <th>mean<\/th>\n",
       "      <td>650.528800<\/td>\n",
       "      <td>38.921800<\/td>\n",
       "      <td>5.012800<\/td>\n",
       "      <td>1.530200<\/td>\n",
       "      <td>76485.889288<\/td>\n",
       "      <td>100090.239881<\/td>\n",
       "    <\/tr>\n",
       "    <tr>\n",
       "      <th>std<\/th>\n",
       "      <td>96.653299<\/td>\n",
       "      <td>10.487806<\/td>\n",
       "      <td>2.892174<\/td>\n",
       "      <td>0.581654<\/td>\n",
       "      <td>62397.405202<\/td>\n",
       "      <td>57510.492818<\/td>\n",
       "    <\/tr>\n",
       "    <tr>\n",
       "      <th>min<\/th>\n",
       "      <td>350.000000<\/td>\n",
       "      <td>18.000000<\/td>\n",
       "      <td>0.000000<\/td>\n",
       "      <td>1.000000<\/td>\n",
       "      <td>0.000000<\/td>\n",
       "      <td>11.580000<\/td>\n",
       "    <\/tr>\n",
       "    <tr>\n",
       "      <th>25%<\/th>\n",
       "      <td>584.000000<\/td>\n",
       "      <td>32.000000<\/td>\n",
       "      <td>3.000000<\/td>\n",
       "      <td>1.000000<\/td>\n",
       "      <td>0.000000<\/td>\n",
       "      <td>51002.110000<\/td>\n",
       "    <\/tr>\n",
       "    <tr>\n",
       "      <th>50%<\/th>\n",
       "      <td>652.000000<\/td>\n",
       "      <td>37.000000<\/td>\n",
       "      <td>5.000000<\/td>\n",
       "      <td>1.000000<\/td>\n",
       "      <td>97198.540000<\/td>\n",
       "      <td>100193.915000<\/td>\n",
       "    <\/tr>\n",
       "    <tr>\n",
       "      <th>75%<\/th>\n",
       "      <td>718.000000<\/td>\n",
       "      <td>44.000000<\/td>\n",
       "      <td>7.000000<\/td>\n",
       "      <td>2.000000<\/td>\n",
       "      <td>127644.240000<\/td>\n",
       "      <td>149388.247500<\/td>\n",
       "    <\/tr>\n",
       "    <tr>\n",
       "      <th>max<\/th>\n",
       "      <td>850.000000<\/td>\n",
       "      <td>92.000000<\/td>\n",
       "      <td>10.000000<\/td>\n",
       "      <td>4.000000<\/td>\n",
       "      <td>250898.090000<\/td>\n",
       "      <td>199992.480000<\/td>\n",
       "    <\/tr>\n",
       "  <\/tbody>\n",
       "<\/table>\n",
       "<\/div>"
      ]
     },
     "metadata":{},
     "output_type":"display_data"
    }
   ],
   "metadata":{
    "datalore":{
     "node_id":"vwnFdYhbABvvtgiao2mLzi",
     "type":"CODE",
     "hide_input_from_viewers":false,
     "hide_output_from_viewers":false,
     "report_properties":{
      "rowId":"otcb5jAWeKJZrk9AAnQjVe",
      "relativeY":0
     }
    }
   }
  },
  {
   "cell_type":"markdown",
   "source":[
    "**Before making a formal prediction of customer churn, it is necessary to find what factors are related to customer churn.**"
   ],
   "attachments":{},
   "metadata":{
    "datalore":{
     "node_id":"rGKe3Guq9kKBgzAx1rhZ7H",
     "type":"MD",
     "hide_input_from_viewers":false,
     "hide_output_from_viewers":false,
     "report_properties":{
      "rowId":"FcBsWsZYC7KG93HQyl7RJf",
      "relativeY":0
     }
    }
   }
  },
  {
   "cell_type":"code",
   "source":[
    "import matplotlib.pyplot as plt\n",
    "import seaborn as sns\n",
    "\n",
    "_,axss = plt.subplots(2,3, figsize=[20,10])\n",
    "sns.boxplot(x='Exited', y ='CreditScore', data=churn_df, ax=axss[0][0])\n",
    "sns.boxplot(x='Exited', y ='Age', data=churn_df, ax=axss[0][1])\n",
    "sns.boxplot(x='Exited', y ='Tenure', data=churn_df, ax=axss[0][2])\n",
    "sns.boxplot(x='Exited', y ='NumOfProducts', data=churn_df, ax=axss[1][0])\n",
    "sns.boxplot(x='Exited', y ='Balance', data=churn_df, ax=axss[1][1])\n",
    "sns.boxplot(x='Exited', y ='EstimatedSalary', data=churn_df, ax=axss[1][2])"
   ],
   "execution_count":81,
   "outputs":[
    {
     "data":{
      "text\/plain":[
       "<Axes: xlabel='Exited', ylabel='EstimatedSalary'>"
      ]
     },
     "metadata":{},
     "output_type":"display_data"
    },
    {
     "data":{
      "image\/png":"[encoded data removed]"
     },
     "metadata":{
      "image\/png":{}
     },
     "output_type":"display_data"
    }
   ],
   "metadata":{
    "datalore":{
     "node_id":"CGEK8RHJX4VidvgQheJMOk",
     "type":"CODE",
     "hide_input_from_viewers":false,
     "hide_output_from_viewers":false,
     "report_properties":{
      "rowId":"Un10CqbyzRNfavYUsjqE9w",
      "relativeY":0
     }
    }
   }
  },
  {
   "cell_type":"markdown",
   "source":[
    "Relatively speaking, the difference between customer churn and credit score, numbers of products, and estimated salary is not significant. For age, users with existing=1 are generally older, which is reflected in a larger average value; For tenure, the difference between the maximum and minimum values of tenure for churn users is greater than that for non-churn users; For balance, the average value of lost users is larger than that of non-lost users, and the lower limit of balance is also higher."
   ],
   "attachments":{},
   "metadata":{
    "datalore":{
     "node_id":"fOBq7j1oDcYkhjPqwEBP5d",
     "type":"MD",
     "hide_input_from_viewers":false,
     "hide_output_from_viewers":false,
     "report_properties":{
      "rowId":"AbwH1IwPkY5izEoY35MQxH",
      "relativeY":0
     }
    }
   }
  },
  {
   "cell_type":"code",
   "source":[
    "_,axss = plt.subplots(2,2, figsize=[20,10])\n",
    "sns.countplot(x='Exited', hue='Geography', data=churn_df, ax=axss[0][0])\n",
    "sns.countplot(x='Exited', hue='Gender', data=churn_df, ax=axss[0][1])\n",
    "sns.countplot(x='Exited', hue='HasCrCard', data=churn_df, ax=axss[1][0])\n",
    "sns.countplot(x='Exited', hue='IsActiveMember', data=churn_df, ax=axss[1][1])"
   ],
   "execution_count":82,
   "outputs":[
    {
     "data":{
      "text\/plain":[
       "<Axes: xlabel='Exited', ylabel='count'>"
      ]
     },
     "metadata":{},
     "output_type":"display_data"
    },
    {
     "data":{
      "image\/png":"[encoded data removed]"
     },
     "metadata":{
      "image\/png":{}
     },
     "output_type":"display_data"
    }
   ],
   "metadata":{
    "datalore":{
     "node_id":"TiQ6zDqru3nzY6bSQlijb2",
     "type":"CODE",
     "hide_input_from_viewers":false,
     "hide_output_from_viewers":false,
     "report_properties":{
      "rowId":"ew9kG3bM3enm5NSHQJAhxg",
      "relativeY":0
     }
    }
   }
  },
  {
   "cell_type":"markdown",
   "source":[
    "As shown in the figure, geography has relatively large data differences, which is reflected in the significant decrease in the proportion of French users and the significant increase in the proportion of Germans among the lost users. In terms of gender, unlike the situation where there are more men than women who have not lost customers, there is a phenomenon of more women than men among lost customers. Among the non-lost customers, there are more active members, while among the lost customers, the opposite is true. Overall, the difference in HasCrCard factor between non-lost and lost customers is not significant."
   ],
   "attachments":{},
   "metadata":{
    "datalore":{
     "node_id":"I6Rv6G3d7yFX0tgbizZTSb",
     "type":"MD",
     "hide_input_from_viewers":false,
     "hide_output_from_viewers":false,
     "report_properties":{
      "rowId":"lIBgad9dJ1CUohpoNOQBOM",
      "relativeY":0
     }
    }
   }
  },
  {
   "cell_type":"markdown",
   "source":[
    "# Part 2: Feature Preprocessing"
   ],
   "attachments":{},
   "metadata":{
    "datalore":{
     "node_id":"T8iWG9lXqzpuVZ54TQa77f",
     "type":"MD",
     "hide_input_from_viewers":false,
     "hide_output_from_viewers":false,
     "report_properties":{
      "rowId":"ClGSUVwiFr90QsekLpDtel",
      "relativeY":0
     }
    }
   }
  },
  {
   "cell_type":"code",
   "source":[
    "#firstly,drop the useless data\n",
    "to_drop = ['RowNumber','CustomerId','Surname','Exited']\n",
    "X = churn_df.drop(to_drop, axis = 1)\n",
    "X.head()"
   ],
   "execution_count":83,
   "outputs":[
    {
     "data":{
      "text\/html":[
       "<div>\n",
       "<style scoped>\n",
       "    .dataframe tbody tr th:only-of-type {\n",
       "        vertical-align: middle;\n",
       "    }\n",
       "\n",
       "    .dataframe tbody tr th {\n",
       "        vertical-align: top;\n",
       "    }\n",
       "\n",
       "    .dataframe thead th {\n",
       "        text-align: right;\n",
       "    }\n",
       "<\/style>\n",
       "<table border=\"1\" class=\"dataframe\">\n",
       "  <thead>\n",
       "    <tr style=\"text-align: right;\">\n",
       "      <th><\/th>\n",
       "      <th>CreditScore<\/th>\n",
       "      <th>Geography<\/th>\n",
       "      <th>Gender<\/th>\n",
       "      <th>Age<\/th>\n",
       "      <th>Tenure<\/th>\n",
       "      <th>Balance<\/th>\n",
       "      <th>NumOfProducts<\/th>\n",
       "      <th>HasCrCard<\/th>\n",
       "      <th>IsActiveMember<\/th>\n",
       "      <th>EstimatedSalary<\/th>\n",
       "    <\/tr>\n",
       "  <\/thead>\n",
       "  <tbody>\n",
       "    <tr>\n",
       "      <th>0<\/th>\n",
       "      <td>619<\/td>\n",
       "      <td>France<\/td>\n",
       "      <td>Female<\/td>\n",
       "      <td>42<\/td>\n",
       "      <td>2<\/td>\n",
       "      <td>0.00<\/td>\n",
       "      <td>1<\/td>\n",
       "      <td>1<\/td>\n",
       "      <td>1<\/td>\n",
       "      <td>101348.88<\/td>\n",
       "    <\/tr>\n",
       "    <tr>\n",
       "      <th>1<\/th>\n",
       "      <td>608<\/td>\n",
       "      <td>Spain<\/td>\n",
       "      <td>Female<\/td>\n",
       "      <td>41<\/td>\n",
       "      <td>1<\/td>\n",
       "      <td>83807.86<\/td>\n",
       "      <td>1<\/td>\n",
       "      <td>0<\/td>\n",
       "      <td>1<\/td>\n",
       "      <td>112542.58<\/td>\n",
       "    <\/tr>\n",
       "    <tr>\n",
       "      <th>2<\/th>\n",
       "      <td>502<\/td>\n",
       "      <td>France<\/td>\n",
       "      <td>Female<\/td>\n",
       "      <td>42<\/td>\n",
       "      <td>8<\/td>\n",
       "      <td>159660.80<\/td>\n",
       "      <td>3<\/td>\n",
       "      <td>1<\/td>\n",
       "      <td>0<\/td>\n",
       "      <td>113931.57<\/td>\n",
       "    <\/tr>\n",
       "    <tr>\n",
       "      <th>3<\/th>\n",
       "      <td>699<\/td>\n",
       "      <td>France<\/td>\n",
       "      <td>Female<\/td>\n",
       "      <td>39<\/td>\n",
       "      <td>1<\/td>\n",
       "      <td>0.00<\/td>\n",
       "      <td>2<\/td>\n",
       "      <td>0<\/td>\n",
       "      <td>0<\/td>\n",
       "      <td>93826.63<\/td>\n",
       "    <\/tr>\n",
       "    <tr>\n",
       "      <th>4<\/th>\n",
       "      <td>850<\/td>\n",
       "      <td>Spain<\/td>\n",
       "      <td>Female<\/td>\n",
       "      <td>43<\/td>\n",
       "      <td>2<\/td>\n",
       "      <td>125510.82<\/td>\n",
       "      <td>1<\/td>\n",
       "      <td>1<\/td>\n",
       "      <td>1<\/td>\n",
       "      <td>79084.10<\/td>\n",
       "    <\/tr>\n",
       "  <\/tbody>\n",
       "<\/table>\n",
       "<\/div>"
      ]
     },
     "metadata":{},
     "output_type":"display_data"
    }
   ],
   "metadata":{
    "datalore":{
     "node_id":"JOo8lNY88bwi4penpqXKtc",
     "type":"CODE",
     "hide_input_from_viewers":false,
     "hide_output_from_viewers":false,
     "report_properties":{
      "rowId":"mQcKArJaBv5QyUTKoJVDAR",
      "relativeY":0
     }
    }
   }
  },
  {
   "cell_type":"code",
   "source":[
    "X.dtypes"
   ],
   "execution_count":84,
   "outputs":[
    {
     "data":{
      "text\/html":[
       "<pre>CreditScore          int64\n",
       "Geography           object\n",
       "Gender              object\n",
       "Age                  int64\n",
       "Tenure               int64\n",
       "Balance            float64\n",
       "NumOfProducts        int64\n",
       "HasCrCard            int64\n",
       "IsActiveMember       int64\n",
       "EstimatedSalary    float64\n",
       "dtype: object<\/pre>"
      ]
     },
     "metadata":{},
     "output_type":"display_data"
    }
   ],
   "metadata":{
    "datalore":{
     "node_id":"QwMlW8gfwCDiIIfkIVC1q1",
     "type":"CODE",
     "hide_input_from_viewers":false,
     "hide_output_from_viewers":false,
     "report_properties":{
      "rowId":"GLz5vxRTHZzsEQPdMrG8FO",
      "relativeY":0
     }
    }
   }
  },
  {
   "cell_type":"markdown",
   "source":[
    "**There are two types of data in the data that are 'object', so it is necessary to encode and process these two types of data. In order to prevent the early leakage of test data, we need to split the data in advance**"
   ],
   "attachments":{},
   "metadata":{
    "datalore":{
     "node_id":"d8zj55JB0Lo9RN1zDTwwRg",
     "type":"MD",
     "hide_input_from_viewers":false,
     "hide_output_from_viewers":false,
     "report_properties":{
      "rowId":"sc5tFHnb2PUAn16oKlgVUp",
      "relativeY":0
     }
    }
   }
  },
  {
   "cell_type":"code",
   "source":[
    "from sklearn import model_selection\n",
    "\n",
    "# take the 20% of data as the test data\n",
    "X_train, X_test, y_train, y_test = model_selection.train_test_split(X, y, test_size=0.2, stratify = y, random_state = 100)\n",
    "\n",
    "print('training data has ' + str(X_train.shape[0]) + ' observation with ' + str(X_train.shape[1]) + ' features')\n",
    "print('test data has ' + str(X_test.shape[0]) + ' observation with ' + str(X_test.shape[1]) + ' features')"
   ],
   "execution_count":85,
   "outputs":[
    {
     "name":"stdout",
     "text":[
      "training data has 8000 observation with 10 features\n",
      "test data has 2000 observation with 10 features\n"
     ],
     "output_type":"stream"
    }
   ],
   "metadata":{
    "datalore":{
     "node_id":"RpblDtthczJZ3dOBnLLzSP",
     "type":"CODE",
     "hide_input_from_viewers":false,
     "hide_output_from_viewers":false,
     "report_properties":{
      "rowId":"NQDCBQ8fNURihi7fcgjUdb",
      "relativeY":0
     }
    }
   }
  },
  {
   "cell_type":"code",
   "source":[
    "cat_cols = X.columns[X.dtypes == 'object']\n",
    "num_cols = X.columns[(X.dtypes == 'float64') | (X.dtypes == 'int64')]\n",
    "X_train.head()"
   ],
   "execution_count":86,
   "outputs":[
    {
     "data":{
      "text\/html":[
       "<div>\n",
       "<style scoped>\n",
       "    .dataframe tbody tr th:only-of-type {\n",
       "        vertical-align: middle;\n",
       "    }\n",
       "\n",
       "    .dataframe tbody tr th {\n",
       "        vertical-align: top;\n",
       "    }\n",
       "\n",
       "    .dataframe thead th {\n",
       "        text-align: right;\n",
       "    }\n",
       "<\/style>\n",
       "<table border=\"1\" class=\"dataframe\">\n",
       "  <thead>\n",
       "    <tr style=\"text-align: right;\">\n",
       "      <th><\/th>\n",
       "      <th>CreditScore<\/th>\n",
       "      <th>Geography<\/th>\n",
       "      <th>Gender<\/th>\n",
       "      <th>Age<\/th>\n",
       "      <th>Tenure<\/th>\n",
       "      <th>Balance<\/th>\n",
       "      <th>NumOfProducts<\/th>\n",
       "      <th>HasCrCard<\/th>\n",
       "      <th>IsActiveMember<\/th>\n",
       "      <th>EstimatedSalary<\/th>\n",
       "    <\/tr>\n",
       "  <\/thead>\n",
       "  <tbody>\n",
       "    <tr>\n",
       "      <th>1814<\/th>\n",
       "      <td>579<\/td>\n",
       "      <td>Germany<\/td>\n",
       "      <td>Male<\/td>\n",
       "      <td>31<\/td>\n",
       "      <td>2<\/td>\n",
       "      <td>90547.48<\/td>\n",
       "      <td>2<\/td>\n",
       "      <td>1<\/td>\n",
       "      <td>1<\/td>\n",
       "      <td>18800.13<\/td>\n",
       "    <\/tr>\n",
       "    <tr>\n",
       "      <th>4060<\/th>\n",
       "      <td>640<\/td>\n",
       "      <td>France<\/td>\n",
       "      <td>Female<\/td>\n",
       "      <td>29<\/td>\n",
       "      <td>4<\/td>\n",
       "      <td>0.00<\/td>\n",
       "      <td>2<\/td>\n",
       "      <td>1<\/td>\n",
       "      <td>0<\/td>\n",
       "      <td>44904.26<\/td>\n",
       "    <\/tr>\n",
       "    <tr>\n",
       "      <th>797<\/th>\n",
       "      <td>488<\/td>\n",
       "      <td>Germany<\/td>\n",
       "      <td>Male<\/td>\n",
       "      <td>32<\/td>\n",
       "      <td>3<\/td>\n",
       "      <td>114540.38<\/td>\n",
       "      <td>1<\/td>\n",
       "      <td>1<\/td>\n",
       "      <td>0<\/td>\n",
       "      <td>92568.07<\/td>\n",
       "    <\/tr>\n",
       "    <tr>\n",
       "      <th>5158<\/th>\n",
       "      <td>587<\/td>\n",
       "      <td>France<\/td>\n",
       "      <td>Male<\/td>\n",
       "      <td>55<\/td>\n",
       "      <td>9<\/td>\n",
       "      <td>0.00<\/td>\n",
       "      <td>1<\/td>\n",
       "      <td>1<\/td>\n",
       "      <td>0<\/td>\n",
       "      <td>64593.07<\/td>\n",
       "    <\/tr>\n",
       "    <tr>\n",
       "      <th>7950<\/th>\n",
       "      <td>516<\/td>\n",
       "      <td>Germany<\/td>\n",
       "      <td>Female<\/td>\n",
       "      <td>33<\/td>\n",
       "      <td>10<\/td>\n",
       "      <td>138847.90<\/td>\n",
       "      <td>1<\/td>\n",
       "      <td>1<\/td>\n",
       "      <td>1<\/td>\n",
       "      <td>127256.70<\/td>\n",
       "    <\/tr>\n",
       "  <\/tbody>\n",
       "<\/table>\n",
       "<\/div>"
      ]
     },
     "metadata":{},
     "output_type":"display_data"
    }
   ],
   "metadata":{
    "datalore":{
     "node_id":"330gXHBDngQZTrhI2Fqnha",
     "type":"CODE",
     "hide_input_from_viewers":false,
     "hide_output_from_viewers":false,
     "report_properties":{
      "rowId":"GRCYkoPdUCj7Dvr0a8i28U",
      "relativeY":0
     }
    }
   }
  },
  {
   "cell_type":"code",
   "source":[
    "# One hot encoding\n",
    "from sklearn.preprocessing import OneHotEncoder\n",
    "\n",
    "def OneHotEncoding(df, enc, categories):\n",
    "  transformed = pd.DataFrame(enc.transform(df[categories]).toarray(), columns = enc.get_feature_names_out(categories))\n",
    "  return pd.concat([df.reset_index(drop=True), transformed], axis=1).drop(categories, axis=1)\n",
    "\n",
    "categories = ['Geography']\n",
    "enc_ohe = OneHotEncoder()\n",
    "enc_ohe.fit(X_train[categories])\n",
    "\n",
    "X_train = OneHotEncoding(X_train, enc_ohe, categories)\n",
    "X_test = OneHotEncoding(X_test, enc_ohe, categories)"
   ],
   "execution_count":87,
   "outputs":[],
   "metadata":{
    "datalore":{
     "node_id":"0HaylGJOthWG4qoXCHXkuW",
     "type":"CODE",
     "hide_input_from_viewers":false,
     "hide_output_from_viewers":false,
     "report_properties":{
      "rowId":"OP67w0QIm5dK5Vzu1vK9lF",
      "relativeY":0
     }
    }
   }
  },
  {
   "cell_type":"code",
   "source":[
    "X_train.head()"
   ],
   "execution_count":88,
   "outputs":[
    {
     "data":{
      "text\/html":[
       "<div>\n",
       "<style scoped>\n",
       "    .dataframe tbody tr th:only-of-type {\n",
       "        vertical-align: middle;\n",
       "    }\n",
       "\n",
       "    .dataframe tbody tr th {\n",
       "        vertical-align: top;\n",
       "    }\n",
       "\n",
       "    .dataframe thead th {\n",
       "        text-align: right;\n",
       "    }\n",
       "<\/style>\n",
       "<table border=\"1\" class=\"dataframe\">\n",
       "  <thead>\n",
       "    <tr style=\"text-align: right;\">\n",
       "      <th><\/th>\n",
       "      <th>CreditScore<\/th>\n",
       "      <th>Gender<\/th>\n",
       "      <th>Age<\/th>\n",
       "      <th>Tenure<\/th>\n",
       "      <th>Balance<\/th>\n",
       "      <th>NumOfProducts<\/th>\n",
       "      <th>HasCrCard<\/th>\n",
       "      <th>IsActiveMember<\/th>\n",
       "      <th>EstimatedSalary<\/th>\n",
       "      <th>Geography_France<\/th>\n",
       "      <th>Geography_Germany<\/th>\n",
       "      <th>Geography_Spain<\/th>\n",
       "    <\/tr>\n",
       "  <\/thead>\n",
       "  <tbody>\n",
       "    <tr>\n",
       "      <th>0<\/th>\n",
       "      <td>579<\/td>\n",
       "      <td>Male<\/td>\n",
       "      <td>31<\/td>\n",
       "      <td>2<\/td>\n",
       "      <td>90547.48<\/td>\n",
       "      <td>2<\/td>\n",
       "      <td>1<\/td>\n",
       "      <td>1<\/td>\n",
       "      <td>18800.13<\/td>\n",
       "      <td>0.0<\/td>\n",
       "      <td>1.0<\/td>\n",
       "      <td>0.0<\/td>\n",
       "    <\/tr>\n",
       "    <tr>\n",
       "      <th>1<\/th>\n",
       "      <td>640<\/td>\n",
       "      <td>Female<\/td>\n",
       "      <td>29<\/td>\n",
       "      <td>4<\/td>\n",
       "      <td>0.00<\/td>\n",
       "      <td>2<\/td>\n",
       "      <td>1<\/td>\n",
       "      <td>0<\/td>\n",
       "      <td>44904.26<\/td>\n",
       "      <td>1.0<\/td>\n",
       "      <td>0.0<\/td>\n",
       "      <td>0.0<\/td>\n",
       "    <\/tr>\n",
       "    <tr>\n",
       "      <th>2<\/th>\n",
       "      <td>488<\/td>\n",
       "      <td>Male<\/td>\n",
       "      <td>32<\/td>\n",
       "      <td>3<\/td>\n",
       "      <td>114540.38<\/td>\n",
       "      <td>1<\/td>\n",
       "      <td>1<\/td>\n",
       "      <td>0<\/td>\n",
       "      <td>92568.07<\/td>\n",
       "      <td>0.0<\/td>\n",
       "      <td>1.0<\/td>\n",
       "      <td>0.0<\/td>\n",
       "    <\/tr>\n",
       "    <tr>\n",
       "      <th>3<\/th>\n",
       "      <td>587<\/td>\n",
       "      <td>Male<\/td>\n",
       "      <td>55<\/td>\n",
       "      <td>9<\/td>\n",
       "      <td>0.00<\/td>\n",
       "      <td>1<\/td>\n",
       "      <td>1<\/td>\n",
       "      <td>0<\/td>\n",
       "      <td>64593.07<\/td>\n",
       "      <td>1.0<\/td>\n",
       "      <td>0.0<\/td>\n",
       "      <td>0.0<\/td>\n",
       "    <\/tr>\n",
       "    <tr>\n",
       "      <th>4<\/th>\n",
       "      <td>516<\/td>\n",
       "      <td>Female<\/td>\n",
       "      <td>33<\/td>\n",
       "      <td>10<\/td>\n",
       "      <td>138847.90<\/td>\n",
       "      <td>1<\/td>\n",
       "      <td>1<\/td>\n",
       "      <td>1<\/td>\n",
       "      <td>127256.70<\/td>\n",
       "      <td>0.0<\/td>\n",
       "      <td>1.0<\/td>\n",
       "      <td>0.0<\/td>\n",
       "    <\/tr>\n",
       "  <\/tbody>\n",
       "<\/table>\n",
       "<\/div>"
      ]
     },
     "metadata":{},
     "output_type":"display_data"
    }
   ],
   "metadata":{
    "datalore":{
     "node_id":"eR1r17wNej1chKiz0MSg9c",
     "type":"CODE",
     "hide_input_from_viewers":false,
     "hide_output_from_viewers":false,
     "report_properties":{
      "rowId":"ElTpWzxHpxoqZHbZTz2eR3",
      "relativeY":0
     }
    }
   }
  },
  {
   "cell_type":"code",
   "source":[
    "# Ordinal encoding\n",
    "from sklearn.preprocessing import OrdinalEncoder\n",
    "\n",
    "categories = ['Gender']\n",
    "enc_oe = OrdinalEncoder()\n",
    "enc_oe.fit(X_train[categories])\n",
    "\n",
    "X_train[categories] = enc_oe.transform(X_train[categories])\n",
    "X_test[categories] = enc_oe.transform(X_test[categories])"
   ],
   "execution_count":89,
   "outputs":[],
   "metadata":{
    "datalore":{
     "node_id":"5YPzD3Mcccco4tHbgnSZYt",
     "type":"CODE",
     "hide_input_from_viewers":false,
     "hide_output_from_viewers":false,
     "report_properties":{
      "rowId":"z7Q2lYAdmY9jFGjoeTREEP",
      "relativeY":0
     }
    }
   }
  },
  {
   "cell_type":"code",
   "source":[
    "X_train.head()"
   ],
   "execution_count":90,
   "outputs":[
    {
     "data":{
      "text\/html":[
       "<div>\n",
       "<style scoped>\n",
       "    .dataframe tbody tr th:only-of-type {\n",
       "        vertical-align: middle;\n",
       "    }\n",
       "\n",
       "    .dataframe tbody tr th {\n",
       "        vertical-align: top;\n",
       "    }\n",
       "\n",
       "    .dataframe thead th {\n",
       "        text-align: right;\n",
       "    }\n",
       "<\/style>\n",
       "<table border=\"1\" class=\"dataframe\">\n",
       "  <thead>\n",
       "    <tr style=\"text-align: right;\">\n",
       "      <th><\/th>\n",
       "      <th>CreditScore<\/th>\n",
       "      <th>Gender<\/th>\n",
       "      <th>Age<\/th>\n",
       "      <th>Tenure<\/th>\n",
       "      <th>Balance<\/th>\n",
       "      <th>NumOfProducts<\/th>\n",
       "      <th>HasCrCard<\/th>\n",
       "      <th>IsActiveMember<\/th>\n",
       "      <th>EstimatedSalary<\/th>\n",
       "      <th>Geography_France<\/th>\n",
       "      <th>Geography_Germany<\/th>\n",
       "      <th>Geography_Spain<\/th>\n",
       "    <\/tr>\n",
       "  <\/thead>\n",
       "  <tbody>\n",
       "    <tr>\n",
       "      <th>0<\/th>\n",
       "      <td>579<\/td>\n",
       "      <td>1.0<\/td>\n",
       "      <td>31<\/td>\n",
       "      <td>2<\/td>\n",
       "      <td>90547.48<\/td>\n",
       "      <td>2<\/td>\n",
       "      <td>1<\/td>\n",
       "      <td>1<\/td>\n",
       "      <td>18800.13<\/td>\n",
       "      <td>0.0<\/td>\n",
       "      <td>1.0<\/td>\n",
       "      <td>0.0<\/td>\n",
       "    <\/tr>\n",
       "    <tr>\n",
       "      <th>1<\/th>\n",
       "      <td>640<\/td>\n",
       "      <td>0.0<\/td>\n",
       "      <td>29<\/td>\n",
       "      <td>4<\/td>\n",
       "      <td>0.00<\/td>\n",
       "      <td>2<\/td>\n",
       "      <td>1<\/td>\n",
       "      <td>0<\/td>\n",
       "      <td>44904.26<\/td>\n",
       "      <td>1.0<\/td>\n",
       "      <td>0.0<\/td>\n",
       "      <td>0.0<\/td>\n",
       "    <\/tr>\n",
       "    <tr>\n",
       "      <th>2<\/th>\n",
       "      <td>488<\/td>\n",
       "      <td>1.0<\/td>\n",
       "      <td>32<\/td>\n",
       "      <td>3<\/td>\n",
       "      <td>114540.38<\/td>\n",
       "      <td>1<\/td>\n",
       "      <td>1<\/td>\n",
       "      <td>0<\/td>\n",
       "      <td>92568.07<\/td>\n",
       "      <td>0.0<\/td>\n",
       "      <td>1.0<\/td>\n",
       "      <td>0.0<\/td>\n",
       "    <\/tr>\n",
       "    <tr>\n",
       "      <th>3<\/th>\n",
       "      <td>587<\/td>\n",
       "      <td>1.0<\/td>\n",
       "      <td>55<\/td>\n",
       "      <td>9<\/td>\n",
       "      <td>0.00<\/td>\n",
       "      <td>1<\/td>\n",
       "      <td>1<\/td>\n",
       "      <td>0<\/td>\n",
       "      <td>64593.07<\/td>\n",
       "      <td>1.0<\/td>\n",
       "      <td>0.0<\/td>\n",
       "      <td>0.0<\/td>\n",
       "    <\/tr>\n",
       "    <tr>\n",
       "      <th>4<\/th>\n",
       "      <td>516<\/td>\n",
       "      <td>0.0<\/td>\n",
       "      <td>33<\/td>\n",
       "      <td>10<\/td>\n",
       "      <td>138847.90<\/td>\n",
       "      <td>1<\/td>\n",
       "      <td>1<\/td>\n",
       "      <td>1<\/td>\n",
       "      <td>127256.70<\/td>\n",
       "      <td>0.0<\/td>\n",
       "      <td>1.0<\/td>\n",
       "      <td>0.0<\/td>\n",
       "    <\/tr>\n",
       "  <\/tbody>\n",
       "<\/table>\n",
       "<\/div>"
      ]
     },
     "metadata":{},
     "output_type":"display_data"
    }
   ],
   "metadata":{
    "datalore":{
     "node_id":"tEtbnM9MfVqUvHyOMO2W4k",
     "type":"CODE",
     "hide_input_from_viewers":false,
     "hide_output_from_viewers":false,
     "report_properties":{
      "rowId":"4oJYYCNi95RYWAzyd7ynVB",
      "relativeY":0
     }
    }
   }
  },
  {
   "cell_type":"code",
   "source":[
    "#Standard\n",
    "from sklearn.preprocessing import StandardScaler\n",
    "scaler = StandardScaler()\n",
    "scaler.fit(X_train[num_cols])\n",
    "\n",
    "X_train[num_cols] = scaler.transform(X_train[num_cols])\n",
    "X_test[num_cols] = scaler.transform(X_test[num_cols])"
   ],
   "execution_count":91,
   "outputs":[],
   "metadata":{
    "datalore":{
     "node_id":"FdBTSmTLbKubJGjFBK8dSb",
     "type":"CODE",
     "hide_input_from_viewers":false,
     "hide_output_from_viewers":false,
     "report_properties":{
      "rowId":"wWgHfVTkOXWZlx8a97Hn3L",
      "relativeY":0
     }
    }
   }
  },
  {
   "cell_type":"code",
   "source":[
    "X_train.head()"
   ],
   "execution_count":92,
   "outputs":[
    {
     "data":{
      "text\/html":[
       "<div>\n",
       "<style scoped>\n",
       "    .dataframe tbody tr th:only-of-type {\n",
       "        vertical-align: middle;\n",
       "    }\n",
       "\n",
       "    .dataframe tbody tr th {\n",
       "        vertical-align: top;\n",
       "    }\n",
       "\n",
       "    .dataframe thead th {\n",
       "        text-align: right;\n",
       "    }\n",
       "<\/style>\n",
       "<table border=\"1\" class=\"dataframe\">\n",
       "  <thead>\n",
       "    <tr style=\"text-align: right;\">\n",
       "      <th><\/th>\n",
       "      <th>CreditScore<\/th>\n",
       "      <th>Gender<\/th>\n",
       "      <th>Age<\/th>\n",
       "      <th>Tenure<\/th>\n",
       "      <th>Balance<\/th>\n",
       "      <th>NumOfProducts<\/th>\n",
       "      <th>HasCrCard<\/th>\n",
       "      <th>IsActiveMember<\/th>\n",
       "      <th>EstimatedSalary<\/th>\n",
       "      <th>Geography_France<\/th>\n",
       "      <th>Geography_Germany<\/th>\n",
       "      <th>Geography_Spain<\/th>\n",
       "    <\/tr>\n",
       "  <\/thead>\n",
       "  <tbody>\n",
       "    <tr>\n",
       "      <th>0<\/th>\n",
       "      <td>-0.742143<\/td>\n",
       "      <td>1.0<\/td>\n",
       "      <td>-0.759580<\/td>\n",
       "      <td>-1.041356<\/td>\n",
       "      <td>0.218456<\/td>\n",
       "      <td>0.810522<\/td>\n",
       "      <td>0.641624<\/td>\n",
       "      <td>0.973355<\/td>\n",
       "      <td>-1.416909<\/td>\n",
       "      <td>0.0<\/td>\n",
       "      <td>1.0<\/td>\n",
       "      <td>0.0<\/td>\n",
       "    <\/tr>\n",
       "    <tr>\n",
       "      <th>1<\/th>\n",
       "      <td>-0.109587<\/td>\n",
       "      <td>0.0<\/td>\n",
       "      <td>-0.950738<\/td>\n",
       "      <td>-0.350658<\/td>\n",
       "      <td>-1.231696<\/td>\n",
       "      <td>0.810522<\/td>\n",
       "      <td>0.641624<\/td>\n",
       "      <td>-1.027375<\/td>\n",
       "      <td>-0.961432<\/td>\n",
       "      <td>1.0<\/td>\n",
       "      <td>0.0<\/td>\n",
       "      <td>0.0<\/td>\n",
       "    <\/tr>\n",
       "    <tr>\n",
       "      <th>2<\/th>\n",
       "      <td>-1.685793<\/td>\n",
       "      <td>1.0<\/td>\n",
       "      <td>-0.664000<\/td>\n",
       "      <td>-0.696007<\/td>\n",
       "      <td>0.602712<\/td>\n",
       "      <td>-0.905777<\/td>\n",
       "      <td>0.641624<\/td>\n",
       "      <td>-1.027375<\/td>\n",
       "      <td>-0.129771<\/td>\n",
       "      <td>0.0<\/td>\n",
       "      <td>1.0<\/td>\n",
       "      <td>0.0<\/td>\n",
       "    <\/tr>\n",
       "    <tr>\n",
       "      <th>3<\/th>\n",
       "      <td>-0.659185<\/td>\n",
       "      <td>1.0<\/td>\n",
       "      <td>1.534320<\/td>\n",
       "      <td>1.376085<\/td>\n",
       "      <td>-1.231696<\/td>\n",
       "      <td>-0.905777<\/td>\n",
       "      <td>0.641624<\/td>\n",
       "      <td>-1.027375<\/td>\n",
       "      <td>-0.617892<\/td>\n",
       "      <td>1.0<\/td>\n",
       "      <td>0.0<\/td>\n",
       "      <td>0.0<\/td>\n",
       "    <\/tr>\n",
       "    <tr>\n",
       "      <th>4<\/th>\n",
       "      <td>-1.395439<\/td>\n",
       "      <td>0.0<\/td>\n",
       "      <td>-0.568421<\/td>\n",
       "      <td>1.721434<\/td>\n",
       "      <td>0.992006<\/td>\n",
       "      <td>-0.905777<\/td>\n",
       "      <td>0.641624<\/td>\n",
       "      <td>0.973355<\/td>\n",
       "      <td>0.475492<\/td>\n",
       "      <td>0.0<\/td>\n",
       "      <td>1.0<\/td>\n",
       "      <td>0.0<\/td>\n",
       "    <\/tr>\n",
       "  <\/tbody>\n",
       "<\/table>\n",
       "<\/div>"
      ]
     },
     "metadata":{},
     "output_type":"display_data"
    }
   ],
   "metadata":{
    "datalore":{
     "node_id":"vZZ0vrxdTZFdnNmGfu1ua6",
     "type":"CODE",
     "hide_input_from_viewers":false,
     "hide_output_from_viewers":false,
     "report_properties":{
      "rowId":"rh1Y4QaOBz3yeLCLJG4OZJ",
      "relativeY":0
     }
    }
   }
  },
  {
   "cell_type":"markdown",
   "source":[
    "# Part 3: Model Training and Result Evaluation"
   ],
   "attachments":{},
   "metadata":{
    "datalore":{
     "node_id":"bguA9ixxvcv3AJGZdGlo3k",
     "type":"MD",
     "hide_input_from_viewers":false,
     "hide_output_from_viewers":false,
     "report_properties":{
      "rowId":"AYNVaY4YZ8YGQeL15KRFyt",
      "relativeY":0
     }
    }
   }
  },
  {
   "cell_type":"code",
   "source":[
    "#build models\n",
    "from sklearn.linear_model import LogisticRegression\n",
    "from sklearn.neighbors import KNeighborsClassifier\n",
    "from sklearn.ensemble import RandomForestClassifier\n",
    "\n",
    "# Logistic Regression\n",
    "classifier_logistic = LogisticRegression()\n",
    "\n",
    "# K Nearest Neighbors\n",
    "classifier_KNN = KNeighborsClassifier()\n",
    "\n",
    "# Random Forest\n",
    "classifier_RF = RandomForestClassifier()"
   ],
   "execution_count":93,
   "outputs":[],
   "metadata":{
    "datalore":{
     "node_id":"TUcVL3Bca1z7tlvxXc4KtN",
     "type":"CODE",
     "hide_input_from_viewers":false,
     "hide_output_from_viewers":false,
     "report_properties":{
      "rowId":"MDygSnSAStFlEcv8uaM6NF",
      "relativeY":0
     }
    }
   }
  },
  {
   "cell_type":"code",
   "source":[
    "# Train the model\n",
    "classifier_logistic.fit(X_train, y_train)\n",
    "classifier_RF.fit(X_train,y_train)\n",
    "classifier_KNN.fit(X_train,y_train)"
   ],
   "execution_count":94,
   "outputs":[
    {
     "data":{
      "text\/html":[
       "<style>#sk-container-id-3 {\n",
       "  \/* Definition of color scheme common for light and dark mode *\/\n",
       "  --sklearn-color-text: #000;\n",
       "  --sklearn-color-text-muted: #666;\n",
       "  --sklearn-color-line: gray;\n",
       "  \/* Definition of color scheme for unfitted estimators *\/\n",
       "  --sklearn-color-unfitted-level-0: #fff5e6;\n",
       "  --sklearn-color-unfitted-level-1: #f6e4d2;\n",
       "  --sklearn-color-unfitted-level-2: #ffe0b3;\n",
       "  --sklearn-color-unfitted-level-3: chocolate;\n",
       "  \/* Definition of color scheme for fitted estimators *\/\n",
       "  --sklearn-color-fitted-level-0: #f0f8ff;\n",
       "  --sklearn-color-fitted-level-1: #d4ebff;\n",
       "  --sklearn-color-fitted-level-2: #b3dbfd;\n",
       "  --sklearn-color-fitted-level-3: cornflowerblue;\n",
       "\n",
       "  \/* Specific color for light theme *\/\n",
       "  --sklearn-color-text-on-default-background: var(--sg-text-color, var(--theme-code-foreground, var(--jp-content-font-color1, black)));\n",
       "  --sklearn-color-background: var(--sg-background-color, var(--theme-background, var(--jp-layout-color0, white)));\n",
       "  --sklearn-color-border-box: var(--sg-text-color, var(--theme-code-foreground, var(--jp-content-font-color1, black)));\n",
       "  --sklearn-color-icon: #696969;\n",
       "\n",
       "  @media (prefers-color-scheme: dark) {\n",
       "    \/* Redefinition of color scheme for dark theme *\/\n",
       "    --sklearn-color-text-on-default-background: var(--sg-text-color, var(--theme-code-foreground, var(--jp-content-font-color1, white)));\n",
       "    --sklearn-color-background: var(--sg-background-color, var(--theme-background, var(--jp-layout-color0, #111)));\n",
       "    --sklearn-color-border-box: var(--sg-text-color, var(--theme-code-foreground, var(--jp-content-font-color1, white)));\n",
       "    --sklearn-color-icon: #878787;\n",
       "  }\n",
       "}\n",
       "\n",
       "#sk-container-id-3 {\n",
       "  color: var(--sklearn-color-text);\n",
       "}\n",
       "\n",
       "#sk-container-id-3 pre {\n",
       "  padding: 0;\n",
       "}\n",
       "\n",
       "#sk-container-id-3 input.sk-hidden--visually {\n",
       "  border: 0;\n",
       "  clip: rect(1px 1px 1px 1px);\n",
       "  clip: rect(1px, 1px, 1px, 1px);\n",
       "  height: 1px;\n",
       "  margin: -1px;\n",
       "  overflow: hidden;\n",
       "  padding: 0;\n",
       "  position: absolute;\n",
       "  width: 1px;\n",
       "}\n",
       "\n",
       "#sk-container-id-3 div.sk-dashed-wrapped {\n",
       "  border: 1px dashed var(--sklearn-color-line);\n",
       "  margin: 0 0.4em 0.5em 0.4em;\n",
       "  box-sizing: border-box;\n",
       "  padding-bottom: 0.4em;\n",
       "  background-color: var(--sklearn-color-background);\n",
       "}\n",
       "\n",
       "#sk-container-id-3 div.sk-container {\n",
       "  \/* jupyter's `normalize.less` sets `[hidden] { display: none; }`\n",
       "     but bootstrap.min.css set `[hidden] { display: none !important; }`\n",
       "     so we also need the `!important` here to be able to override the\n",
       "     default hidden behavior on the sphinx rendered scikit-learn.org.\n",
       "     See: https:\/\/github.com\/scikit-learn\/scikit-learn\/issues\/21755 *\/\n",
       "  display: inline-block !important;\n",
       "  position: relative;\n",
       "}\n",
       "\n",
       "#sk-container-id-3 div.sk-text-repr-fallback {\n",
       "  display: none;\n",
       "}\n",
       "\n",
       "div.sk-parallel-item,\n",
       "div.sk-serial,\n",
       "div.sk-item {\n",
       "  \/* draw centered vertical line to link estimators *\/\n",
       "  background-image: linear-gradient(var(--sklearn-color-text-on-default-background), var(--sklearn-color-text-on-default-background));\n",
       "  background-size: 2px 100%;\n",
       "  background-repeat: no-repeat;\n",
       "  background-position: center center;\n",
       "}\n",
       "\n",
       "\/* Parallel-specific style estimator block *\/\n",
       "\n",
       "#sk-container-id-3 div.sk-parallel-item::after {\n",
       "  content: \"\";\n",
       "  width: 100%;\n",
       "  border-bottom: 2px solid var(--sklearn-color-text-on-default-background);\n",
       "  flex-grow: 1;\n",
       "}\n",
       "\n",
       "#sk-container-id-3 div.sk-parallel {\n",
       "  display: flex;\n",
       "  align-items: stretch;\n",
       "  justify-content: center;\n",
       "  background-color: var(--sklearn-color-background);\n",
       "  position: relative;\n",
       "}\n",
       "\n",
       "#sk-container-id-3 div.sk-parallel-item {\n",
       "  display: flex;\n",
       "  flex-direction: column;\n",
       "}\n",
       "\n",
       "#sk-container-id-3 div.sk-parallel-item:first-child::after {\n",
       "  align-self: flex-end;\n",
       "  width: 50%;\n",
       "}\n",
       "\n",
       "#sk-container-id-3 div.sk-parallel-item:last-child::after {\n",
       "  align-self: flex-start;\n",
       "  width: 50%;\n",
       "}\n",
       "\n",
       "#sk-container-id-3 div.sk-parallel-item:only-child::after {\n",
       "  width: 0;\n",
       "}\n",
       "\n",
       "\/* Serial-specific style estimator block *\/\n",
       "\n",
       "#sk-container-id-3 div.sk-serial {\n",
       "  display: flex;\n",
       "  flex-direction: column;\n",
       "  align-items: center;\n",
       "  background-color: var(--sklearn-color-background);\n",
       "  padding-right: 1em;\n",
       "  padding-left: 1em;\n",
       "}\n",
       "\n",
       "\n",
       "\/* Toggleable style: style used for estimator\/Pipeline\/ColumnTransformer box that is\n",
       "clickable and can be expanded\/collapsed.\n",
       "- Pipeline and ColumnTransformer use this feature and define the default style\n",
       "- Estimators will overwrite some part of the style using the `sk-estimator` class\n",
       "*\/\n",
       "\n",
       "\/* Pipeline and ColumnTransformer style (default) *\/\n",
       "\n",
       "#sk-container-id-3 div.sk-toggleable {\n",
       "  \/* Default theme specific background. It is overwritten whether we have a\n",
       "  specific estimator or a Pipeline\/ColumnTransformer *\/\n",
       "  background-color: var(--sklearn-color-background);\n",
       "}\n",
       "\n",
       "\/* Toggleable label *\/\n",
       "#sk-container-id-3 label.sk-toggleable__label {\n",
       "  cursor: pointer;\n",
       "  display: flex;\n",
       "  width: 100%;\n",
       "  margin-bottom: 0;\n",
       "  padding: 0.5em;\n",
       "  box-sizing: border-box;\n",
       "  text-align: center;\n",
       "  align-items: start;\n",
       "  justify-content: space-between;\n",
       "  gap: 0.5em;\n",
       "}\n",
       "\n",
       "#sk-container-id-3 label.sk-toggleable__label .caption {\n",
       "  font-size: 0.6rem;\n",
       "  font-weight: lighter;\n",
       "  color: var(--sklearn-color-text-muted);\n",
       "}\n",
       "\n",
       "#sk-container-id-3 label.sk-toggleable__label-arrow:before {\n",
       "  \/* Arrow on the left of the label *\/\n",
       "  content: \"▸\";\n",
       "  float: left;\n",
       "  margin-right: 0.25em;\n",
       "  color: var(--sklearn-color-icon);\n",
       "}\n",
       "\n",
       "#sk-container-id-3 label.sk-toggleable__label-arrow:hover:before {\n",
       "  color: var(--sklearn-color-text);\n",
       "}\n",
       "\n",
       "\/* Toggleable content - dropdown *\/\n",
       "\n",
       "#sk-container-id-3 div.sk-toggleable__content {\n",
       "  display: none;\n",
       "  text-align: left;\n",
       "  \/* unfitted *\/\n",
       "  background-color: var(--sklearn-color-unfitted-level-0);\n",
       "}\n",
       "\n",
       "#sk-container-id-3 div.sk-toggleable__content.fitted {\n",
       "  \/* fitted *\/\n",
       "  background-color: var(--sklearn-color-fitted-level-0);\n",
       "}\n",
       "\n",
       "#sk-container-id-3 div.sk-toggleable__content pre {\n",
       "  margin: 0.2em;\n",
       "  border-radius: 0.25em;\n",
       "  color: var(--sklearn-color-text);\n",
       "  \/* unfitted *\/\n",
       "  background-color: var(--sklearn-color-unfitted-level-0);\n",
       "}\n",
       "\n",
       "#sk-container-id-3 div.sk-toggleable__content.fitted pre {\n",
       "  \/* unfitted *\/\n",
       "  background-color: var(--sklearn-color-fitted-level-0);\n",
       "}\n",
       "\n",
       "#sk-container-id-3 input.sk-toggleable__control:checked~div.sk-toggleable__content {\n",
       "  \/* Expand drop-down *\/\n",
       "  display: block;\n",
       "  width: 100%;\n",
       "  overflow: visible;\n",
       "}\n",
       "\n",
       "#sk-container-id-3 input.sk-toggleable__control:checked~label.sk-toggleable__label-arrow:before {\n",
       "  content: \"▾\";\n",
       "}\n",
       "\n",
       "\/* Pipeline\/ColumnTransformer-specific style *\/\n",
       "\n",
       "#sk-container-id-3 div.sk-label input.sk-toggleable__control:checked~label.sk-toggleable__label {\n",
       "  color: var(--sklearn-color-text);\n",
       "  background-color: var(--sklearn-color-unfitted-level-2);\n",
       "}\n",
       "\n",
       "#sk-container-id-3 div.sk-label.fitted input.sk-toggleable__control:checked~label.sk-toggleable__label {\n",
       "  background-color: var(--sklearn-color-fitted-level-2);\n",
       "}\n",
       "\n",
       "\/* Estimator-specific style *\/\n",
       "\n",
       "\/* Colorize estimator box *\/\n",
       "#sk-container-id-3 div.sk-estimator input.sk-toggleable__control:checked~label.sk-toggleable__label {\n",
       "  \/* unfitted *\/\n",
       "  background-color: var(--sklearn-color-unfitted-level-2);\n",
       "}\n",
       "\n",
       "#sk-container-id-3 div.sk-estimator.fitted input.sk-toggleable__control:checked~label.sk-toggleable__label {\n",
       "  \/* fitted *\/\n",
       "  background-color: var(--sklearn-color-fitted-level-2);\n",
       "}\n",
       "\n",
       "#sk-container-id-3 div.sk-label label.sk-toggleable__label,\n",
       "#sk-container-id-3 div.sk-label label {\n",
       "  \/* The background is the default theme color *\/\n",
       "  color: var(--sklearn-color-text-on-default-background);\n",
       "}\n",
       "\n",
       "\/* On hover, darken the color of the background *\/\n",
       "#sk-container-id-3 div.sk-label:hover label.sk-toggleable__label {\n",
       "  color: var(--sklearn-color-text);\n",
       "  background-color: var(--sklearn-color-unfitted-level-2);\n",
       "}\n",
       "\n",
       "\/* Label box, darken color on hover, fitted *\/\n",
       "#sk-container-id-3 div.sk-label.fitted:hover label.sk-toggleable__label.fitted {\n",
       "  color: var(--sklearn-color-text);\n",
       "  background-color: var(--sklearn-color-fitted-level-2);\n",
       "}\n",
       "\n",
       "\/* Estimator label *\/\n",
       "\n",
       "#sk-container-id-3 div.sk-label label {\n",
       "  font-family: monospace;\n",
       "  font-weight: bold;\n",
       "  display: inline-block;\n",
       "  line-height: 1.2em;\n",
       "}\n",
       "\n",
       "#sk-container-id-3 div.sk-label-container {\n",
       "  text-align: center;\n",
       "}\n",
       "\n",
       "\/* Estimator-specific *\/\n",
       "#sk-container-id-3 div.sk-estimator {\n",
       "  font-family: monospace;\n",
       "  border: 1px dotted var(--sklearn-color-border-box);\n",
       "  border-radius: 0.25em;\n",
       "  box-sizing: border-box;\n",
       "  margin-bottom: 0.5em;\n",
       "  \/* unfitted *\/\n",
       "  background-color: var(--sklearn-color-unfitted-level-0);\n",
       "}\n",
       "\n",
       "#sk-container-id-3 div.sk-estimator.fitted {\n",
       "  \/* fitted *\/\n",
       "  background-color: var(--sklearn-color-fitted-level-0);\n",
       "}\n",
       "\n",
       "\/* on hover *\/\n",
       "#sk-container-id-3 div.sk-estimator:hover {\n",
       "  \/* unfitted *\/\n",
       "  background-color: var(--sklearn-color-unfitted-level-2);\n",
       "}\n",
       "\n",
       "#sk-container-id-3 div.sk-estimator.fitted:hover {\n",
       "  \/* fitted *\/\n",
       "  background-color: var(--sklearn-color-fitted-level-2);\n",
       "}\n",
       "\n",
       "\/* Specification for estimator info (e.g. \"i\" and \"?\") *\/\n",
       "\n",
       "\/* Common style for \"i\" and \"?\" *\/\n",
       "\n",
       ".sk-estimator-doc-link,\n",
       "a:link.sk-estimator-doc-link,\n",
       "a:visited.sk-estimator-doc-link {\n",
       "  float: right;\n",
       "  font-size: smaller;\n",
       "  line-height: 1em;\n",
       "  font-family: monospace;\n",
       "  background-color: var(--sklearn-color-background);\n",
       "  border-radius: 1em;\n",
       "  height: 1em;\n",
       "  width: 1em;\n",
       "  text-decoration: none !important;\n",
       "  margin-left: 0.5em;\n",
       "  text-align: center;\n",
       "  \/* unfitted *\/\n",
       "  border: var(--sklearn-color-unfitted-level-1) 1pt solid;\n",
       "  color: var(--sklearn-color-unfitted-level-1);\n",
       "}\n",
       "\n",
       ".sk-estimator-doc-link.fitted,\n",
       "a:link.sk-estimator-doc-link.fitted,\n",
       "a:visited.sk-estimator-doc-link.fitted {\n",
       "  \/* fitted *\/\n",
       "  border: var(--sklearn-color-fitted-level-1) 1pt solid;\n",
       "  color: var(--sklearn-color-fitted-level-1);\n",
       "}\n",
       "\n",
       "\/* On hover *\/\n",
       "div.sk-estimator:hover .sk-estimator-doc-link:hover,\n",
       ".sk-estimator-doc-link:hover,\n",
       "div.sk-label-container:hover .sk-estimator-doc-link:hover,\n",
       ".sk-estimator-doc-link:hover {\n",
       "  \/* unfitted *\/\n",
       "  background-color: var(--sklearn-color-unfitted-level-3);\n",
       "  color: var(--sklearn-color-background);\n",
       "  text-decoration: none;\n",
       "}\n",
       "\n",
       "div.sk-estimator.fitted:hover .sk-estimator-doc-link.fitted:hover,\n",
       ".sk-estimator-doc-link.fitted:hover,\n",
       "div.sk-label-container:hover .sk-estimator-doc-link.fitted:hover,\n",
       ".sk-estimator-doc-link.fitted:hover {\n",
       "  \/* fitted *\/\n",
       "  background-color: var(--sklearn-color-fitted-level-3);\n",
       "  color: var(--sklearn-color-background);\n",
       "  text-decoration: none;\n",
       "}\n",
       "\n",
       "\/* Span, style for the box shown on hovering the info icon *\/\n",
       ".sk-estimator-doc-link span {\n",
       "  display: none;\n",
       "  z-index: 9999;\n",
       "  position: relative;\n",
       "  font-weight: normal;\n",
       "  right: .2ex;\n",
       "  padding: .5ex;\n",
       "  margin: .5ex;\n",
       "  width: min-content;\n",
       "  min-width: 20ex;\n",
       "  max-width: 50ex;\n",
       "  color: var(--sklearn-color-text);\n",
       "  box-shadow: 2pt 2pt 4pt #999;\n",
       "  \/* unfitted *\/\n",
       "  background: var(--sklearn-color-unfitted-level-0);\n",
       "  border: .5pt solid var(--sklearn-color-unfitted-level-3);\n",
       "}\n",
       "\n",
       ".sk-estimator-doc-link.fitted span {\n",
       "  \/* fitted *\/\n",
       "  background: var(--sklearn-color-fitted-level-0);\n",
       "  border: var(--sklearn-color-fitted-level-3);\n",
       "}\n",
       "\n",
       ".sk-estimator-doc-link:hover span {\n",
       "  display: block;\n",
       "}\n",
       "\n",
       "\/* \"?\"-specific style due to the `<a>` HTML tag *\/\n",
       "\n",
       "#sk-container-id-3 a.estimator_doc_link {\n",
       "  float: right;\n",
       "  font-size: 1rem;\n",
       "  line-height: 1em;\n",
       "  font-family: monospace;\n",
       "  background-color: var(--sklearn-color-background);\n",
       "  border-radius: 1rem;\n",
       "  height: 1rem;\n",
       "  width: 1rem;\n",
       "  text-decoration: none;\n",
       "  \/* unfitted *\/\n",
       "  color: var(--sklearn-color-unfitted-level-1);\n",
       "  border: var(--sklearn-color-unfitted-level-1) 1pt solid;\n",
       "}\n",
       "\n",
       "#sk-container-id-3 a.estimator_doc_link.fitted {\n",
       "  \/* fitted *\/\n",
       "  border: var(--sklearn-color-fitted-level-1) 1pt solid;\n",
       "  color: var(--sklearn-color-fitted-level-1);\n",
       "}\n",
       "\n",
       "\/* On hover *\/\n",
       "#sk-container-id-3 a.estimator_doc_link:hover {\n",
       "  \/* unfitted *\/\n",
       "  background-color: var(--sklearn-color-unfitted-level-3);\n",
       "  color: var(--sklearn-color-background);\n",
       "  text-decoration: none;\n",
       "}\n",
       "\n",
       "#sk-container-id-3 a.estimator_doc_link.fitted:hover {\n",
       "  \/* fitted *\/\n",
       "  background-color: var(--sklearn-color-fitted-level-3);\n",
       "}\n",
       "\n",
       ".estimator-table summary {\n",
       "    padding: .5rem;\n",
       "    font-family: monospace;\n",
       "    cursor: pointer;\n",
       "}\n",
       "\n",
       ".estimator-table details[open] {\n",
       "    padding-left: 0.1rem;\n",
       "    padding-right: 0.1rem;\n",
       "    padding-bottom: 0.3rem;\n",
       "}\n",
       "\n",
       ".estimator-table .parameters-table {\n",
       "    margin-left: auto !important;\n",
       "    margin-right: auto !important;\n",
       "}\n",
       "\n",
       ".estimator-table .parameters-table tr:nth-child(odd) {\n",
       "    background-color: #fff;\n",
       "}\n",
       "\n",
       ".estimator-table .parameters-table tr:nth-child(even) {\n",
       "    background-color: #f6f6f6;\n",
       "}\n",
       "\n",
       ".estimator-table .parameters-table tr:hover {\n",
       "    background-color: #e0e0e0;\n",
       "}\n",
       "\n",
       ".estimator-table table td {\n",
       "    border: 1px solid rgba(106, 105, 104, 0.232);\n",
       "}\n",
       "\n",
       ".user-set td {\n",
       "    color:rgb(255, 94, 0);\n",
       "    text-align: left;\n",
       "}\n",
       "\n",
       ".user-set td.value pre {\n",
       "    color:rgb(255, 94, 0) !important;\n",
       "    background-color: transparent !important;\n",
       "}\n",
       "\n",
       ".default td {\n",
       "    color: black;\n",
       "    text-align: left;\n",
       "}\n",
       "\n",
       ".user-set td i,\n",
       ".default td i {\n",
       "    color: black;\n",
       "}\n",
       "\n",
       ".copy-paste-icon {\n",
       "    background-image: url(data:image\/svg+xml;base64,PHN2ZyB4bWxucz0iaHR0cDovL3d3dy53My5vcmcvMjAwMC9zdmciIHZpZXdCb3g9IjAgMCA0NDggNTEyIj48IS0tIUZvbnQgQXdlc29tZSBGcmVlIDYuNy4yIGJ5IEBmb250YXdlc29tZSAtIGh0dHBzOi8vZm9udGF3ZXNvbWUuY29tIExpY2Vuc2UgLSBodHRwczovL2ZvbnRhd2Vzb21lLmNvbS9saWNlbnNlL2ZyZWUgQ29weXJpZ2h0IDIwMjUgRm9udGljb25zLCBJbmMuLS0+PHBhdGggZD0iTTIwOCAwTDMzMi4xIDBjMTIuNyAwIDI0LjkgNS4xIDMzLjkgMTQuMWw2Ny45IDY3LjljOSA5IDE0LjEgMjEuMiAxNC4xIDMzLjlMNDQ4IDMzNmMwIDI2LjUtMjEuNSA0OC00OCA0OGwtMTkyIDBjLTI2LjUgMC00OC0yMS41LTQ4LTQ4bDAtMjg4YzAtMjYuNSAyMS41LTQ4IDQ4LTQ4ek00OCAxMjhsODAgMCAwIDY0LTY0IDAgMCAyNTYgMTkyIDAgMC0zMiA2NCAwIDAgNDhjMCAyNi41LTIxLjUgNDgtNDggNDhMNDggNTEyYy0yNi41IDAtNDgtMjEuNS00OC00OEwwIDE3NmMwLTI2LjUgMjEuNS00OCA0OC00OHoiLz48L3N2Zz4=);\n",
       "    background-repeat: no-repeat;\n",
       "    background-size: 14px 14px;\n",
       "    background-position: 0;\n",
       "    display: inline-block;\n",
       "    width: 14px;\n",
       "    height: 14px;\n",
       "    cursor: pointer;\n",
       "}\n",
       "<\/style><body><div id=\"sk-container-id-3\" class=\"sk-top-container\"><div class=\"sk-text-repr-fallback\"><pre>KNeighborsClassifier()<\/pre><b>In a Jupyter environment, please rerun this cell to show the HTML representation or trust the notebook. <br \/>On GitHub, the HTML representation is unable to render, please try loading this page with nbviewer.org.<\/b><\/div><div class=\"sk-container\" hidden><div class=\"sk-item\"><div class=\"sk-estimator fitted sk-toggleable\"><input class=\"sk-toggleable__control sk-hidden--visually\" id=\"sk-estimator-id-3\" type=\"checkbox\" checked><label for=\"sk-estimator-id-3\" class=\"sk-toggleable__label fitted sk-toggleable__label-arrow\"><div><div>KNeighborsClassifier<\/div><\/div><div><a class=\"sk-estimator-doc-link fitted\" rel=\"noreferrer\" target=\"_blank\" href=\"https:\/\/scikit-learn.org\/1.7\/modules\/generated\/sklearn.neighbors.KNeighborsClassifier.html\">?<span>Documentation for KNeighborsClassifier<\/span><\/a><span class=\"sk-estimator-doc-link fitted\">i<span>Fitted<\/span><\/span><\/div><\/label><div class=\"sk-toggleable__content fitted\" data-param-prefix=\"\">\n",
       "        <div class=\"estimator-table\">\n",
       "            <details>\n",
       "                <summary>Parameters<\/summary>\n",
       "                <table class=\"parameters-table\">\n",
       "                  <tbody>\n",
       "                    \n",
       "        <tr class=\"default\">\n",
       "            <td><i class=\"copy-paste-icon\"\n",
       "                 onclick=\"copyToClipboard('n_neighbors',\n",
       "                          this.parentElement.nextElementSibling)\"\n",
       "            ><\/i><\/td>\n",
       "            <td class=\"param\">n_neighbors&nbsp;<\/td>\n",
       "            <td class=\"value\">5<\/td>\n",
       "        <\/tr>\n",
       "    \n",
       "\n",
       "        <tr class=\"default\">\n",
       "            <td><i class=\"copy-paste-icon\"\n",
       "                 onclick=\"copyToClipboard('weights',\n",
       "                          this.parentElement.nextElementSibling)\"\n",
       "            ><\/i><\/td>\n",
       "            <td class=\"param\">weights&nbsp;<\/td>\n",
       "            <td class=\"value\">&#x27;uniform&#x27;<\/td>\n",
       "        <\/tr>\n",
       "    \n",
       "\n",
       "        <tr class=\"default\">\n",
       "            <td><i class=\"copy-paste-icon\"\n",
       "                 onclick=\"copyToClipboard('algorithm',\n",
       "                          this.parentElement.nextElementSibling)\"\n",
       "            ><\/i><\/td>\n",
       "            <td class=\"param\">algorithm&nbsp;<\/td>\n",
       "            <td class=\"value\">&#x27;auto&#x27;<\/td>\n",
       "        <\/tr>\n",
       "    \n",
       "\n",
       "        <tr class=\"default\">\n",
       "            <td><i class=\"copy-paste-icon\"\n",
       "                 onclick=\"copyToClipboard('leaf_size',\n",
       "                          this.parentElement.nextElementSibling)\"\n",
       "            ><\/i><\/td>\n",
       "            <td class=\"param\">leaf_size&nbsp;<\/td>\n",
       "            <td class=\"value\">30<\/td>\n",
       "        <\/tr>\n",
       "    \n",
       "\n",
       "        <tr class=\"default\">\n",
       "            <td><i class=\"copy-paste-icon\"\n",
       "                 onclick=\"copyToClipboard('p',\n",
       "                          this.parentElement.nextElementSibling)\"\n",
       "            ><\/i><\/td>\n",
       "            <td class=\"param\">p&nbsp;<\/td>\n",
       "            <td class=\"value\">2<\/td>\n",
       "        <\/tr>\n",
       "    \n",
       "\n",
       "        <tr class=\"default\">\n",
       "            <td><i class=\"copy-paste-icon\"\n",
       "                 onclick=\"copyToClipboard('metric',\n",
       "                          this.parentElement.nextElementSibling)\"\n",
       "            ><\/i><\/td>\n",
       "            <td class=\"param\">metric&nbsp;<\/td>\n",
       "            <td class=\"value\">&#x27;minkowski&#x27;<\/td>\n",
       "        <\/tr>\n",
       "    \n",
       "\n",
       "        <tr class=\"default\">\n",
       "            <td><i class=\"copy-paste-icon\"\n",
       "                 onclick=\"copyToClipboard('metric_params',\n",
       "                          this.parentElement.nextElementSibling)\"\n",
       "            ><\/i><\/td>\n",
       "            <td class=\"param\">metric_params&nbsp;<\/td>\n",
       "            <td class=\"value\">None<\/td>\n",
       "        <\/tr>\n",
       "    \n",
       "\n",
       "        <tr class=\"default\">\n",
       "            <td><i class=\"copy-paste-icon\"\n",
       "                 onclick=\"copyToClipboard('n_jobs',\n",
       "                          this.parentElement.nextElementSibling)\"\n",
       "            ><\/i><\/td>\n",
       "            <td class=\"param\">n_jobs&nbsp;<\/td>\n",
       "            <td class=\"value\">None<\/td>\n",
       "        <\/tr>\n",
       "    \n",
       "                  <\/tbody>\n",
       "                <\/table>\n",
       "            <\/details>\n",
       "        <\/div>\n",
       "    <\/div><\/div><\/div><\/div><\/div><script>function copyToClipboard(text, element) {\n",
       "    \/\/ Get the parameter prefix from the closest toggleable content\n",
       "    const toggleableContent = element.closest('.sk-toggleable__content');\n",
       "    const paramPrefix = toggleableContent ? toggleableContent.dataset.paramPrefix : '';\n",
       "    const fullParamName = paramPrefix ? `${paramPrefix}${text}` : text;\n",
       "\n",
       "    const originalStyle = element.style;\n",
       "    const computedStyle = window.getComputedStyle(element);\n",
       "    const originalWidth = computedStyle.width;\n",
       "    const originalHTML = element.innerHTML.replace('Copied!', '');\n",
       "\n",
       "    navigator.clipboard.writeText(fullParamName)\n",
       "        .then(() => {\n",
       "            element.style.width = originalWidth;\n",
       "            element.style.color = 'green';\n",
       "            element.innerHTML = \"Copied!\";\n",
       "\n",
       "            setTimeout(() => {\n",
       "                element.innerHTML = originalHTML;\n",
       "                element.style = originalStyle;\n",
       "            }, 2000);\n",
       "        })\n",
       "        .catch(err => {\n",
       "            console.error('Failed to copy:', err);\n",
       "            element.style.color = 'red';\n",
       "            element.innerHTML = \"Failed!\";\n",
       "            setTimeout(() => {\n",
       "                element.innerHTML = originalHTML;\n",
       "                element.style = originalStyle;\n",
       "            }, 2000);\n",
       "        });\n",
       "    return false;\n",
       "}\n",
       "\n",
       "document.querySelectorAll('.fa-regular.fa-copy').forEach(function(element) {\n",
       "    const toggleableContent = element.closest('.sk-toggleable__content');\n",
       "    const paramPrefix = toggleableContent ? toggleableContent.dataset.paramPrefix : '';\n",
       "    const paramName = element.parentElement.nextElementSibling.textContent.trim();\n",
       "    const fullParamName = paramPrefix ? `${paramPrefix}${paramName}` : paramName;\n",
       "\n",
       "    element.setAttribute('title', fullParamName);\n",
       "});\n",
       "<\/script><\/body>"
      ]
     },
     "metadata":{},
     "output_type":"display_data"
    }
   ],
   "metadata":{
    "datalore":{
     "node_id":"w9z3jatAb3eeXinrtThVkA",
     "type":"CODE",
     "hide_input_from_viewers":false,
     "hide_output_from_viewers":false,
     "report_properties":{
      "rowId":"lHswdTecn0UKEmPvQVpYHZ",
      "relativeY":0
     }
    }
   }
  },
  {
   "cell_type":"code",
   "source":[
    "# Prediction of logistic regression\n",
    "classifier_logistic.predict(X_test)"
   ],
   "execution_count":95,
   "outputs":[
    {
     "data":{
      "text\/html":[
       "<pre>array([0, 0, 0, ..., 0, 0, 0])<\/pre>"
      ]
     },
     "metadata":{},
     "output_type":"display_data"
    }
   ],
   "metadata":{
    "datalore":{
     "node_id":"6clJgcf5OYONfKkt1Lz6on",
     "type":"CODE",
     "hide_input_from_viewers":false,
     "hide_output_from_viewers":false,
     "report_properties":{
      "rowId":"iVvMKJeoq2IE8LWbOOZZvJ",
      "relativeY":0
     }
    }
   }
  },
  {
   "cell_type":"code",
   "source":[
    "# Prediction of KNN\n",
    "classifier_KNN.predict(X_test)"
   ],
   "execution_count":96,
   "outputs":[
    {
     "data":{
      "text\/html":[
       "<pre>array([0, 0, 0, ..., 0, 0, 1])<\/pre>"
      ]
     },
     "metadata":{},
     "output_type":"display_data"
    }
   ],
   "metadata":{
    "datalore":{
     "node_id":"i1DGU0IAQEwUxd0mtLu25Q",
     "type":"CODE",
     "hide_input_from_viewers":false,
     "hide_output_from_viewers":false,
     "report_properties":{
      "rowId":"E9rdC0mo9e72OPHMQmKZUV",
      "relativeY":0
     }
    }
   }
  },
  {
   "cell_type":"code",
   "source":[
    "# Prediction of random forest\n",
    "classifier_RF.predict(X_test)"
   ],
   "execution_count":97,
   "outputs":[
    {
     "data":{
      "text\/html":[
       "<pre>array([0, 0, 0, ..., 0, 0, 1])<\/pre>"
      ]
     },
     "metadata":{},
     "output_type":"display_data"
    }
   ],
   "metadata":{
    "datalore":{
     "node_id":"2YYtUMzGR8zkWoxiSnhxjq",
     "type":"CODE",
     "hide_input_from_viewers":false,
     "hide_output_from_viewers":false,
     "report_properties":{
      "rowId":"c3W3SGENe4xuprVenW2Ueo",
      "relativeY":0
     }
    }
   }
  },
  {
   "cell_type":"markdown",
   "source":[
    "**In order to prevent overfitting as well as find the best model,we need to find a better parameter**"
   ],
   "attachments":{},
   "metadata":{
    "datalore":{
     "node_id":"J2n4FbuZ2PJ7UCI4F1eum6",
     "type":"MD",
     "hide_input_from_viewers":false,
     "hide_output_from_viewers":false,
     "report_properties":{
      "rowId":"jg2bh5VjNhSrKvBS8sBapS",
      "relativeY":0
     }
    }
   }
  },
  {
   "cell_type":"code",
   "source":[
    "from sklearn.model_selection import GridSearchCV\n",
    "\n",
    "# helper function for printing out grid search results\n",
    "def print_grid_search_metrics(gs):\n",
    "    print (\"Best score: \" + str(gs.best_score_))\n",
    "    print (\"Best parameters set:\")\n",
    "    best_parameters = gs.best_params_\n",
    "    for param_name in sorted(best_parameters.keys()):\n",
    "        print(param_name + ':' + str(best_parameters[param_name]))"
   ],
   "execution_count":98,
   "outputs":[],
   "metadata":{
    "datalore":{
     "node_id":"SC2qcgfRvHvvm98U5Ynv4j",
     "type":"CODE",
     "hide_input_from_viewers":false,
     "hide_output_from_viewers":false,
     "report_properties":{
      "rowId":"PLRvQf7U2mVCFt07wy0F05",
      "relativeY":0
     }
    }
   }
  },
  {
   "cell_type":"code",
   "source":[
    "#Logistic Regression（Regularization）\n",
    "parameters = {\n",
    "    'penalty':('l2','l1'),\n",
    "    'C':(0.01, 0.05, 0.1, 0.2, 1)\n",
    "}\n",
    "\n",
    "Grid_LR = GridSearchCV(LogisticRegression(solver='liblinear'),parameters, cv = 5)\n",
    "Grid_LR.fit(X_train, y_train)\n",
    "print_grid_search_metrics(Grid_LR)"
   ],
   "execution_count":99,
   "outputs":[
    {
     "name":"stdout",
     "text":[
      "Best score: 0.814875\n",
      "Best parameters set:\n",
      "C:0.05\n",
      "penalty:l1\n"
     ],
     "output_type":"stream"
    }
   ],
   "metadata":{
    "datalore":{
     "node_id":"K9tFM12qaxboMzkU7CkeIc",
     "type":"CODE",
     "hide_input_from_viewers":false,
     "hide_output_from_viewers":false,
     "report_properties":{
      "rowId":"MkxFul5xuZ6Xit1a5ugpKP",
      "relativeY":0
     }
    }
   }
  },
  {
   "cell_type":"code",
   "source":[
    "best_LR_model = Grid_LR.best_estimator_"
   ],
   "execution_count":100,
   "outputs":[],
   "metadata":{
    "datalore":{
     "node_id":"FiigpKLH9t8xhiww1IHiQn",
     "type":"CODE",
     "hide_input_from_viewers":false,
     "hide_output_from_viewers":false,
     "report_properties":{
      "rowId":"BQQJAYRfSR159NN3YWw5sA",
      "relativeY":0
     }
    }
   }
  },
  {
   "cell_type":"code",
   "source":[
    "best_LR_model.predict(X_test)"
   ],
   "execution_count":101,
   "outputs":[
    {
     "data":{
      "text\/html":[
       "<pre>array([0, 0, 0, ..., 0, 0, 0])<\/pre>"
      ]
     },
     "metadata":{},
     "output_type":"display_data"
    }
   ],
   "metadata":{
    "datalore":{
     "node_id":"lBOCqNd4VUZEYiYQFNzktZ",
     "type":"CODE",
     "hide_input_from_viewers":false,
     "hide_output_from_viewers":false,
     "report_properties":{
      "rowId":"Ndfm7FaMeFlrPC4OknoRSs",
      "relativeY":0
     }
    }
   }
  },
  {
   "cell_type":"code",
   "source":[
    "best_LR_model.score(X_test, y_test)"
   ],
   "execution_count":102,
   "outputs":[
    {
     "data":{
      "text\/plain":[
       "0.802"
      ]
     },
     "metadata":{},
     "output_type":"display_data"
    }
   ],
   "metadata":{
    "datalore":{
     "node_id":"wSUDC3JzR5Mo08nt9mZjDO",
     "type":"CODE",
     "hide_input_from_viewers":false,
     "hide_output_from_viewers":false,
     "report_properties":{
      "rowId":"Kwu13KWbH4foRb9sNtAy2l",
      "relativeY":0
     }
    }
   }
  },
  {
   "cell_type":"code",
   "source":[
    "LR_models = pd.DataFrame(Grid_LR.cv_results_)\n",
    "res = (LR_models.pivot(index='param_penalty', columns='param_C', values='mean_test_score'))\n",
    "_ = sns.heatmap(res, cmap='viridis')"
   ],
   "execution_count":103,
   "outputs":[
    {
     "data":{
      "image\/png":"[encoded data removed]"
     },
     "metadata":{
      "image\/png":{}
     },
     "output_type":"display_data"
    }
   ],
   "metadata":{
    "datalore":{
     "node_id":"EhquPr9JRmL7FVi4PtVBPw",
     "type":"CODE",
     "hide_input_from_viewers":false,
     "hide_output_from_viewers":false,
     "report_properties":{
      "rowId":"KY4zdtJDEtZtgLZakII03k",
      "relativeY":0
     }
    }
   }
  },
  {
   "cell_type":"markdown",
   "source":[
    "It can be seen that there is a difference in the performance of different C values under L1 and L2, with the best performance at l1 and C=0.01, which is 0.802 as mentioned above"
   ],
   "attachments":{},
   "metadata":{
    "datalore":{
     "node_id":"YOGHFhkiZvicZpKKydSuNW",
     "type":"MD",
     "hide_input_from_viewers":false,
     "hide_output_from_viewers":false,
     "report_properties":{
      "rowId":"mr3tAoqe5cX1yltrR5TNGG",
      "relativeY":0
     }
    }
   }
  },
  {
   "cell_type":"code",
   "source":[
    "#KNN\n",
    "parameters = {\n",
    "    'n_neighbors':[1,3,5,7,9]\n",
    "}\n",
    "Grid_KNN = GridSearchCV(KNeighborsClassifier(),parameters, cv=5)\n",
    "Grid_KNN.fit(X_train, y_train)\n",
    "print_grid_search_metrics(Grid_KNN)"
   ],
   "execution_count":104,
   "outputs":[
    {
     "name":"stdout",
     "text":[
      "Best score: 0.844\n",
      "Best parameters set:\n",
      "n_neighbors:9\n"
     ],
     "output_type":"stream"
    }
   ],
   "metadata":{
    "datalore":{
     "node_id":"ufJQuzwRgob8983K54CJsw",
     "type":"CODE",
     "hide_input_from_viewers":false,
     "hide_output_from_viewers":false,
     "report_properties":{
      "rowId":"i4J65nqQD10I2Sl05dHCeV",
      "relativeY":0
     }
    }
   }
  },
  {
   "cell_type":"code",
   "source":[
    "best_KNN_model = Grid_KNN.best_estimator_\n",
    "best_KNN_model.predict(X_test)"
   ],
   "execution_count":105,
   "outputs":[
    {
     "data":{
      "text\/html":[
       "<pre>array([0, 0, 0, ..., 0, 0, 1])<\/pre>"
      ]
     },
     "metadata":{},
     "output_type":"display_data"
    }
   ],
   "metadata":{
    "datalore":{
     "node_id":"kjjsZA192y9dUVXArSKHVV",
     "type":"CODE",
     "hide_input_from_viewers":false,
     "hide_output_from_viewers":false,
     "report_properties":{
      "rowId":"ESHdQhrFwu2gHvGh1cbsK8",
      "relativeY":0
     }
    }
   }
  },
  {
   "cell_type":"code",
   "source":[
    "best_KNN_model.score(X_test, y_test)"
   ],
   "execution_count":106,
   "outputs":[
    {
     "data":{
      "text\/plain":[
       "0.8385"
      ]
     },
     "metadata":{},
     "output_type":"display_data"
    }
   ],
   "metadata":{
    "datalore":{
     "node_id":"O56V2I6A2x4lBg2wlbjWEi",
     "type":"CODE",
     "hide_input_from_viewers":false,
     "hide_output_from_viewers":false,
     "report_properties":{
      "rowId":"fsbLWi2cjjGhJDsZjFharG",
      "relativeY":0
     }
    }
   }
  },
  {
   "cell_type":"code",
   "source":[
    "#Random Forest\n",
    "parameters = {\n",
    "    'n_estimators' : [60,80,100],\n",
    "    'max_depth': [1,5,10]\n",
    "}\n",
    "Grid_RF = GridSearchCV(RandomForestClassifier(),parameters, cv=5)\n",
    "Grid_RF.fit(X_train, y_train)\n",
    "print_grid_search_metrics(Grid_RF)"
   ],
   "execution_count":107,
   "outputs":[
    {
     "name":"stdout",
     "text":[
      "Best score: 0.866375\n",
      "Best parameters set:\n",
      "max_depth:10\n",
      "n_estimators:80\n"
     ],
     "output_type":"stream"
    }
   ],
   "metadata":{
    "datalore":{
     "node_id":"j1ieALbUBihSYxpjIx0BRv",
     "type":"CODE",
     "hide_input_from_viewers":false,
     "hide_output_from_viewers":false,
     "report_properties":{
      "rowId":"hyR4NfSTYu4B7SdZDLXJqb",
      "relativeY":0
     }
    }
   }
  },
  {
   "cell_type":"code",
   "source":[
    "best_RF_model = Grid_RF.best_estimator_\n",
    "best_RF_model.score(X_test, y_test)"
   ],
   "execution_count":108,
   "outputs":[
    {
     "data":{
      "text\/plain":[
       "0.862"
      ]
     },
     "metadata":{},
     "output_type":"display_data"
    }
   ],
   "metadata":{
    "datalore":{
     "node_id":"qJuec3lpxRWfGg5BoTYyRp",
     "type":"CODE",
     "hide_input_from_viewers":false,
     "hide_output_from_viewers":false,
     "report_properties":{
      "rowId":"dEgVDLAM0YTjBSWp6hI7fH",
      "relativeY":0
     }
    }
   }
  },
  {
   "cell_type":"code",
   "source":[
    "Prediction_logistic = best_LR_model.predict(X_test)\n",
    "Prediction_KNN = best_KNN_model.predict(X_test)\n",
    "Prediction_RF = best_RF_model.predict(X_test)"
   ],
   "execution_count":109,
   "outputs":[],
   "metadata":{
    "datalore":{
     "node_id":"vwMQk3aVk8oP3KLE3CJzRA",
     "type":"CODE",
     "hide_input_from_viewers":false,
     "hide_output_from_viewers":false,
     "report_properties":{
      "rowId":"jo4WAEXCDXgccqnqEhkwTd",
      "relativeY":0
     }
    }
   }
  },
  {
   "cell_type":"code",
   "source":[
    "from sklearn.metrics import classification_report\n",
    "print(classification_report(y_test, Prediction_logistic))"
   ],
   "execution_count":110,
   "outputs":[
    {
     "name":"stdout",
     "text":[
      "              precision    recall  f1-score   support\n",
      "\n",
      "           0       0.82      0.96      0.89      1593\n",
      "           1       0.54      0.16      0.25       407\n",
      "\n",
      "    accuracy                           0.80      2000\n",
      "   macro avg       0.68      0.56      0.57      2000\n",
      "weighted avg       0.76      0.80      0.76      2000\n",
      "\n"
     ],
     "output_type":"stream"
    }
   ],
   "metadata":{
    "datalore":{
     "node_id":"5LPWqQMSUaVRSaI6W7mAu5",
     "type":"CODE",
     "hide_input_from_viewers":false,
     "hide_output_from_viewers":false,
     "report_properties":{
      "rowId":"X8htNULY01EeHOzkn8nbId",
      "relativeY":0
     }
    }
   }
  },
  {
   "cell_type":"code",
   "source":[
    "print(classification_report(y_test, Prediction_KNN))"
   ],
   "execution_count":111,
   "outputs":[
    {
     "name":"stdout",
     "text":[
      "              precision    recall  f1-score   support\n",
      "\n",
      "           0       0.85      0.96      0.90      1593\n",
      "           1       0.71      0.35      0.47       407\n",
      "\n",
      "    accuracy                           0.84      2000\n",
      "   macro avg       0.78      0.66      0.69      2000\n",
      "weighted avg       0.82      0.84      0.82      2000\n",
      "\n"
     ],
     "output_type":"stream"
    }
   ],
   "metadata":{
    "datalore":{
     "node_id":"iIep6P9LfWHmLDNEKqDPcl",
     "type":"CODE",
     "hide_input_from_viewers":false,
     "hide_output_from_viewers":false,
     "report_properties":{
      "rowId":"FncSxRyOKBic2GcZAiiTMy",
      "relativeY":0
     }
    }
   }
  },
  {
   "cell_type":"code",
   "source":[
    "print(classification_report(y_test, Prediction_RF))"
   ],
   "execution_count":112,
   "outputs":[
    {
     "name":"stdout",
     "text":[
      "              precision    recall  f1-score   support\n",
      "\n",
      "           0       0.87      0.97      0.92      1593\n",
      "           1       0.81      0.42      0.55       407\n",
      "\n",
      "    accuracy                           0.86      2000\n",
      "   macro avg       0.84      0.70      0.74      2000\n",
      "weighted avg       0.86      0.86      0.84      2000\n",
      "\n"
     ],
     "output_type":"stream"
    }
   ],
   "metadata":{
    "datalore":{
     "node_id":"MxvmyvFBa5hViafOH4tPRp",
     "type":"CODE",
     "hide_input_from_viewers":false,
     "hide_output_from_viewers":false,
     "report_properties":{
      "rowId":"dsUJtZEhiLiN9aqbydUMgp",
      "relativeY":0
     }
    }
   }
  },
  {
   "cell_type":"markdown",
   "source":[
    "Overall, in terms of precision, recall, accuracy, and score, Random Forest performs the best among the three models."
   ],
   "attachments":{},
   "metadata":{
    "datalore":{
     "node_id":"bLrFC7VTgB8QbAa3SIh0Ku",
     "type":"MD",
     "hide_input_from_viewers":false,
     "hide_output_from_viewers":false,
     "report_properties":{
      "rowId":"1tENiXMxtd7WWpsj1xVUW1",
      "relativeY":0
     }
    }
   }
  },
  {
   "cell_type":"markdown",
   "source":[
    "### ROC curve"
   ],
   "attachments":{},
   "metadata":{
    "datalore":{
     "node_id":"KAZMR0pL32VRSsbzKtxo9x",
     "type":"MD",
     "hide_input_from_viewers":false,
     "hide_output_from_viewers":false,
     "report_properties":{
      "rowId":"23XN10MdsCiZIofN3pdhL9",
      "relativeY":0
     }
    }
   }
  },
  {
   "cell_type":"code",
   "source":[
    "#RF\n",
    "from sklearn.metrics import roc_curve\n",
    "from sklearn import metrics\n",
    "\n",
    "# Use predict_proba to get the probability results of Random Forest\n",
    "y_pred_rf = best_RF_model.predict_proba(X_test)[:, 1]\n",
    "fpr_rf, tpr_rf, _ = roc_curve(y_test, y_pred_rf)"
   ],
   "execution_count":113,
   "outputs":[],
   "metadata":{
    "datalore":{
     "node_id":"ZCg1Odwsm2TxP0bjFFVw05",
     "type":"CODE",
     "hide_input_from_viewers":false,
     "hide_output_from_viewers":false,
     "report_properties":{
      "rowId":"T49Qz5REHE3ADnakG9vHsC",
      "relativeY":0
     }
    }
   }
  },
  {
   "cell_type":"code",
   "source":[
    "best_RF_model.predict_proba(X_test)"
   ],
   "execution_count":114,
   "outputs":[
    {
     "data":{
      "text\/html":[
       "<pre>array([[0.9114791 , 0.0885209 ],\n",
       "       [0.96722352, 0.03277648],\n",
       "       [0.81435048, 0.18564952],\n",
       "       ...,\n",
       "       [0.9715471 , 0.0284529 ],\n",
       "       [0.89566671, 0.10433329],\n",
       "       [0.12115656, 0.87884344]])<\/pre>"
      ]
     },
     "metadata":{},
     "output_type":"display_data"
    }
   ],
   "metadata":{
    "datalore":{
     "node_id":"LOoyvDMArBp94SeSZIG2fm",
     "type":"CODE",
     "hide_input_from_viewers":false,
     "hide_output_from_viewers":false,
     "report_properties":{
      "rowId":"SAVCu1meTNnjTm4JoOzzjm",
      "relativeY":0
     }
    }
   }
  },
  {
   "cell_type":"code",
   "source":[
    "# ROC curve of Random Forest result\n",
    "import matplotlib.pyplot as plt\n",
    "plt.figure(1)\n",
    "plt.plot([0, 1], [0, 1], 'k--')\n",
    "plt.plot(fpr_rf, tpr_rf, label='RF')\n",
    "plt.xlabel('False positive rate')\n",
    "plt.ylabel('True positive rate')\n",
    "plt.title('ROC curve - RF model')\n",
    "plt.legend(loc='best')\n",
    "plt.show()"
   ],
   "execution_count":115,
   "outputs":[
    {
     "data":{
      "image\/png":"[encoded data removed]"
     },
     "metadata":{
      "image\/png":{}
     },
     "output_type":"display_data"
    }
   ],
   "metadata":{
    "datalore":{
     "node_id":"0hzPjj8H9wHIOCPauLvgUg",
     "type":"CODE",
     "hide_input_from_viewers":false,
     "hide_output_from_viewers":false,
     "report_properties":{
      "rowId":"wrrZZIEAe6v021QXcXaLz5",
      "relativeY":0
     }
    }
   }
  },
  {
   "cell_type":"code",
   "source":[
    "from sklearn import metrics\n",
    "\n",
    "# AUC score\n",
    "AUC_RF = metrics.auc(fpr_rf,tpr_rf)\n",
    "AUC_RF"
   ],
   "execution_count":116,
   "outputs":[
    {
     "data":{
      "text\/plain":[
       "0.8569555688199756"
      ]
     },
     "metadata":{},
     "output_type":"display_data"
    }
   ],
   "metadata":{
    "datalore":{
     "node_id":"8O7W2xoYT1OzZ70E82HpuP",
     "type":"CODE",
     "hide_input_from_viewers":false,
     "hide_output_from_viewers":false,
     "report_properties":{
      "rowId":"9QSgEmXxfQ16SxshRx10Cs",
      "relativeY":0
     }
    }
   }
  },
  {
   "cell_type":"code",
   "source":[
    "#LG\n",
    "y_pred_lr = best_LR_model.predict_proba(X_test)[:, 1]\n",
    "fpr_lr, tpr_lr, thresh = roc_curve(y_test, y_pred_lr)"
   ],
   "execution_count":117,
   "outputs":[],
   "metadata":{
    "datalore":{
     "node_id":"0gSFEidDQfuHSf8W53LWzj",
     "type":"CODE",
     "hide_input_from_viewers":false,
     "hide_output_from_viewers":false,
     "report_properties":{
      "rowId":"YbvrOPDTR4NuB0Krhjm7i3",
      "relativeY":0
     }
    }
   }
  },
  {
   "cell_type":"code",
   "source":[
    "best_LR_model.predict_proba(X_test)"
   ],
   "execution_count":118,
   "outputs":[
    {
     "data":{
      "text\/html":[
       "<pre>array([[0.91112231, 0.08887769],\n",
       "       [0.83973613, 0.16026387],\n",
       "       [0.76690168, 0.23309832],\n",
       "       ...,\n",
       "       [0.95028314, 0.04971686],\n",
       "       [0.87748016, 0.12251984],\n",
       "       [0.769652  , 0.230348  ]])<\/pre>"
      ]
     },
     "metadata":{},
     "output_type":"display_data"
    }
   ],
   "metadata":{
    "datalore":{
     "node_id":"gspKyLBcK5rdoeaFUk5rR6",
     "type":"CODE",
     "hide_input_from_viewers":false,
     "hide_output_from_viewers":false,
     "report_properties":{
      "rowId":"aJ8jy4hxq2xBbg5NnkMnsU",
      "relativeY":0
     }
    }
   }
  },
  {
   "cell_type":"code",
   "source":[
    "# ROC Curve\n",
    "plt.figure(1)\n",
    "plt.plot([0, 1], [0, 1], 'k--')\n",
    "plt.plot(fpr_lr, tpr_lr, label='LR')\n",
    "plt.xlabel('False positive rate')\n",
    "plt.ylabel('True positive rate')\n",
    "plt.title('ROC curve - LR Model')\n",
    "plt.legend(loc='best')\n",
    "plt.show()"
   ],
   "execution_count":119,
   "outputs":[
    {
     "data":{
      "image\/png":"[encoded data removed]"
     },
     "metadata":{
      "image\/png":{}
     },
     "output_type":"display_data"
    }
   ],
   "metadata":{
    "datalore":{
     "node_id":"XYf8mk8gQNghhUeaxDefHf",
     "type":"CODE",
     "hide_input_from_viewers":false,
     "hide_output_from_viewers":false,
     "report_properties":{
      "rowId":"GarQf7wdgD0TIvTEokd4Lb",
      "relativeY":0
     }
    }
   }
  },
  {
   "cell_type":"code",
   "source":[
    "# AUC score\n",
    "AUC_LR = metrics.auc(fpr_lr,tpr_lr)\n",
    "AUC_LR"
   ],
   "execution_count":120,
   "outputs":[
    {
     "data":{
      "text\/plain":[
       "0.7703882619136856"
      ]
     },
     "metadata":{},
     "output_type":"display_data"
    }
   ],
   "metadata":{
    "datalore":{
     "node_id":"sZUboFtHGrz3EvOhLVi1dp",
     "type":"CODE",
     "hide_input_from_viewers":false,
     "hide_output_from_viewers":false,
     "report_properties":{
      "rowId":"LZ9T3DZcNS1FzwTKivXJzP",
      "relativeY":0
     }
    }
   }
  },
  {
   "cell_type":"code",
   "source":[
    "#KNN\n",
    "y_pred_knn = best_KNN_model.predict_proba(X_test)[:, 1]\n",
    "fpr_knn, tpr_knn,thresh_ = roc_curve(y_test, y_pred_knn)"
   ],
   "execution_count":121,
   "outputs":[],
   "metadata":{
    "datalore":{
     "node_id":"MhmqEauEdW7svuh4WQAGb5",
     "type":"CODE",
     "hide_input_from_viewers":false,
     "hide_output_from_viewers":false,
     "report_properties":{
      "rowId":"lX0lQ7YhxSQSV8rpayPxfy",
      "relativeY":0
     }
    }
   }
  },
  {
   "cell_type":"code",
   "source":[
    "best_KNN_model.predict_proba(X_test)"
   ],
   "execution_count":122,
   "outputs":[
    {
     "data":{
      "text\/html":[
       "<pre>array([[0.77777778, 0.22222222],\n",
       "       [1.        , 0.        ],\n",
       "       [0.77777778, 0.22222222],\n",
       "       ...,\n",
       "       [1.        , 0.        ],\n",
       "       [0.77777778, 0.22222222],\n",
       "       [0.44444444, 0.55555556]])<\/pre>"
      ]
     },
     "metadata":{},
     "output_type":"display_data"
    }
   ],
   "metadata":{
    "datalore":{
     "node_id":"bpP28VNytOQHvrx3JgMJ81",
     "type":"CODE",
     "hide_input_from_viewers":false,
     "hide_output_from_viewers":false,
     "report_properties":{
      "rowId":"vAKyjcvoLbpAnlkrM5wigg",
      "relativeY":0
     }
    }
   }
  },
  {
   "cell_type":"code",
   "source":[
    "# ROC Curve\n",
    "plt.figure(1)\n",
    "plt.plot([0, 1], [0, 1], 'k--')\n",
    "plt.plot(fpr_knn, tpr_knn, label='KNN')\n",
    "plt.xlabel('False positive rate')\n",
    "plt.ylabel('True positive rate')\n",
    "plt.title('ROC curve - KNN Model')\n",
    "plt.legend(loc='best')\n",
    "plt.show()"
   ],
   "execution_count":123,
   "outputs":[
    {
     "data":{
      "image\/png":"[encoded data removed]"
     },
     "metadata":{
      "image\/png":{}
     },
     "output_type":"display_data"
    }
   ],
   "metadata":{
    "datalore":{
     "node_id":"IMFuimqoxR5EsOBg0U2oHf",
     "type":"CODE",
     "hide_input_from_viewers":false,
     "hide_output_from_viewers":false,
     "report_properties":{
      "rowId":"rYXiupEYjNhuIR7StoBYO7",
      "relativeY":0
     }
    }
   }
  },
  {
   "cell_type":"code",
   "source":[
    "# AUC score\n",
    "AUC_KNN = metrics.auc(fpr_knn,tpr_knn)\n",
    "AUC_KNN"
   ],
   "execution_count":124,
   "outputs":[
    {
     "data":{
      "text\/plain":[
       "0.8140027546807209"
      ]
     },
     "metadata":{},
     "output_type":"display_data"
    }
   ],
   "metadata":{
    "datalore":{
     "node_id":"fyI8Ix6irzaqKZThioIz04",
     "type":"CODE",
     "hide_input_from_viewers":false,
     "hide_output_from_viewers":false,
     "report_properties":{
      "rowId":"W1Xyk0W91CZCq7ILU1DtIv",
      "relativeY":0
     }
    }
   }
  },
  {
   "cell_type":"code",
   "source":[
    "#comparison\n",
    "from sklearn.metrics import roc_curve, auc\n",
    "plt.figure(1)\n",
    "\n",
    "plt.plot([0, 1], [0, 1], 'k--')\n",
    "\n",
    "plt.plot(fpr_rf, tpr_rf, label=f'Random Forest (AUC = {AUC_RF:.3f})', linewidth=2)\n",
    "plt.plot(fpr_lr, tpr_lr, label=f'Logistic Regression (AUC = {AUC_LR:.3f})', linewidth=2)\n",
    "plt.plot(fpr_knn, tpr_knn, label=f'KNN (AUC = {AUC_KNN:.3f})', linewidth=2)\n",
    "\n",
    "plt.xlabel('False Positive Rate', fontsize=12)\n",
    "plt.ylabel('True Positive Rate', fontsize=12)\n",
    "plt.title('ROC Curves Comparison', fontsize=14)\n",
    "plt.legend(loc='best')\n",
    "\n",
    "plt.show()"
   ],
   "execution_count":125,
   "outputs":[
    {
     "data":{
      "image\/png":"[encoded data removed]"
     },
     "metadata":{
      "image\/png":{}
     },
     "output_type":"display_data"
    }
   ],
   "metadata":{
    "datalore":{
     "node_id":"28fCGQgicFDK8uB6tf0Ri5",
     "type":"CODE",
     "hide_input_from_viewers":false,
     "hide_output_from_viewers":false,
     "report_properties":{
      "rowId":"sf37QyNLd3jsta95AEpIg5",
      "relativeY":0
     }
    }
   }
  },
  {
   "cell_type":"markdown",
   "source":[
    "Although the LR model performs better than KNN at lower thresholds,RF performs better than KNN overall, and both are better than LR. This can also be seen from AUC."
   ],
   "attachments":{},
   "metadata":{
    "datalore":{
     "node_id":"K7qLIrNzkO4GoyssnIC08C",
     "type":"MD",
     "hide_input_from_viewers":false,
     "hide_output_from_viewers":false,
     "report_properties":{
      "rowId":"QXXYhjC3lFpXyVkNZpc585",
      "relativeY":0
     }
    }
   }
  },
  {
   "cell_type":"markdown",
   "source":[
    "# Part 4: Model Extra Functionality"
   ],
   "attachments":{},
   "metadata":{
    "datalore":{
     "node_id":"ThyFBMnpvzDFfiRXWpWb15",
     "type":"MD",
     "hide_input_from_viewers":false,
     "hide_output_from_viewers":false,
     "report_properties":{
      "rowId":"uUmrUvKF95dYUsXgobWVLs",
      "relativeY":0
     }
    }
   }
  },
  {
   "cell_type":"code",
   "source":[
    "X_with_corr = X.copy()\n",
    "\n",
    "X_with_corr = OneHotEncoding(X_with_corr, enc_ohe, ['Geography'])\n",
    "X_with_corr['Gender'] = enc_oe.transform(X_with_corr[['Gender']])\n",
    "X_with_corr['SalaryInRMB'] = X_with_corr['EstimatedSalary'] * 6.4\n",
    "X_with_corr.head()"
   ],
   "execution_count":126,
   "outputs":[
    {
     "data":{
      "text\/html":[
       "<div>\n",
       "<style scoped>\n",
       "    .dataframe tbody tr th:only-of-type {\n",
       "        vertical-align: middle;\n",
       "    }\n",
       "\n",
       "    .dataframe tbody tr th {\n",
       "        vertical-align: top;\n",
       "    }\n",
       "\n",
       "    .dataframe thead th {\n",
       "        text-align: right;\n",
       "    }\n",
       "<\/style>\n",
       "<table border=\"1\" class=\"dataframe\">\n",
       "  <thead>\n",
       "    <tr style=\"text-align: right;\">\n",
       "      <th><\/th>\n",
       "      <th>CreditScore<\/th>\n",
       "      <th>Gender<\/th>\n",
       "      <th>Age<\/th>\n",
       "      <th>Tenure<\/th>\n",
       "      <th>Balance<\/th>\n",
       "      <th>NumOfProducts<\/th>\n",
       "      <th>HasCrCard<\/th>\n",
       "      <th>IsActiveMember<\/th>\n",
       "      <th>EstimatedSalary<\/th>\n",
       "      <th>Geography_France<\/th>\n",
       "      <th>Geography_Germany<\/th>\n",
       "      <th>Geography_Spain<\/th>\n",
       "      <th>SalaryInRMB<\/th>\n",
       "    <\/tr>\n",
       "  <\/thead>\n",
       "  <tbody>\n",
       "    <tr>\n",
       "      <th>0<\/th>\n",
       "      <td>619<\/td>\n",
       "      <td>0.0<\/td>\n",
       "      <td>42<\/td>\n",
       "      <td>2<\/td>\n",
       "      <td>0.00<\/td>\n",
       "      <td>1<\/td>\n",
       "      <td>1<\/td>\n",
       "      <td>1<\/td>\n",
       "      <td>101348.88<\/td>\n",
       "      <td>1.0<\/td>\n",
       "      <td>0.0<\/td>\n",
       "      <td>0.0<\/td>\n",
       "      <td>648632.832<\/td>\n",
       "    <\/tr>\n",
       "    <tr>\n",
       "      <th>1<\/th>\n",
       "      <td>608<\/td>\n",
       "      <td>0.0<\/td>\n",
       "      <td>41<\/td>\n",
       "      <td>1<\/td>\n",
       "      <td>83807.86<\/td>\n",
       "      <td>1<\/td>\n",
       "      <td>0<\/td>\n",
       "      <td>1<\/td>\n",
       "      <td>112542.58<\/td>\n",
       "      <td>0.0<\/td>\n",
       "      <td>0.0<\/td>\n",
       "      <td>1.0<\/td>\n",
       "      <td>720272.512<\/td>\n",
       "    <\/tr>\n",
       "    <tr>\n",
       "      <th>2<\/th>\n",
       "      <td>502<\/td>\n",
       "      <td>0.0<\/td>\n",
       "      <td>42<\/td>\n",
       "      <td>8<\/td>\n",
       "      <td>159660.80<\/td>\n",
       "      <td>3<\/td>\n",
       "      <td>1<\/td>\n",
       "      <td>0<\/td>\n",
       "      <td>113931.57<\/td>\n",
       "      <td>1.0<\/td>\n",
       "      <td>0.0<\/td>\n",
       "      <td>0.0<\/td>\n",
       "      <td>729162.048<\/td>\n",
       "    <\/tr>\n",
       "    <tr>\n",
       "      <th>3<\/th>\n",
       "      <td>699<\/td>\n",
       "      <td>0.0<\/td>\n",
       "      <td>39<\/td>\n",
       "      <td>1<\/td>\n",
       "      <td>0.00<\/td>\n",
       "      <td>2<\/td>\n",
       "      <td>0<\/td>\n",
       "      <td>0<\/td>\n",
       "      <td>93826.63<\/td>\n",
       "      <td>1.0<\/td>\n",
       "      <td>0.0<\/td>\n",
       "      <td>0.0<\/td>\n",
       "      <td>600490.432<\/td>\n",
       "    <\/tr>\n",
       "    <tr>\n",
       "      <th>4<\/th>\n",
       "      <td>850<\/td>\n",
       "      <td>0.0<\/td>\n",
       "      <td>43<\/td>\n",
       "      <td>2<\/td>\n",
       "      <td>125510.82<\/td>\n",
       "      <td>1<\/td>\n",
       "      <td>1<\/td>\n",
       "      <td>1<\/td>\n",
       "      <td>79084.10<\/td>\n",
       "      <td>0.0<\/td>\n",
       "      <td>0.0<\/td>\n",
       "      <td>1.0<\/td>\n",
       "      <td>506138.240<\/td>\n",
       "    <\/tr>\n",
       "  <\/tbody>\n",
       "<\/table>\n",
       "<\/div>"
      ]
     },
     "metadata":{},
     "output_type":"display_data"
    }
   ],
   "metadata":{
    "datalore":{
     "node_id":"QowHpLYYERNscpQvh9TKDp",
     "type":"CODE",
     "hide_input_from_viewers":false,
     "hide_output_from_viewers":false,
     "report_properties":{
      "rowId":"NwB2Q7gU1yFQFj2uEvruWJ",
      "relativeY":0
     }
    }
   }
  },
  {
   "cell_type":"code",
   "source":[
    "X_RF = X.copy()\n",
    "\n",
    "X_RF = OneHotEncoding(X_RF, enc_ohe, ['Geography'])\n",
    "X_RF['Gender'] = enc_oe.transform(X_RF[['Gender']])\n",
    "\n",
    "X_RF.head()"
   ],
   "execution_count":127,
   "outputs":[
    {
     "data":{
      "text\/html":[
       "<div>\n",
       "<style scoped>\n",
       "    .dataframe tbody tr th:only-of-type {\n",
       "        vertical-align: middle;\n",
       "    }\n",
       "\n",
       "    .dataframe tbody tr th {\n",
       "        vertical-align: top;\n",
       "    }\n",
       "\n",
       "    .dataframe thead th {\n",
       "        text-align: right;\n",
       "    }\n",
       "<\/style>\n",
       "<table border=\"1\" class=\"dataframe\">\n",
       "  <thead>\n",
       "    <tr style=\"text-align: right;\">\n",
       "      <th><\/th>\n",
       "      <th>CreditScore<\/th>\n",
       "      <th>Gender<\/th>\n",
       "      <th>Age<\/th>\n",
       "      <th>Tenure<\/th>\n",
       "      <th>Balance<\/th>\n",
       "      <th>NumOfProducts<\/th>\n",
       "      <th>HasCrCard<\/th>\n",
       "      <th>IsActiveMember<\/th>\n",
       "      <th>EstimatedSalary<\/th>\n",
       "      <th>Geography_France<\/th>\n",
       "      <th>Geography_Germany<\/th>\n",
       "      <th>Geography_Spain<\/th>\n",
       "    <\/tr>\n",
       "  <\/thead>\n",
       "  <tbody>\n",
       "    <tr>\n",
       "      <th>0<\/th>\n",
       "      <td>619<\/td>\n",
       "      <td>0.0<\/td>\n",
       "      <td>42<\/td>\n",
       "      <td>2<\/td>\n",
       "      <td>0.00<\/td>\n",
       "      <td>1<\/td>\n",
       "      <td>1<\/td>\n",
       "      <td>1<\/td>\n",
       "      <td>101348.88<\/td>\n",
       "      <td>1.0<\/td>\n",
       "      <td>0.0<\/td>\n",
       "      <td>0.0<\/td>\n",
       "    <\/tr>\n",
       "    <tr>\n",
       "      <th>1<\/th>\n",
       "      <td>608<\/td>\n",
       "      <td>0.0<\/td>\n",
       "      <td>41<\/td>\n",
       "      <td>1<\/td>\n",
       "      <td>83807.86<\/td>\n",
       "      <td>1<\/td>\n",
       "      <td>0<\/td>\n",
       "      <td>1<\/td>\n",
       "      <td>112542.58<\/td>\n",
       "      <td>0.0<\/td>\n",
       "      <td>0.0<\/td>\n",
       "      <td>1.0<\/td>\n",
       "    <\/tr>\n",
       "    <tr>\n",
       "      <th>2<\/th>\n",
       "      <td>502<\/td>\n",
       "      <td>0.0<\/td>\n",
       "      <td>42<\/td>\n",
       "      <td>8<\/td>\n",
       "      <td>159660.80<\/td>\n",
       "      <td>3<\/td>\n",
       "      <td>1<\/td>\n",
       "      <td>0<\/td>\n",
       "      <td>113931.57<\/td>\n",
       "      <td>1.0<\/td>\n",
       "      <td>0.0<\/td>\n",
       "      <td>0.0<\/td>\n",
       "    <\/tr>\n",
       "    <tr>\n",
       "      <th>3<\/th>\n",
       "      <td>699<\/td>\n",
       "      <td>0.0<\/td>\n",
       "      <td>39<\/td>\n",
       "      <td>1<\/td>\n",
       "      <td>0.00<\/td>\n",
       "      <td>2<\/td>\n",
       "      <td>0<\/td>\n",
       "      <td>0<\/td>\n",
       "      <td>93826.63<\/td>\n",
       "      <td>1.0<\/td>\n",
       "      <td>0.0<\/td>\n",
       "      <td>0.0<\/td>\n",
       "    <\/tr>\n",
       "    <tr>\n",
       "      <th>4<\/th>\n",
       "      <td>850<\/td>\n",
       "      <td>0.0<\/td>\n",
       "      <td>43<\/td>\n",
       "      <td>2<\/td>\n",
       "      <td>125510.82<\/td>\n",
       "      <td>1<\/td>\n",
       "      <td>1<\/td>\n",
       "      <td>1<\/td>\n",
       "      <td>79084.10<\/td>\n",
       "      <td>0.0<\/td>\n",
       "      <td>0.0<\/td>\n",
       "      <td>1.0<\/td>\n",
       "    <\/tr>\n",
       "  <\/tbody>\n",
       "<\/table>\n",
       "<\/div>"
      ]
     },
     "metadata":{},
     "output_type":"display_data"
    }
   ],
   "metadata":{
    "datalore":{
     "node_id":"NQheclRgR6FGbcuB7lGkDF",
     "type":"CODE",
     "hide_input_from_viewers":false,
     "hide_output_from_viewers":false,
     "report_properties":{
      "rowId":"QXETmiMgQHge0yWcF3nT7L",
      "relativeY":0
     }
    }
   }
  },
  {
   "cell_type":"markdown",
   "source":[
    "**It is not difficult to find from the above analysis that Random Forest performs the best among the three models, so we will first rank this model based on feature importance**"
   ],
   "attachments":{},
   "metadata":{
    "datalore":{
     "node_id":"konrsjwyJnaS0EgxE9MSok",
     "type":"MD",
     "hide_input_from_viewers":false,
     "hide_output_from_viewers":false,
     "report_properties":{
      "rowId":"hfWwNgzGLUTyCliPowXPnK",
      "relativeY":0
     }
    }
   }
  },
  {
   "cell_type":"code",
   "source":[
    "forest = RandomForestClassifier()\n",
    "forest.fit(X_RF, y)\n",
    "\n",
    "importances = forest.feature_importances_\n",
    "\n",
    "indices = np.argsort(importances)[::-1]\n",
    "\n",
    "# Print the feature ranking\n",
    "print(\"Feature importance ranking by Random Forest Model:\")\n",
    "for ind in range(X.shape[1]):\n",
    "  print (\"{0} : {1}\".format(X_RF.columns[indices[ind]],round(importances[indices[ind]], 4)))"
   ],
   "execution_count":128,
   "outputs":[
    {
     "name":"stdout",
     "text":[
      "Feature importance ranking by Random Forest Model:\n",
      "Age : 0.2378\n",
      "Balance : 0.1448\n",
      "EstimatedSalary : 0.1444\n",
      "CreditScore : 0.1408\n",
      "NumOfProducts : 0.1322\n",
      "Tenure : 0.0818\n",
      "IsActiveMember : 0.0403\n",
      "Geography_Germany : 0.0224\n",
      "Gender : 0.0188\n",
      "HasCrCard : 0.0186\n"
     ],
     "output_type":"stream"
    }
   ],
   "metadata":{
    "datalore":{
     "node_id":"PXeV1jmhU1dQRb6orQmDEX",
     "type":"CODE",
     "hide_input_from_viewers":false,
     "hide_output_from_viewers":false,
     "report_properties":{
      "rowId":"FrCgJ6RvrAH3TcYa3mmZoy",
      "relativeY":0
     }
    }
   }
  },
  {
   "cell_type":"code",
   "source":[
    "# draw a pie\n",
    "plt.figure(figsize=(10, 8))\n",
    "features = X_RF.columns[indices]\n",
    "importance_values = importances[indices]\n",
    "\n",
    "threshold = 0.02\n",
    "significant_features = features[importance_values > threshold]\n",
    "significant_importances = importance_values[importance_values > threshold]\n",
    "other_importance = sum(importance_values[importance_values <= threshold])\n",
    "\n",
    "if other_importance > 0:\n",
    "    significant_features = np.append(significant_features, 'Others')\n",
    "    significant_importances = np.append(significant_importances, other_importance)\n",
    "\n",
    "colors = plt.cm.tab20c(np.linspace(0, 1, len(significant_importances)))\n",
    "\n",
    "wedges, texts, autotexts = plt.pie(\n",
    "    significant_importances,\n",
    "    labels=significant_features,\n",
    "    colors=colors,\n",
    "    autopct='%1.1f%%',\n",
    "    startangle=140,\n",
    "    pctdistance=0.85,\n",
    "    wedgeprops={'linewidth': 1, 'edgecolor': 'white'},\n",
    "    textprops={'fontsize': 10}\n",
    ")\n",
    "\n",
    "plt.title('Feature Importance from Random Forest Model', fontsize=16, pad=20)\n",
    "\n",
    "plt.setp(autotexts, size=10, weight=\"bold\")\n",
    "plt.setp(texts, size=10)\n",
    "\n",
    "plt.legend(\n",
    "    wedges,\n",
    "    significant_features,\n",
    "    title=\"Features\",\n",
    "    loc=\"center left\",\n",
    "    bbox_to_anchor=(1, 0.5, 0.5, 1),\n",
    "    fontsize=10\n",
    ")\n",
    "\n",
    "plt.axis('equal')\n",
    "plt.tight_layout()\n",
    "plt.show()"
   ],
   "execution_count":129,
   "outputs":[
    {
     "data":{
      "image\/png":"[encoded data removed]"
     },
     "metadata":{
      "image\/png":{}
     },
     "output_type":"display_data"
    }
   ],
   "metadata":{
    "datalore":{
     "node_id":"m6EFKY3zcj4a81YHIqwWkR",
     "type":"CODE",
     "hide_input_from_viewers":false,
     "hide_output_from_viewers":false,
     "report_properties":{
      "rowId":"K4ArDhuiHyCtZSVn8WEJCG",
      "relativeY":0
     }
    }
   }
  },
  {
   "cell_type":"markdown",
   "source":[
    "It can be seen that age has the greatest impact, followed by estimated salary, credit score, balance, num of products, and tenure, which is roughly consistent with the initial results of EDA."
   ],
   "attachments":{},
   "metadata":{
    "datalore":{
     "node_id":"Q8JJjbO3jIP1sSeNXJ24Ca",
     "type":"MD",
     "hide_input_from_viewers":false,
     "hide_output_from_viewers":false,
     "report_properties":{
      "rowId":"ZZOUucTDrMKK7LVPawSGme",
      "relativeY":0
     }
    }
   }
  },
  {
   "cell_type":"markdown",
   "source":[
    "# Part 5:Practical Business"
   ],
   "attachments":{},
   "metadata":{
    "datalore":{
     "node_id":"OdV8mRZ87i9ThEThPyoHjc",
     "type":"MD",
     "hide_input_from_viewers":false,
     "hide_output_from_viewers":false,
     "report_properties":{
      "rowId":"7WK5KwlvL5fnoOc7UYZazD",
      "relativeY":0
     }
    }
   }
  },
  {
   "cell_type":"markdown",
   "source":[
    "#### This is a simple practice.The main function is to first store the data of a batch of new customers in today. csv, predict whether this batch of new customers will be lost through the model, and finally store the predicted customers who may be lost in warning. csv, so that the bank can carry out subsequent retention work for these customers based on the information in the warning."
   ],
   "attachments":{},
   "metadata":{
    "datalore":{
     "node_id":"VhYmIsPqtgz8I4lHuKPzfp",
     "type":"MD",
     "hide_input_from_viewers":false,
     "hide_output_from_viewers":false,
     "report_properties":{
      "rowId":"UYt1CxLUCxMCF3gGaARy2c",
      "relativeY":0
     }
    }
   }
  },
  {
   "cell_type":"code",
   "source":[
    "#clean the warning.csv\n",
    "warning = pd.DataFrame()\n",
    "warning.to_csv('warning.csv')"
   ],
   "execution_count":130,
   "outputs":[],
   "metadata":{
    "datalore":{
     "node_id":"tVQeZxWQHaUK6vbZonaNaT",
     "type":"CODE",
     "hide_input_from_viewers":false,
     "hide_output_from_viewers":false,
     "report_properties":{
      "rowId":"nZa4xwXgwbcMC4BUkkSOKF",
      "relativeY":0
     }
    }
   }
  },
  {
   "cell_type":"code",
   "source":[
    "#choose to use Random Forest\n",
    "churn_df_new = pd.read_csv('today.csv')\n",
    "X_new = churn_df_new.drop(to_drop, axis = 1)\n",
    "y_new = churn_df_new['Exited']\n",
    "churn_df_new.head()"
   ],
   "execution_count":131,
   "outputs":[
    {
     "data":{
      "text\/html":[
       "<div>\n",
       "<style scoped>\n",
       "    .dataframe tbody tr th:only-of-type {\n",
       "        vertical-align: middle;\n",
       "    }\n",
       "\n",
       "    .dataframe tbody tr th {\n",
       "        vertical-align: top;\n",
       "    }\n",
       "\n",
       "    .dataframe thead th {\n",
       "        text-align: right;\n",
       "    }\n",
       "<\/style>\n",
       "<table border=\"1\" class=\"dataframe\">\n",
       "  <thead>\n",
       "    <tr style=\"text-align: right;\">\n",
       "      <th><\/th>\n",
       "      <th>RowNumber<\/th>\n",
       "      <th>CustomerId<\/th>\n",
       "      <th>Surname<\/th>\n",
       "      <th>CreditScore<\/th>\n",
       "      <th>Geography<\/th>\n",
       "      <th>Gender<\/th>\n",
       "      <th>Age<\/th>\n",
       "      <th>Tenure<\/th>\n",
       "      <th>Balance<\/th>\n",
       "      <th>NumOfProducts<\/th>\n",
       "      <th>HasCrCard<\/th>\n",
       "      <th>IsActiveMember<\/th>\n",
       "      <th>EstimatedSalary<\/th>\n",
       "      <th>Exited<\/th>\n",
       "    <\/tr>\n",
       "  <\/thead>\n",
       "  <tbody>\n",
       "    <tr>\n",
       "      <th>0<\/th>\n",
       "      <td>11<\/td>\n",
       "      <td>15767821<\/td>\n",
       "      <td>Bearce<\/td>\n",
       "      <td>528<\/td>\n",
       "      <td>France<\/td>\n",
       "      <td>Male<\/td>\n",
       "      <td>31<\/td>\n",
       "      <td>6<\/td>\n",
       "      <td>102016.72<\/td>\n",
       "      <td>2<\/td>\n",
       "      <td>0<\/td>\n",
       "      <td>0<\/td>\n",
       "      <td>80181.12<\/td>\n",
       "      <td>0<\/td>\n",
       "    <\/tr>\n",
       "    <tr>\n",
       "      <th>1<\/th>\n",
       "      <td>12<\/td>\n",
       "      <td>15737173<\/td>\n",
       "      <td>Andrews<\/td>\n",
       "      <td>497<\/td>\n",
       "      <td>Spain<\/td>\n",
       "      <td>Male<\/td>\n",
       "      <td>24<\/td>\n",
       "      <td>3<\/td>\n",
       "      <td>0.00<\/td>\n",
       "      <td>2<\/td>\n",
       "      <td>1<\/td>\n",
       "      <td>0<\/td>\n",
       "      <td>76390.01<\/td>\n",
       "      <td>0<\/td>\n",
       "    <\/tr>\n",
       "    <tr>\n",
       "      <th>2<\/th>\n",
       "      <td>13<\/td>\n",
       "      <td>15632264<\/td>\n",
       "      <td>Kay<\/td>\n",
       "      <td>476<\/td>\n",
       "      <td>France<\/td>\n",
       "      <td>Female<\/td>\n",
       "      <td>34<\/td>\n",
       "      <td>10<\/td>\n",
       "      <td>0.00<\/td>\n",
       "      <td>2<\/td>\n",
       "      <td>1<\/td>\n",
       "      <td>0<\/td>\n",
       "      <td>26260.98<\/td>\n",
       "      <td>0<\/td>\n",
       "    <\/tr>\n",
       "    <tr>\n",
       "      <th>3<\/th>\n",
       "      <td>14<\/td>\n",
       "      <td>15691483<\/td>\n",
       "      <td>Chin<\/td>\n",
       "      <td>549<\/td>\n",
       "      <td>France<\/td>\n",
       "      <td>Female<\/td>\n",
       "      <td>25<\/td>\n",
       "      <td>5<\/td>\n",
       "      <td>0.00<\/td>\n",
       "      <td>2<\/td>\n",
       "      <td>0<\/td>\n",
       "      <td>0<\/td>\n",
       "      <td>190857.79<\/td>\n",
       "      <td>0<\/td>\n",
       "    <\/tr>\n",
       "    <tr>\n",
       "      <th>4<\/th>\n",
       "      <td>15<\/td>\n",
       "      <td>15600882<\/td>\n",
       "      <td>Scott<\/td>\n",
       "      <td>635<\/td>\n",
       "      <td>Spain<\/td>\n",
       "      <td>Female<\/td>\n",
       "      <td>35<\/td>\n",
       "      <td>7<\/td>\n",
       "      <td>0.00<\/td>\n",
       "      <td>2<\/td>\n",
       "      <td>1<\/td>\n",
       "      <td>1<\/td>\n",
       "      <td>65951.65<\/td>\n",
       "      <td>0<\/td>\n",
       "    <\/tr>\n",
       "  <\/tbody>\n",
       "<\/table>\n",
       "<\/div>"
      ]
     },
     "metadata":{},
     "output_type":"display_data"
    }
   ],
   "metadata":{
    "datalore":{
     "node_id":"ZbovZp2koGppH5XNrWxFmP",
     "type":"CODE",
     "hide_input_from_viewers":false,
     "hide_output_from_viewers":false,
     "report_properties":{
      "rowId":"ObONA3VGeGVpKunh3XwQRT",
      "relativeY":0
     }
    }
   }
  },
  {
   "cell_type":"code",
   "source":[
    "X_new = OneHotEncoding(X_new, enc_ohe, ['Geography'])\n",
    "X_new[categories]=enc_oe.transform(X_new[categories])\n",
    "X_new.head()"
   ],
   "execution_count":132,
   "outputs":[
    {
     "data":{
      "text\/html":[
       "<div>\n",
       "<style scoped>\n",
       "    .dataframe tbody tr th:only-of-type {\n",
       "        vertical-align: middle;\n",
       "    }\n",
       "\n",
       "    .dataframe tbody tr th {\n",
       "        vertical-align: top;\n",
       "    }\n",
       "\n",
       "    .dataframe thead th {\n",
       "        text-align: right;\n",
       "    }\n",
       "<\/style>\n",
       "<table border=\"1\" class=\"dataframe\">\n",
       "  <thead>\n",
       "    <tr style=\"text-align: right;\">\n",
       "      <th><\/th>\n",
       "      <th>CreditScore<\/th>\n",
       "      <th>Gender<\/th>\n",
       "      <th>Age<\/th>\n",
       "      <th>Tenure<\/th>\n",
       "      <th>Balance<\/th>\n",
       "      <th>NumOfProducts<\/th>\n",
       "      <th>HasCrCard<\/th>\n",
       "      <th>IsActiveMember<\/th>\n",
       "      <th>EstimatedSalary<\/th>\n",
       "      <th>Geography_France<\/th>\n",
       "      <th>Geography_Germany<\/th>\n",
       "      <th>Geography_Spain<\/th>\n",
       "    <\/tr>\n",
       "  <\/thead>\n",
       "  <tbody>\n",
       "    <tr>\n",
       "      <th>0<\/th>\n",
       "      <td>528<\/td>\n",
       "      <td>1.0<\/td>\n",
       "      <td>31<\/td>\n",
       "      <td>6<\/td>\n",
       "      <td>102016.72<\/td>\n",
       "      <td>2<\/td>\n",
       "      <td>0<\/td>\n",
       "      <td>0<\/td>\n",
       "      <td>80181.12<\/td>\n",
       "      <td>1.0<\/td>\n",
       "      <td>0.0<\/td>\n",
       "      <td>0.0<\/td>\n",
       "    <\/tr>\n",
       "    <tr>\n",
       "      <th>1<\/th>\n",
       "      <td>497<\/td>\n",
       "      <td>1.0<\/td>\n",
       "      <td>24<\/td>\n",
       "      <td>3<\/td>\n",
       "      <td>0.00<\/td>\n",
       "      <td>2<\/td>\n",
       "      <td>1<\/td>\n",
       "      <td>0<\/td>\n",
       "      <td>76390.01<\/td>\n",
       "      <td>0.0<\/td>\n",
       "      <td>0.0<\/td>\n",
       "      <td>1.0<\/td>\n",
       "    <\/tr>\n",
       "    <tr>\n",
       "      <th>2<\/th>\n",
       "      <td>476<\/td>\n",
       "      <td>0.0<\/td>\n",
       "      <td>34<\/td>\n",
       "      <td>10<\/td>\n",
       "      <td>0.00<\/td>\n",
       "      <td>2<\/td>\n",
       "      <td>1<\/td>\n",
       "      <td>0<\/td>\n",
       "      <td>26260.98<\/td>\n",
       "      <td>1.0<\/td>\n",
       "      <td>0.0<\/td>\n",
       "      <td>0.0<\/td>\n",
       "    <\/tr>\n",
       "    <tr>\n",
       "      <th>3<\/th>\n",
       "      <td>549<\/td>\n",
       "      <td>0.0<\/td>\n",
       "      <td>25<\/td>\n",
       "      <td>5<\/td>\n",
       "      <td>0.00<\/td>\n",
       "      <td>2<\/td>\n",
       "      <td>0<\/td>\n",
       "      <td>0<\/td>\n",
       "      <td>190857.79<\/td>\n",
       "      <td>1.0<\/td>\n",
       "      <td>0.0<\/td>\n",
       "      <td>0.0<\/td>\n",
       "    <\/tr>\n",
       "    <tr>\n",
       "      <th>4<\/th>\n",
       "      <td>635<\/td>\n",
       "      <td>0.0<\/td>\n",
       "      <td>35<\/td>\n",
       "      <td>7<\/td>\n",
       "      <td>0.00<\/td>\n",
       "      <td>2<\/td>\n",
       "      <td>1<\/td>\n",
       "      <td>1<\/td>\n",
       "      <td>65951.65<\/td>\n",
       "      <td>0.0<\/td>\n",
       "      <td>0.0<\/td>\n",
       "      <td>1.0<\/td>\n",
       "    <\/tr>\n",
       "  <\/tbody>\n",
       "<\/table>\n",
       "<\/div>"
      ]
     },
     "metadata":{},
     "output_type":"display_data"
    }
   ],
   "metadata":{
    "datalore":{
     "node_id":"lNkRnRWIodV9DDCfxAncyf",
     "type":"CODE",
     "hide_input_from_viewers":false,
     "hide_output_from_viewers":false,
     "report_properties":{
      "rowId":"taWvtVJYrumYjbljyJWsIx",
      "relativeY":0
     }
    }
   }
  },
  {
   "cell_type":"code",
   "source":[
    "print('result of RandomForest：',classifier_RF.predict(X_new))"
   ],
   "execution_count":133,
   "outputs":[
    {
     "name":"stdout",
     "text":[
      "result of RandomForest： [1 1 1 1 1 1 0 1 0 1 1 1 0 1 0 1 0 1 0 1 1 0 1 1 1 0 0 0 0 1 0 0 0 0 0 1 0\n",
      " 0 0 1]\n"
     ],
     "output_type":"stream"
    }
   ],
   "metadata":{
    "datalore":{
     "node_id":"F7ZVriIXajG5SFZheBCSOa",
     "type":"CODE",
     "hide_input_from_viewers":false,
     "hide_output_from_viewers":false,
     "report_properties":{
      "rowId":"caSo3w3hEgqAJuubVpxK3m",
      "relativeY":0
     }
    }
   }
  },
  {
   "cell_type":"code",
   "source":[
    "churn_df_new['Exited'] = classifier_RF.predict(X_new)\n",
    "\n",
    "warning = pd.concat([warning,churn_df_new[churn_df_new['Exited']==0].drop(['Exited','RowNumber'],axis=1)])\n",
    "warning.to_csv('warning.csv',index= False)\n",
    "warning"
   ],
   "execution_count":134,
   "outputs":[
    {
     "data":{
      "text\/html":[
       "<div>\n",
       "<style scoped>\n",
       "    .dataframe tbody tr th:only-of-type {\n",
       "        vertical-align: middle;\n",
       "    }\n",
       "\n",
       "    .dataframe tbody tr th {\n",
       "        vertical-align: top;\n",
       "    }\n",
       "\n",
       "    .dataframe thead th {\n",
       "        text-align: right;\n",
       "    }\n",
       "<\/style>\n",
       "<table border=\"1\" class=\"dataframe\">\n",
       "  <thead>\n",
       "    <tr style=\"text-align: right;\">\n",
       "      <th><\/th>\n",
       "      <th>CustomerId<\/th>\n",
       "      <th>Surname<\/th>\n",
       "      <th>CreditScore<\/th>\n",
       "      <th>Geography<\/th>\n",
       "      <th>Gender<\/th>\n",
       "      <th>Age<\/th>\n",
       "      <th>Tenure<\/th>\n",
       "      <th>Balance<\/th>\n",
       "      <th>NumOfProducts<\/th>\n",
       "      <th>HasCrCard<\/th>\n",
       "      <th>IsActiveMember<\/th>\n",
       "      <th>EstimatedSalary<\/th>\n",
       "    <\/tr>\n",
       "  <\/thead>\n",
       "  <tbody>\n",
       "    <tr>\n",
       "      <th>6<\/th>\n",
       "      <td>15737452<\/td>\n",
       "      <td>Romeo<\/td>\n",
       "      <td>653<\/td>\n",
       "      <td>Germany<\/td>\n",
       "      <td>Male<\/td>\n",
       "      <td>58<\/td>\n",
       "      <td>1<\/td>\n",
       "      <td>132602.88<\/td>\n",
       "      <td>1<\/td>\n",
       "      <td>1<\/td>\n",
       "      <td>0<\/td>\n",
       "      <td>5097.67<\/td>\n",
       "    <\/tr>\n",
       "    <tr>\n",
       "      <th>8<\/th>\n",
       "      <td>15661507<\/td>\n",
       "      <td>Muldrow<\/td>\n",
       "      <td>587<\/td>\n",
       "      <td>Spain<\/td>\n",
       "      <td>Male<\/td>\n",
       "      <td>45<\/td>\n",
       "      <td>6<\/td>\n",
       "      <td>0.00<\/td>\n",
       "      <td>1<\/td>\n",
       "      <td>0<\/td>\n",
       "      <td>0<\/td>\n",
       "      <td>158684.81<\/td>\n",
       "    <\/tr>\n",
       "    <tr>\n",
       "      <th>12<\/th>\n",
       "      <td>15699309<\/td>\n",
       "      <td>Gerasimov<\/td>\n",
       "      <td>510<\/td>\n",
       "      <td>Spain<\/td>\n",
       "      <td>Female<\/td>\n",
       "      <td>38<\/td>\n",
       "      <td>4<\/td>\n",
       "      <td>0.00<\/td>\n",
       "      <td>1<\/td>\n",
       "      <td>1<\/td>\n",
       "      <td>0<\/td>\n",
       "      <td>118913.53<\/td>\n",
       "    <\/tr>\n",
       "    <tr>\n",
       "      <th>14<\/th>\n",
       "      <td>15625047<\/td>\n",
       "      <td>Yen<\/td>\n",
       "      <td>846<\/td>\n",
       "      <td>France<\/td>\n",
       "      <td>Female<\/td>\n",
       "      <td>38<\/td>\n",
       "      <td>5<\/td>\n",
       "      <td>0.00<\/td>\n",
       "      <td>1<\/td>\n",
       "      <td>1<\/td>\n",
       "      <td>1<\/td>\n",
       "      <td>187616.16<\/td>\n",
       "    <\/tr>\n",
       "    <tr>\n",
       "      <th>16<\/th>\n",
       "      <td>15736816<\/td>\n",
       "      <td>Young<\/td>\n",
       "      <td>756<\/td>\n",
       "      <td>Germany<\/td>\n",
       "      <td>Male<\/td>\n",
       "      <td>36<\/td>\n",
       "      <td>2<\/td>\n",
       "      <td>136815.64<\/td>\n",
       "      <td>1<\/td>\n",
       "      <td>1<\/td>\n",
       "      <td>1<\/td>\n",
       "      <td>170041.95<\/td>\n",
       "    <\/tr>\n",
       "    <tr>\n",
       "      <th>18<\/th>\n",
       "      <td>15728693<\/td>\n",
       "      <td>McWilliams<\/td>\n",
       "      <td>574<\/td>\n",
       "      <td>Germany<\/td>\n",
       "      <td>Female<\/td>\n",
       "      <td>43<\/td>\n",
       "      <td>3<\/td>\n",
       "      <td>141349.43<\/td>\n",
       "      <td>1<\/td>\n",
       "      <td>1<\/td>\n",
       "      <td>1<\/td>\n",
       "      <td>100187.43<\/td>\n",
       "    <\/tr>\n",
       "    <tr>\n",
       "      <th>21<\/th>\n",
       "      <td>15706552<\/td>\n",
       "      <td>Odinakachukwu<\/td>\n",
       "      <td>533<\/td>\n",
       "      <td>France<\/td>\n",
       "      <td>Male<\/td>\n",
       "      <td>36<\/td>\n",
       "      <td>7<\/td>\n",
       "      <td>85311.70<\/td>\n",
       "      <td>1<\/td>\n",
       "      <td>0<\/td>\n",
       "      <td>1<\/td>\n",
       "      <td>156731.91<\/td>\n",
       "    <\/tr>\n",
       "    <tr>\n",
       "      <th>25<\/th>\n",
       "      <td>15794171<\/td>\n",
       "      <td>Lombardo<\/td>\n",
       "      <td>475<\/td>\n",
       "      <td>France<\/td>\n",
       "      <td>Female<\/td>\n",
       "      <td>45<\/td>\n",
       "      <td>0<\/td>\n",
       "      <td>134264.04<\/td>\n",
       "      <td>1<\/td>\n",
       "      <td>1<\/td>\n",
       "      <td>0<\/td>\n",
       "      <td>27822.99<\/td>\n",
       "    <\/tr>\n",
       "    <tr>\n",
       "      <th>26<\/th>\n",
       "      <td>15788448<\/td>\n",
       "      <td>Watson<\/td>\n",
       "      <td>490<\/td>\n",
       "      <td>Spain<\/td>\n",
       "      <td>Male<\/td>\n",
       "      <td>31<\/td>\n",
       "      <td>3<\/td>\n",
       "      <td>145260.23<\/td>\n",
       "      <td>1<\/td>\n",
       "      <td>0<\/td>\n",
       "      <td>1<\/td>\n",
       "      <td>114066.77<\/td>\n",
       "    <\/tr>\n",
       "    <tr>\n",
       "      <th>27<\/th>\n",
       "      <td>15729599<\/td>\n",
       "      <td>Lorenzo<\/td>\n",
       "      <td>804<\/td>\n",
       "      <td>Spain<\/td>\n",
       "      <td>Male<\/td>\n",
       "      <td>33<\/td>\n",
       "      <td>7<\/td>\n",
       "      <td>76548.60<\/td>\n",
       "      <td>1<\/td>\n",
       "      <td>0<\/td>\n",
       "      <td>1<\/td>\n",
       "      <td>98453.45<\/td>\n",
       "    <\/tr>\n",
       "    <tr>\n",
       "      <th>28<\/th>\n",
       "      <td>15717426<\/td>\n",
       "      <td>Armstrong<\/td>\n",
       "      <td>850<\/td>\n",
       "      <td>France<\/td>\n",
       "      <td>Male<\/td>\n",
       "      <td>36<\/td>\n",
       "      <td>7<\/td>\n",
       "      <td>0.00<\/td>\n",
       "      <td>1<\/td>\n",
       "      <td>1<\/td>\n",
       "      <td>1<\/td>\n",
       "      <td>40812.90<\/td>\n",
       "    <\/tr>\n",
       "    <tr>\n",
       "      <th>30<\/th>\n",
       "      <td>15619360<\/td>\n",
       "      <td>Hsiao<\/td>\n",
       "      <td>472<\/td>\n",
       "      <td>Spain<\/td>\n",
       "      <td>Male<\/td>\n",
       "      <td>40<\/td>\n",
       "      <td>4<\/td>\n",
       "      <td>0.00<\/td>\n",
       "      <td>1<\/td>\n",
       "      <td>1<\/td>\n",
       "      <td>0<\/td>\n",
       "      <td>70154.22<\/td>\n",
       "    <\/tr>\n",
       "    <tr>\n",
       "      <th>31<\/th>\n",
       "      <td>15738148<\/td>\n",
       "      <td>Clarke<\/td>\n",
       "      <td>465<\/td>\n",
       "      <td>France<\/td>\n",
       "      <td>Female<\/td>\n",
       "      <td>51<\/td>\n",
       "      <td>8<\/td>\n",
       "      <td>122522.32<\/td>\n",
       "      <td>1<\/td>\n",
       "      <td>0<\/td>\n",
       "      <td>0<\/td>\n",
       "      <td>181297.65<\/td>\n",
       "    <\/tr>\n",
       "    <tr>\n",
       "      <th>32<\/th>\n",
       "      <td>15687946<\/td>\n",
       "      <td>Osborne<\/td>\n",
       "      <td>556<\/td>\n",
       "      <td>France<\/td>\n",
       "      <td>Female<\/td>\n",
       "      <td>61<\/td>\n",
       "      <td>2<\/td>\n",
       "      <td>117419.35<\/td>\n",
       "      <td>1<\/td>\n",
       "      <td>1<\/td>\n",
       "      <td>1<\/td>\n",
       "      <td>94153.83<\/td>\n",
       "    <\/tr>\n",
       "    <tr>\n",
       "      <th>33<\/th>\n",
       "      <td>15755196<\/td>\n",
       "      <td>Lavine<\/td>\n",
       "      <td>834<\/td>\n",
       "      <td>France<\/td>\n",
       "      <td>Female<\/td>\n",
       "      <td>49<\/td>\n",
       "      <td>2<\/td>\n",
       "      <td>131394.56<\/td>\n",
       "      <td>1<\/td>\n",
       "      <td>0<\/td>\n",
       "      <td>0<\/td>\n",
       "      <td>194365.76<\/td>\n",
       "    <\/tr>\n",
       "    <tr>\n",
       "      <th>34<\/th>\n",
       "      <td>15684171<\/td>\n",
       "      <td>Bianchi<\/td>\n",
       "      <td>660<\/td>\n",
       "      <td>Spain<\/td>\n",
       "      <td>Female<\/td>\n",
       "      <td>61<\/td>\n",
       "      <td>5<\/td>\n",
       "      <td>155931.11<\/td>\n",
       "      <td>1<\/td>\n",
       "      <td>1<\/td>\n",
       "      <td>1<\/td>\n",
       "      <td>158338.39<\/td>\n",
       "    <\/tr>\n",
       "    <tr>\n",
       "      <th>36<\/th>\n",
       "      <td>15602280<\/td>\n",
       "      <td>Martin<\/td>\n",
       "      <td>829<\/td>\n",
       "      <td>Germany<\/td>\n",
       "      <td>Female<\/td>\n",
       "      <td>27<\/td>\n",
       "      <td>9<\/td>\n",
       "      <td>112045.67<\/td>\n",
       "      <td>1<\/td>\n",
       "      <td>1<\/td>\n",
       "      <td>1<\/td>\n",
       "      <td>119708.21<\/td>\n",
       "    <\/tr>\n",
       "    <tr>\n",
       "      <th>37<\/th>\n",
       "      <td>15771573<\/td>\n",
       "      <td>Okagbue<\/td>\n",
       "      <td>637<\/td>\n",
       "      <td>Germany<\/td>\n",
       "      <td>Female<\/td>\n",
       "      <td>39<\/td>\n",
       "      <td>9<\/td>\n",
       "      <td>137843.80<\/td>\n",
       "      <td>1<\/td>\n",
       "      <td>1<\/td>\n",
       "      <td>1<\/td>\n",
       "      <td>117622.80<\/td>\n",
       "    <\/tr>\n",
       "    <tr>\n",
       "      <th>38<\/th>\n",
       "      <td>15766205<\/td>\n",
       "      <td>Yin<\/td>\n",
       "      <td>550<\/td>\n",
       "      <td>Germany<\/td>\n",
       "      <td>Male<\/td>\n",
       "      <td>38<\/td>\n",
       "      <td>2<\/td>\n",
       "      <td>103391.38<\/td>\n",
       "      <td>1<\/td>\n",
       "      <td>0<\/td>\n",
       "      <td>1<\/td>\n",
       "      <td>90878.13<\/td>\n",
       "    <\/tr>\n",
       "  <\/tbody>\n",
       "<\/table>\n",
       "<\/div>"
      ]
     },
     "metadata":{},
     "output_type":"display_data"
    }
   ],
   "metadata":{
    "datalore":{
     "node_id":"Edxdeykqr6ASWqqIaZV9lm",
     "type":"CODE",
     "hide_input_from_viewers":false,
     "hide_output_from_viewers":false,
     "report_properties":{
      "rowId":"nYjdzvngA5tmNAEQ5XTklh",
      "relativeY":0
     }
    }
   }
  }
 ],
 "metadata":{
  "kernelspec":{
   "display_name":"Python",
   "language":"python",
   "name":"python"
  },
  "datalore":{
   "computation_mode":"JUPYTER",
   "package_manager":"pip",
   "base_environment":"default_3_11",
   "packages":[],
   "report_row_ids":[],
   "report_tabs":[
    {
     "id":"W3xLgsVPo7VB47HFXvqoVR",
     "name":"Report tab",
     "rows":[
      "GfT536eqD85il1pFwIaFeG",
      "WfZIFpufKWDCWs0mNvCh26",
      "EaZPksKV98U0oR0YQzGNOO",
      "BAtX6dhK95DCgSg7s9JmrW",
      "Wzl6xhlmB2vXFmcRAfkfHD",
      "GnTvu1MoeDKBt2kZKBHVLi",
      "6vB4l1lQdD5rkrgGSrlyRK",
      "FQsful8tvY44oawyAwEctO",
      "otcb5jAWeKJZrk9AAnQjVe",
      "FcBsWsZYC7KG93HQyl7RJf",
      "Un10CqbyzRNfavYUsjqE9w",
      "AbwH1IwPkY5izEoY35MQxH",
      "ew9kG3bM3enm5NSHQJAhxg",
      "lIBgad9dJ1CUohpoNOQBOM",
      "ClGSUVwiFr90QsekLpDtel",
      "mQcKArJaBv5QyUTKoJVDAR",
      "GLz5vxRTHZzsEQPdMrG8FO",
      "sc5tFHnb2PUAn16oKlgVUp",
      "NQDCBQ8fNURihi7fcgjUdb",
      "GRCYkoPdUCj7Dvr0a8i28U",
      "OP67w0QIm5dK5Vzu1vK9lF",
      "ElTpWzxHpxoqZHbZTz2eR3",
      "z7Q2lYAdmY9jFGjoeTREEP",
      "4oJYYCNi95RYWAzyd7ynVB",
      "wWgHfVTkOXWZlx8a97Hn3L",
      "rh1Y4QaOBz3yeLCLJG4OZJ",
      "AYNVaY4YZ8YGQeL15KRFyt",
      "MDygSnSAStFlEcv8uaM6NF",
      "lHswdTecn0UKEmPvQVpYHZ",
      "iVvMKJeoq2IE8LWbOOZZvJ",
      "E9rdC0mo9e72OPHMQmKZUV",
      "c3W3SGENe4xuprVenW2Ueo",
      "jg2bh5VjNhSrKvBS8sBapS",
      "PLRvQf7U2mVCFt07wy0F05",
      "MkxFul5xuZ6Xit1a5ugpKP",
      "BQQJAYRfSR159NN3YWw5sA",
      "Ndfm7FaMeFlrPC4OknoRSs",
      "Kwu13KWbH4foRb9sNtAy2l",
      "KY4zdtJDEtZtgLZakII03k",
      "mr3tAoqe5cX1yltrR5TNGG",
      "i4J65nqQD10I2Sl05dHCeV",
      "ESHdQhrFwu2gHvGh1cbsK8",
      "fsbLWi2cjjGhJDsZjFharG",
      "hyR4NfSTYu4B7SdZDLXJqb",
      "dEgVDLAM0YTjBSWp6hI7fH",
      "jo4WAEXCDXgccqnqEhkwTd",
      "X8htNULY01EeHOzkn8nbId",
      "FncSxRyOKBic2GcZAiiTMy",
      "dsUJtZEhiLiN9aqbydUMgp",
      "1tENiXMxtd7WWpsj1xVUW1",
      "23XN10MdsCiZIofN3pdhL9",
      "T49Qz5REHE3ADnakG9vHsC",
      "SAVCu1meTNnjTm4JoOzzjm",
      "wrrZZIEAe6v021QXcXaLz5",
      "9QSgEmXxfQ16SxshRx10Cs",
      "YbvrOPDTR4NuB0Krhjm7i3",
      "aJ8jy4hxq2xBbg5NnkMnsU",
      "GarQf7wdgD0TIvTEokd4Lb",
      "LZ9T3DZcNS1FzwTKivXJzP",
      "lX0lQ7YhxSQSV8rpayPxfy",
      "vAKyjcvoLbpAnlkrM5wigg",
      "rYXiupEYjNhuIR7StoBYO7",
      "W1Xyk0W91CZCq7ILU1DtIv",
      "sf37QyNLd3jsta95AEpIg5",
      "QXXYhjC3lFpXyVkNZpc585",
      "uUmrUvKF95dYUsXgobWVLs",
      "NwB2Q7gU1yFQFj2uEvruWJ",
      "QXETmiMgQHge0yWcF3nT7L",
      "hfWwNgzGLUTyCliPowXPnK",
      "FrCgJ6RvrAH3TcYa3mmZoy",
      "K4ArDhuiHyCtZSVn8WEJCG",
      "ZZOUucTDrMKK7LVPawSGme",
      "7WK5KwlvL5fnoOc7UYZazD",
      "UYt1CxLUCxMCF3gGaARy2c",
      "nZa4xwXgwbcMC4BUkkSOKF",
      "ObONA3VGeGVpKunh3XwQRT",
      "taWvtVJYrumYjbljyJWsIx",
      "caSo3w3hEgqAJuubVpxK3m",
      "nYjdzvngA5tmNAEQ5XTklh"
     ]
    }
   ],
   "version":4
  }
 },
 "nbformat":4,
 "nbformat_minor":4
}