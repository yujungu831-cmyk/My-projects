{
 "cells":[
  {
   "cell_type":"markdown",
   "source":[
    "# Sheet"
   ],
   "attachments":{},
   "metadata":{
    "datalore":{
     "node_id":"Sheet",
     "type":"MD",
     "hide_input_from_viewers":false,
     "hide_output_from_viewers":false,
     "sheet_delimiter":true
    }
   }
  },
  {
   "cell_type":"markdown",
   "source":[
    "# **LendingClub Loan Prediction**"
   ],
   "attachments":{},
   "metadata":{
    "datalore":{
     "node_id":"UQA2UbFpYVsAs2cFPVO1RY",
     "type":"MD",
     "hide_input_from_viewers":false,
     "hide_output_from_viewers":false,
     "report_properties":{
      "rowId":"Oak6iQfqfanHYwPVMKRBjQ",
      "relativeY":0
     }
    }
   }
  },
  {
   "cell_type":"code",
   "source":[
    "import pandas as pd\n",
    "LC_df = pd.read_csv('loan-clean-version.csv')\n",
    "LC_df.head()"
   ],
   "execution_count":467,
   "outputs":[
    {
     "data":{
      "text\/html":[
       "<div>\n",
       "<style scoped>\n",
       "    .dataframe tbody tr th:only-of-type {\n",
       "        vertical-align: middle;\n",
       "    }\n",
       "\n",
       "    .dataframe tbody tr th {\n",
       "        vertical-align: top;\n",
       "    }\n",
       "\n",
       "    .dataframe thead th {\n",
       "        text-align: right;\n",
       "    }\n",
       "<\/style>\n",
       "<table border=\"1\" class=\"dataframe\">\n",
       "  <thead>\n",
       "    <tr style=\"text-align: right;\">\n",
       "      <th><\/th>\n",
       "      <th>id<\/th>\n",
       "      <th>loan_amnt<\/th>\n",
       "      <th>funded_amnt<\/th>\n",
       "      <th>funded_amnt_inv<\/th>\n",
       "      <th>term<\/th>\n",
       "      <th>int_rate<\/th>\n",
       "      <th>installment<\/th>\n",
       "      <th>grade<\/th>\n",
       "      <th>emp_length<\/th>\n",
       "      <th>home_ownership<\/th>\n",
       "      <th>...<\/th>\n",
       "      <th>revol_bal<\/th>\n",
       "      <th>revol_util<\/th>\n",
       "      <th>total_acc<\/th>\n",
       "      <th>out_prncp<\/th>\n",
       "      <th>out_prncp_inv<\/th>\n",
       "      <th>total_pymnt<\/th>\n",
       "      <th>total_pymnt_inv<\/th>\n",
       "      <th>total_rec_prncp<\/th>\n",
       "      <th>total_rec_int<\/th>\n",
       "      <th>loan_status<\/th>\n",
       "    <\/tr>\n",
       "  <\/thead>\n",
       "  <tbody>\n",
       "    <tr>\n",
       "      <th>0<\/th>\n",
       "      <td>1077501<\/td>\n",
       "      <td>5000<\/td>\n",
       "      <td>5000<\/td>\n",
       "      <td>4975.0<\/td>\n",
       "      <td>36 months<\/td>\n",
       "      <td>10.65<\/td>\n",
       "      <td>162.87<\/td>\n",
       "      <td>B<\/td>\n",
       "      <td>10+ years<\/td>\n",
       "      <td>RENT<\/td>\n",
       "      <td>...<\/td>\n",
       "      <td>13648<\/td>\n",
       "      <td>83.7<\/td>\n",
       "      <td>9<\/td>\n",
       "      <td>0<\/td>\n",
       "      <td>0<\/td>\n",
       "      <td>5861.071414<\/td>\n",
       "      <td>5831.78<\/td>\n",
       "      <td>5000.00<\/td>\n",
       "      <td>861.07<\/td>\n",
       "      <td>Fully Paid<\/td>\n",
       "    <\/tr>\n",
       "    <tr>\n",
       "      <th>1<\/th>\n",
       "      <td>1077430<\/td>\n",
       "      <td>2500<\/td>\n",
       "      <td>2500<\/td>\n",
       "      <td>2500.0<\/td>\n",
       "      <td>60 months<\/td>\n",
       "      <td>15.27<\/td>\n",
       "      <td>59.83<\/td>\n",
       "      <td>C<\/td>\n",
       "      <td>Less than 1 year<\/td>\n",
       "      <td>RENT<\/td>\n",
       "      <td>...<\/td>\n",
       "      <td>1687<\/td>\n",
       "      <td>9.4<\/td>\n",
       "      <td>4<\/td>\n",
       "      <td>0<\/td>\n",
       "      <td>0<\/td>\n",
       "      <td>1008.710000<\/td>\n",
       "      <td>1008.71<\/td>\n",
       "      <td>456.46<\/td>\n",
       "      <td>435.17<\/td>\n",
       "      <td>Charged Off<\/td>\n",
       "    <\/tr>\n",
       "    <tr>\n",
       "      <th>2<\/th>\n",
       "      <td>1077175<\/td>\n",
       "      <td>2400<\/td>\n",
       "      <td>2400<\/td>\n",
       "      <td>2400.0<\/td>\n",
       "      <td>36 months<\/td>\n",
       "      <td>15.96<\/td>\n",
       "      <td>84.33<\/td>\n",
       "      <td>C<\/td>\n",
       "      <td>10+ years<\/td>\n",
       "      <td>RENT<\/td>\n",
       "      <td>...<\/td>\n",
       "      <td>2956<\/td>\n",
       "      <td>98.5<\/td>\n",
       "      <td>10<\/td>\n",
       "      <td>0<\/td>\n",
       "      <td>0<\/td>\n",
       "      <td>3003.653644<\/td>\n",
       "      <td>3003.65<\/td>\n",
       "      <td>2400.00<\/td>\n",
       "      <td>603.65<\/td>\n",
       "      <td>Fully Paid<\/td>\n",
       "    <\/tr>\n",
       "    <tr>\n",
       "      <th>3<\/th>\n",
       "      <td>1076863<\/td>\n",
       "      <td>10000<\/td>\n",
       "      <td>10000<\/td>\n",
       "      <td>10000.0<\/td>\n",
       "      <td>36 months<\/td>\n",
       "      <td>13.49<\/td>\n",
       "      <td>339.31<\/td>\n",
       "      <td>C<\/td>\n",
       "      <td>10+ years<\/td>\n",
       "      <td>RENT<\/td>\n",
       "      <td>...<\/td>\n",
       "      <td>5598<\/td>\n",
       "      <td>21.0<\/td>\n",
       "      <td>37<\/td>\n",
       "      <td>0<\/td>\n",
       "      <td>0<\/td>\n",
       "      <td>12226.302210<\/td>\n",
       "      <td>12226.30<\/td>\n",
       "      <td>10000.00<\/td>\n",
       "      <td>2209.33<\/td>\n",
       "      <td>Fully Paid<\/td>\n",
       "    <\/tr>\n",
       "    <tr>\n",
       "      <th>4<\/th>\n",
       "      <td>1075269<\/td>\n",
       "      <td>5000<\/td>\n",
       "      <td>5000<\/td>\n",
       "      <td>5000.0<\/td>\n",
       "      <td>36 months<\/td>\n",
       "      <td>7.90<\/td>\n",
       "      <td>156.46<\/td>\n",
       "      <td>A<\/td>\n",
       "      <td>3 years<\/td>\n",
       "      <td>RENT<\/td>\n",
       "      <td>...<\/td>\n",
       "      <td>7963<\/td>\n",
       "      <td>28.3<\/td>\n",
       "      <td>12<\/td>\n",
       "      <td>0<\/td>\n",
       "      <td>0<\/td>\n",
       "      <td>5631.377753<\/td>\n",
       "      <td>5631.38<\/td>\n",
       "      <td>5000.00<\/td>\n",
       "      <td>631.38<\/td>\n",
       "      <td>Fully Paid<\/td>\n",
       "    <\/tr>\n",
       "  <\/tbody>\n",
       "<\/table>\n",
       "<p>5 rows × 29 columns<\/p>\n",
       "<\/div>"
      ]
     },
     "metadata":{},
     "output_type":"display_data"
    }
   ],
   "metadata":{
    "datalore":{
     "node_id":"IBHZsjLUVS6nW9k7h7YgXV",
     "type":"CODE",
     "hide_input_from_viewers":false,
     "hide_output_from_viewers":false,
     "report_properties":{
      "rowId":"maWjM1yYjLllBSRRrw2wfc",
      "relativeY":0
     }
    }
   }
  },
  {
   "cell_type":"code",
   "source":[
    "#check data info:\n",
    "LC_df.info()"
   ],
   "execution_count":468,
   "outputs":[
    {
     "name":"stdout",
     "text":[
      "<class 'pandas.core.frame.DataFrame'>\n",
      "RangeIndex: 9004 entries, 0 to 9003\n",
      "Data columns (total 29 columns):\n",
      " #   Column               Non-Null Count  Dtype  \n",
      "---  ------               --------------  -----  \n",
      " 0   id                   9004 non-null   int64  \n",
      " 1   loan_amnt            9004 non-null   int64  \n",
      " 2   funded_amnt          9004 non-null   int64  \n",
      " 3   funded_amnt_inv      9004 non-null   float64\n",
      " 4   term                 9004 non-null   object \n",
      " 5   int_rate             9004 non-null   float64\n",
      " 6   installment          9004 non-null   float64\n",
      " 7   grade                9004 non-null   object \n",
      " 8   emp_length           8688 non-null   object \n",
      " 9   home_ownership       9004 non-null   object \n",
      " 10  annual_inc           9004 non-null   float64\n",
      " 11  verification_status  9004 non-null   object \n",
      " 12  purpose              9004 non-null   object \n",
      " 13  addr_state           9004 non-null   object \n",
      " 14  dti                  9004 non-null   float64\n",
      " 15  earliest_cr_line     9004 non-null   int64  \n",
      " 16  inq_last_6mths       9004 non-null   int64  \n",
      " 17  open_acc             9004 non-null   int64  \n",
      " 18  pub_rec              9004 non-null   int64  \n",
      " 19  revol_bal            9004 non-null   int64  \n",
      " 20  revol_util           9001 non-null   float64\n",
      " 21  total_acc            9004 non-null   int64  \n",
      " 22  out_prncp            9004 non-null   int64  \n",
      " 23  out_prncp_inv        9004 non-null   int64  \n",
      " 24  total_pymnt          9004 non-null   float64\n",
      " 25  total_pymnt_inv      9004 non-null   float64\n",
      " 26  total_rec_prncp      9004 non-null   float64\n",
      " 27  total_rec_int        9004 non-null   float64\n",
      " 28  loan_status          9004 non-null   object \n",
      "dtypes: float64(10), int64(11), object(8)\n",
      "memory usage: 2.0+ MB\n"
     ],
     "output_type":"stream"
    }
   ],
   "metadata":{
    "datalore":{
     "node_id":"lonMYkKVH7wMrkunKehVAU",
     "type":"CODE",
     "hide_input_from_viewers":false,
     "hide_output_from_viewers":false,
     "report_properties":{
      "rowId":"QxSyby20K8E1AeTm2HhRtr",
      "relativeY":0
     }
    }
   }
  },
  {
   "cell_type":"code",
   "source":[
    "#check the unique values\n",
    "LC_df.nunique()"
   ],
   "execution_count":469,
   "outputs":[
    {
     "data":{
      "text\/html":[
       "<pre>id                     9004\n",
       "loan_amnt               604\n",
       "funded_amnt             681\n",
       "funded_amnt_inv        1234\n",
       "term                      2\n",
       "int_rate                 70\n",
       "installment            3871\n",
       "grade                     7\n",
       "emp_length               11\n",
       "home_ownership            3\n",
       "annual_inc             1555\n",
       "verification_status       3\n",
       "purpose                  13\n",
       "addr_state               45\n",
       "dti                    2559\n",
       "earliest_cr_line        458\n",
       "inq_last_6mths            9\n",
       "open_acc                 33\n",
       "pub_rec                   3\n",
       "revol_bal              7573\n",
       "revol_util             1023\n",
       "total_acc                63\n",
       "out_prncp                 1\n",
       "out_prncp_inv             1\n",
       "total_pymnt            8962\n",
       "total_pymnt_inv        8942\n",
       "total_rec_prncp        2199\n",
       "total_rec_int          8838\n",
       "loan_status               2\n",
       "dtype: int64<\/pre>"
      ]
     },
     "metadata":{},
     "output_type":"display_data"
    }
   ],
   "metadata":{
    "datalore":{
     "node_id":"SjSUvy7QcUdon8elhjyxdd",
     "type":"CODE",
     "hide_input_from_viewers":false,
     "hide_output_from_viewers":false,
     "report_properties":{
      "rowId":"jpXqMT29F7oRimssCbzlzx",
      "relativeY":0
     }
    }
   }
  },
  {
   "cell_type":"code",
   "source":[
    "#check missing values\n",
    "LC_df.isnull().sum()"
   ],
   "execution_count":470,
   "outputs":[
    {
     "data":{
      "text\/html":[
       "<pre>id                       0\n",
       "loan_amnt                0\n",
       "funded_amnt              0\n",
       "funded_amnt_inv          0\n",
       "term                     0\n",
       "int_rate                 0\n",
       "installment              0\n",
       "grade                    0\n",
       "emp_length             316\n",
       "home_ownership           0\n",
       "annual_inc               0\n",
       "verification_status      0\n",
       "purpose                  0\n",
       "addr_state               0\n",
       "dti                      0\n",
       "earliest_cr_line         0\n",
       "inq_last_6mths           0\n",
       "open_acc                 0\n",
       "pub_rec                  0\n",
       "revol_bal                0\n",
       "revol_util               3\n",
       "total_acc                0\n",
       "out_prncp                0\n",
       "out_prncp_inv            0\n",
       "total_pymnt              0\n",
       "total_pymnt_inv          0\n",
       "total_rec_prncp          0\n",
       "total_rec_int            0\n",
       "loan_status              0\n",
       "dtype: int64<\/pre>"
      ]
     },
     "metadata":{},
     "output_type":"display_data"
    }
   ],
   "metadata":{
    "datalore":{
     "node_id":"iF1CFpZbciii3COXb9Lt7D",
     "type":"CODE",
     "hide_input_from_viewers":false,
     "hide_output_from_viewers":false,
     "report_properties":{
      "rowId":"0gr1JBWtq7xuDGWwNJmiwc",
      "relativeY":0
     }
    }
   }
  },
  {
   "cell_type":"markdown",
   "source":[
    "There are 316 missing value in emp_length."
   ],
   "attachments":{},
   "metadata":{
    "datalore":{
     "node_id":"IjNtIrnTq0iusiRqCS8W9s",
     "type":"MD",
     "hide_input_from_viewers":false,
     "hide_output_from_viewers":false,
     "report_properties":{
      "rowId":"3XTbk1Gr8PRc3DZYeljPDC",
      "relativeY":0
     }
    }
   }
  },
  {
   "cell_type":"code",
   "source":[
    "# check the distribution of target variable loan_status\n",
    "LC_df.loc[:,'loan_status'].value_counts()"
   ],
   "execution_count":471,
   "outputs":[
    {
     "data":{
      "text\/html":[
       "<pre>loan_status\n",
       "Fully Paid     7487\n",
       "Charged Off    1517\n",
       "Name: count, dtype: int64<\/pre>"
      ]
     },
     "metadata":{},
     "output_type":"display_data"
    }
   ],
   "metadata":{
    "datalore":{
     "node_id":"P29g3LOKhNLfEz56O9G1jc",
     "type":"CODE",
     "hide_input_from_viewers":false,
     "hide_output_from_viewers":false,
     "report_properties":{
      "rowId":"NnckYqTn3768CpU5WrTZmy",
      "relativeY":0
     }
    }
   }
  },
  {
   "cell_type":"markdown",
   "source":[
    "The number of people who are fully paid and charged off is roughly on the same order of magnitude, meaning that this data is balanced and does not need to be balanced."
   ],
   "attachments":{},
   "metadata":{
    "datalore":{
     "node_id":"SgYDqgSOWsNLp8Snrxphhp",
     "type":"MD",
     "hide_input_from_viewers":false,
     "hide_output_from_viewers":false,
     "report_properties":{
      "rowId":"vLVWtOKmBbOJYzKi5Ad7NX",
      "relativeY":0
     }
    }
   }
  },
  {
   "cell_type":"markdown",
   "source":[
    "# Part 1: Data Exploration"
   ],
   "attachments":{},
   "metadata":{
    "datalore":{
     "node_id":"TNuArUq7Kk7YRcc7jwn30C",
     "type":"MD",
     "hide_input_from_viewers":false,
     "hide_output_from_viewers":false,
     "report_properties":{
      "rowId":"tWXW3abvqDQAQGX05p4bMO",
      "relativeY":0
     }
    }
   }
  },
  {
   "cell_type":"code",
   "source":[
    "import seaborn as sns\n",
    "import matplotlib.pyplot as plt\n",
    "sns.set()\n",
    "\n",
    "numCol = []\n",
    "for col in LC_df:\n",
    "  if LC_df[col].dtype == float:\n",
    "    numCol.append(col)\n",
    "corr = LC_df[numCol].corr()\n",
    "ax = sns.heatmap(\n",
    "    corr, \n",
    "    vmin=-1, vmax=1, center=0,\n",
    "    cmap=sns.diverging_palette(20, 220, n=200),\n",
    "    square=True\n",
    ")\n",
    "ax.set_xticklabels(\n",
    "    ax.get_xticklabels(),\n",
    "    rotation=45,\n",
    "    horizontalalignment='right')"
   ],
   "execution_count":472,
   "outputs":[
    {
     "data":{
      "text\/plain":[
       "[Text(0.5, 0, 'funded_amnt_inv'),\n",
       " Text(1.5, 0, 'int_rate'),\n",
       " Text(2.5, 0, 'installment'),\n",
       " Text(3.5, 0, 'annual_inc'),\n",
       " Text(4.5, 0, 'dti'),\n",
       " Text(5.5, 0, 'revol_util'),\n",
       " Text(6.5, 0, 'total_pymnt'),\n",
       " Text(7.5, 0, 'total_pymnt_inv'),\n",
       " Text(8.5, 0, 'total_rec_prncp'),\n",
       " Text(9.5, 0, 'total_rec_int')]"
      ]
     },
     "metadata":{},
     "output_type":"display_data"
    },
    {
     "data":{
      "image\/png":"[encoded data removed]"
     },
     "metadata":{
      "image\/png":{}
     },
     "output_type":"display_data"
    }
   ],
   "metadata":{
    "datalore":{
     "node_id":"dw9LYwm5ZLoPSuUMn2bGmF",
     "type":"CODE",
     "hide_input_from_viewers":false,
     "hide_output_from_viewers":false,
     "report_properties":{
      "rowId":"HTPeg93Pm2W2QofC1V9WVL",
      "relativeY":0
     }
    }
   }
  },
  {
   "cell_type":"code",
   "source":[
    "corr_score = LC_df[numCol].corr()\n",
    "corr_score"
   ],
   "execution_count":473,
   "outputs":[
    {
     "data":{
      "text\/html":[
       "<div>\n",
       "<style scoped>\n",
       "    .dataframe tbody tr th:only-of-type {\n",
       "        vertical-align: middle;\n",
       "    }\n",
       "\n",
       "    .dataframe tbody tr th {\n",
       "        vertical-align: top;\n",
       "    }\n",
       "\n",
       "    .dataframe thead th {\n",
       "        text-align: right;\n",
       "    }\n",
       "<\/style>\n",
       "<table border=\"1\" class=\"dataframe\">\n",
       "  <thead>\n",
       "    <tr style=\"text-align: right;\">\n",
       "      <th><\/th>\n",
       "      <th>funded_amnt_inv<\/th>\n",
       "      <th>int_rate<\/th>\n",
       "      <th>installment<\/th>\n",
       "      <th>annual_inc<\/th>\n",
       "      <th>dti<\/th>\n",
       "      <th>revol_util<\/th>\n",
       "      <th>total_pymnt<\/th>\n",
       "      <th>total_pymnt_inv<\/th>\n",
       "      <th>total_rec_prncp<\/th>\n",
       "      <th>total_rec_int<\/th>\n",
       "    <\/tr>\n",
       "  <\/thead>\n",
       "  <tbody>\n",
       "    <tr>\n",
       "      <th>funded_amnt_inv<\/th>\n",
       "      <td>1.000000<\/td>\n",
       "      <td>0.302945<\/td>\n",
       "      <td>0.959195<\/td>\n",
       "      <td>0.371554<\/td>\n",
       "      <td>0.025192<\/td>\n",
       "      <td>0.022395<\/td>\n",
       "      <td>0.884368<\/td>\n",
       "      <td>0.885395<\/td>\n",
       "      <td>0.829373<\/td>\n",
       "      <td>0.734486<\/td>\n",
       "    <\/tr>\n",
       "    <tr>\n",
       "      <th>int_rate<\/th>\n",
       "      <td>0.302945<\/td>\n",
       "      <td>1.000000<\/td>\n",
       "      <td>0.267857<\/td>\n",
       "      <td>0.076103<\/td>\n",
       "      <td>0.091614<\/td>\n",
       "      <td>0.470893<\/td>\n",
       "      <td>0.259296<\/td>\n",
       "      <td>0.258493<\/td>\n",
       "      <td>0.124425<\/td>\n",
       "      <td>0.531955<\/td>\n",
       "    <\/tr>\n",
       "    <tr>\n",
       "      <th>installment<\/th>\n",
       "      <td>0.959195<\/td>\n",
       "      <td>0.267857<\/td>\n",
       "      <td>1.000000<\/td>\n",
       "      <td>0.385192<\/td>\n",
       "      <td>0.017451<\/td>\n",
       "      <td>0.056484<\/td>\n",
       "      <td>0.859719<\/td>\n",
       "      <td>0.859358<\/td>\n",
       "      <td>0.827792<\/td>\n",
       "      <td>0.660184<\/td>\n",
       "    <\/tr>\n",
       "    <tr>\n",
       "      <th>annual_inc<\/th>\n",
       "      <td>0.371554<\/td>\n",
       "      <td>0.076103<\/td>\n",
       "      <td>0.385192<\/td>\n",
       "      <td>1.000000<\/td>\n",
       "      <td>-0.176920<\/td>\n",
       "      <td>-0.005319<\/td>\n",
       "      <td>0.366455<\/td>\n",
       "      <td>0.364869<\/td>\n",
       "      <td>0.365577<\/td>\n",
       "      <td>0.253143<\/td>\n",
       "    <\/tr>\n",
       "    <tr>\n",
       "      <th>dti<\/th>\n",
       "      <td>0.025192<\/td>\n",
       "      <td>0.091614<\/td>\n",
       "      <td>0.017451<\/td>\n",
       "      <td>-0.176920<\/td>\n",
       "      <td>1.000000<\/td>\n",
       "      <td>0.243479<\/td>\n",
       "      <td>0.020130<\/td>\n",
       "      <td>0.019860<\/td>\n",
       "      <td>-0.004552<\/td>\n",
       "      <td>0.077365<\/td>\n",
       "    <\/tr>\n",
       "    <tr>\n",
       "      <th>revol_util<\/th>\n",
       "      <td>0.022395<\/td>\n",
       "      <td>0.470893<\/td>\n",
       "      <td>0.056484<\/td>\n",
       "      <td>-0.005319<\/td>\n",
       "      <td>0.243479<\/td>\n",
       "      <td>1.000000<\/td>\n",
       "      <td>0.022241<\/td>\n",
       "      <td>0.024014<\/td>\n",
       "      <td>-0.036570<\/td>\n",
       "      <td>0.171383<\/td>\n",
       "    <\/tr>\n",
       "    <tr>\n",
       "      <th>total_pymnt<\/th>\n",
       "      <td>0.884368<\/td>\n",
       "      <td>0.259296<\/td>\n",
       "      <td>0.859719<\/td>\n",
       "      <td>0.366455<\/td>\n",
       "      <td>0.020130<\/td>\n",
       "      <td>0.022241<\/td>\n",
       "      <td>1.000000<\/td>\n",
       "      <td>0.998224<\/td>\n",
       "      <td>0.968533<\/td>\n",
       "      <td>0.795019<\/td>\n",
       "    <\/tr>\n",
       "    <tr>\n",
       "      <th>total_pymnt_inv<\/th>\n",
       "      <td>0.885395<\/td>\n",
       "      <td>0.258493<\/td>\n",
       "      <td>0.859358<\/td>\n",
       "      <td>0.364869<\/td>\n",
       "      <td>0.019860<\/td>\n",
       "      <td>0.024014<\/td>\n",
       "      <td>0.998224<\/td>\n",
       "      <td>1.000000<\/td>\n",
       "      <td>0.966596<\/td>\n",
       "      <td>0.794365<\/td>\n",
       "    <\/tr>\n",
       "    <tr>\n",
       "      <th>total_rec_prncp<\/th>\n",
       "      <td>0.829373<\/td>\n",
       "      <td>0.124425<\/td>\n",
       "      <td>0.827792<\/td>\n",
       "      <td>0.365577<\/td>\n",
       "      <td>-0.004552<\/td>\n",
       "      <td>-0.036570<\/td>\n",
       "      <td>0.968533<\/td>\n",
       "      <td>0.966596<\/td>\n",
       "      <td>1.000000<\/td>\n",
       "      <td>0.634057<\/td>\n",
       "    <\/tr>\n",
       "    <tr>\n",
       "      <th>total_rec_int<\/th>\n",
       "      <td>0.734486<\/td>\n",
       "      <td>0.531955<\/td>\n",
       "      <td>0.660184<\/td>\n",
       "      <td>0.253143<\/td>\n",
       "      <td>0.077365<\/td>\n",
       "      <td>0.171383<\/td>\n",
       "      <td>0.795019<\/td>\n",
       "      <td>0.794365<\/td>\n",
       "      <td>0.634057<\/td>\n",
       "      <td>1.000000<\/td>\n",
       "    <\/tr>\n",
       "  <\/tbody>\n",
       "<\/table>\n",
       "<\/div>"
      ]
     },
     "metadata":{},
     "output_type":"display_data"
    }
   ],
   "metadata":{
    "datalore":{
     "node_id":"jnIyoSf6q74snDuoFaOsfj",
     "type":"CODE",
     "hide_input_from_viewers":false,
     "hide_output_from_viewers":false,
     "report_properties":{
      "rowId":"ucYCGS0LgsUVhQantHJZ3i",
      "relativeY":0
     }
    }
   }
  },
  {
   "cell_type":"markdown",
   "source":[
    "The above two figures show that there may be strong correlations between certain data (for example: dark areas in the heatmap except for diagonal lines and data near 1 in the corr)"
   ],
   "attachments":{},
   "metadata":{
    "datalore":{
     "node_id":"00iHH2o8fEn2bL8JfEum1G",
     "type":"MD",
     "hide_input_from_viewers":false,
     "hide_output_from_viewers":false,
     "report_properties":{
      "rowId":"9CdppEp3hC2p3cuFrGMckS",
      "relativeY":0
     }
    }
   }
  },
  {
   "cell_type":"code",
   "source":[
    "LC_df[\"purpose\"].value_counts().plot(kind='barh')"
   ],
   "execution_count":474,
   "outputs":[
    {
     "data":{
      "text\/plain":[
       "<Axes: ylabel='purpose'>"
      ]
     },
     "metadata":{},
     "output_type":"display_data"
    },
    {
     "data":{
      "image\/png":"[encoded data removed]"
     },
     "metadata":{
      "image\/png":{}
     },
     "output_type":"display_data"
    }
   ],
   "metadata":{
    "datalore":{
     "node_id":"94CZNBBNkoabVSx3kAuHjn",
     "type":"CODE",
     "hide_input_from_viewers":false,
     "hide_output_from_viewers":false,
     "report_properties":{
      "rowId":"6D08TTOOZQdcG5xipkxl45",
      "relativeY":0
     }
    }
   }
  },
  {
   "cell_type":"markdown",
   "source":[
    "The borrower's borrowing purpose is shown in the figure, and it can be seen that the borrower's borrowing purpose is mainly focused on debt restructuring and credit card."
   ],
   "attachments":{},
   "metadata":{
    "datalore":{
     "node_id":"J0z2scIlKD5AaCVAaRfm6M",
     "type":"MD",
     "hide_input_from_viewers":false,
     "hide_output_from_viewers":false,
     "report_properties":{
      "rowId":"1ztwLgDaCFnjVkJ0oZkXH4",
      "relativeY":0
     }
    }
   }
  },
  {
   "cell_type":"code",
   "source":[
    "LC_df[\"loan_amnt\"].value_counts()[:20].plot(kind='bar', title=\"LC Loan Amount\")"
   ],
   "execution_count":475,
   "outputs":[
    {
     "data":{
      "text\/plain":[
       "<Axes: title={'center': 'LC Loan Amount'}, xlabel='loan_amnt'>"
      ]
     },
     "metadata":{},
     "output_type":"display_data"
    },
    {
     "data":{
      "image\/png":"[encoded data removed]"
     },
     "metadata":{
      "image\/png":{}
     },
     "output_type":"display_data"
    }
   ],
   "metadata":{
    "datalore":{
     "node_id":"Q53Sv5VUBIdwz3RkfM4MuS",
     "type":"CODE",
     "hide_input_from_viewers":false,
     "hide_output_from_viewers":false,
     "report_properties":{
      "rowId":"pH1jk6PhpRuXw9exO8LHLN",
      "relativeY":0
     }
    }
   }
  },
  {
   "cell_type":"markdown",
   "source":[
    "Borrower's loan amount is shown in the figure. It can be observed that the majority of people's borrowing amounts are concentrated around 12000 and 6000."
   ],
   "attachments":{},
   "metadata":{
    "datalore":{
     "node_id":"HrOmLJ3x3hw2S3K9DQ5rNT",
     "type":"MD",
     "hide_input_from_viewers":false,
     "hide_output_from_viewers":false,
     "report_properties":{
      "rowId":"birYaLgRbuTvrpBWR40fFJ",
      "relativeY":0
     }
    }
   }
  },
  {
   "cell_type":"code",
   "source":[
    "LC_df[\"home_ownership\"].value_counts().plot(kind='pie')"
   ],
   "execution_count":476,
   "outputs":[
    {
     "data":{
      "text\/plain":[
       "<Axes: ylabel='count'>"
      ]
     },
     "metadata":{},
     "output_type":"display_data"
    },
    {
     "data":{
      "image\/png":"[encoded data removed]"
     },
     "metadata":{
      "image\/png":{}
     },
     "output_type":"display_data"
    }
   ],
   "metadata":{
    "datalore":{
     "node_id":"IAemHIzZnqv1NkuKP82PyU",
     "type":"CODE",
     "hide_input_from_viewers":false,
     "hide_output_from_viewers":false,
     "report_properties":{
      "rowId":"Tntb5zaOOGHlxxqB9j52u2",
      "relativeY":0
     }
    }
   }
  },
  {
   "cell_type":"markdown",
   "source":[
    "The borrower's housing situation is shown in the picture. Only a few borrowers own a house, while the majority of borrowers are in the state of renting or mortgaging their house for loans."
   ],
   "attachments":{},
   "metadata":{
    "datalore":{
     "node_id":"vkPsuO1XiPU3BOm9HzkRWG",
     "type":"MD",
     "hide_input_from_viewers":false,
     "hide_output_from_viewers":false,
     "report_properties":{
      "rowId":"6wxJmuxTsKFI92IMURlqTW",
      "relativeY":0
     }
    }
   }
  },
  {
   "cell_type":"code",
   "source":[
    "LC_df[\"emp_length\"].value_counts().plot(kind='bar', color='blue')"
   ],
   "execution_count":477,
   "outputs":[
    {
     "data":{
      "text\/plain":[
       "<Axes: xlabel='emp_length'>"
      ]
     },
     "metadata":{},
     "output_type":"display_data"
    },
    {
     "data":{
      "image\/png":"[encoded data removed]"
     },
     "metadata":{
      "image\/png":{}
     },
     "output_type":"display_data"
    }
   ],
   "metadata":{
    "datalore":{
     "node_id":"4xSGFedesu7Bbkkb6Ez5GK",
     "type":"CODE",
     "hide_input_from_viewers":false,
     "hide_output_from_viewers":false,
     "report_properties":{
      "rowId":"YEy7FyMz3luPbziA1LyRda",
      "relativeY":0
     }
    }
   }
  },
  {
   "cell_type":"markdown",
   "source":[
    "The borrower's employment time is shown in the figure. The length of employment can reflect the borrower's repayment ability  to some extent, with the highest number of borrowers having been employed for more than ten years. In addition, borrowers generally have shorter working hours, with most working within three years, and the number of borrowers is significantly higher than those working for 7-9 years."
   ],
   "attachments":{},
   "metadata":{
    "datalore":{
     "node_id":"lhzVtGeEmiDwKBsmPTqA2E",
     "type":"MD",
     "hide_input_from_viewers":false,
     "hide_output_from_viewers":false,
     "report_properties":{
      "rowId":"416Dfb12uO8eqLVvhMGAsf",
      "relativeY":0
     }
    }
   }
  },
  {
   "cell_type":"code",
   "source":[
    "#Classify data by location and prepare for drawing a map\n",
    "df_location = LC_df.groupby(\"addr_state\",).sum().reset_index()\n",
    "df_location = df_location.filter([\"addr_state\", \"loan_amnt\"], axis = 1)\n",
    "\n",
    "df_location.head()"
   ],
   "execution_count":478,
   "outputs":[
    {
     "data":{
      "text\/html":[
       "<div>\n",
       "<style scoped>\n",
       "    .dataframe tbody tr th:only-of-type {\n",
       "        vertical-align: middle;\n",
       "    }\n",
       "\n",
       "    .dataframe tbody tr th {\n",
       "        vertical-align: top;\n",
       "    }\n",
       "\n",
       "    .dataframe thead th {\n",
       "        text-align: right;\n",
       "    }\n",
       "<\/style>\n",
       "<table border=\"1\" class=\"dataframe\">\n",
       "  <thead>\n",
       "    <tr style=\"text-align: right;\">\n",
       "      <th><\/th>\n",
       "      <th>addr_state<\/th>\n",
       "      <th>loan_amnt<\/th>\n",
       "    <\/tr>\n",
       "  <\/thead>\n",
       "  <tbody>\n",
       "    <tr>\n",
       "      <th>0<\/th>\n",
       "      <td>AK<\/td>\n",
       "      <td>359675<\/td>\n",
       "    <\/tr>\n",
       "    <tr>\n",
       "      <th>1<\/th>\n",
       "      <td>AL<\/td>\n",
       "      <td>1308425<\/td>\n",
       "    <\/tr>\n",
       "    <tr>\n",
       "      <th>2<\/th>\n",
       "      <td>AR<\/td>\n",
       "      <td>753275<\/td>\n",
       "    <\/tr>\n",
       "    <tr>\n",
       "      <th>3<\/th>\n",
       "      <td>AZ<\/td>\n",
       "      <td>2477200<\/td>\n",
       "    <\/tr>\n",
       "    <tr>\n",
       "      <th>4<\/th>\n",
       "      <td>CA<\/td>\n",
       "      <td>20470425<\/td>\n",
       "    <\/tr>\n",
       "  <\/tbody>\n",
       "<\/table>\n",
       "<\/div>"
      ]
     },
     "metadata":{},
     "output_type":"display_data"
    }
   ],
   "metadata":{
    "datalore":{
     "node_id":"MRjPIKOthu2Hu2iQombmeq",
     "type":"CODE",
     "hide_input_from_viewers":false,
     "hide_output_from_viewers":false,
     "report_properties":{
      "rowId":"fFZqPKQGk1ruolmIs6ZKrZ",
      "relativeY":0
     }
    }
   }
  },
  {
   "cell_type":"markdown",
   "source":[
    "According to the data in the table, it can be seen that the number of borrowers in California is significantly higher, 8-9 times that of the second ranked state of Arizona."
   ],
   "attachments":{},
   "metadata":{
    "datalore":{
     "node_id":"l8NXzouydAWHWMXsaOz2Wc",
     "type":"MD",
     "hide_input_from_viewers":false,
     "hide_output_from_viewers":false,
     "report_properties":{
      "rowId":"rssvbXGkUmZQtJ3MgeL2Lu",
      "relativeY":0
     }
    }
   }
  },
  {
   "cell_type":"code",
   "source":[
    "#Create a map that displays the regions borrowers come from\n",
    "import plotly.graph_objects as go\n",
    "\n",
    "fig = go.Figure(data=go.Choropleth(\n",
    "    locations=df_location['addr_state'], # Spatial coordinates\n",
    "    z = df_location['loan_amnt'].astype(float), # Data to be color-coded\n",
    "    locationmode = 'USA-states', # set of locations match entries in `locations`\n",
    "    colorscale = 'Reds',\n",
    "    colorbar_title = \"USD\",\n",
    "))\n",
    "\n",
    "fig.update_layout(\n",
    "    title_text = 'Total amount issued by State',\n",
    "    geo_scope='usa', # limited map scope to USA\n",
    ")\n",
    "\n",
    "fig.show()"
   ],
   "execution_count":479,
   "outputs":[
    {
     "data":{
      "application\/vnd.plotly.v1+json":{
       "data":[
        {
         "colorbar":{
          "title":{
           "text":"USD"
          }
         },
         "colorscale":[
          [
           0,
           "rgb(255,245,240)"
          ],
          [
           0.125,
           "rgb(254,224,210)"
          ],
          [
           0.25,
           "rgb(252,187,161)"
          ],
          [
           0.375,
           "rgb(252,146,114)"
          ],
          [
           0.5,
           "rgb(251,106,74)"
          ],
          [
           0.625,
           "rgb(239,59,44)"
          ],
          [
           0.75,
           "rgb(203,24,29)"
          ],
          [
           0.875,
           "rgb(165,15,21)"
          ],
          [
           1,
           "rgb(103,0,13)"
          ]
         ],
         "locationmode":"USA-states",
         "locations":[
          "AK",
          "AL",
          "AR",
          "AZ",
          "CA",
          "CO",
          "CT",
          "DC",
          "DE",
          "FL",
          "GA",
          "HI",
          "IL",
          "KS",
          "KY",
          "LA",
          "MA",
          "MD",
          "MI",
          "MN",
          "MO",
          "MS",
          "MT",
          "NC",
          "NH",
          "NJ",
          "NM",
          "NV",
          "NY",
          "OH",
          "OK",
          "OR",
          "PA",
          "RI",
          "SC",
          "SD",
          "TN",
          "TX",
          "UT",
          "VA",
          "VT",
          "WA",
          "WI",
          "WV",
          "WY"
         ],
         "z":{
          "dtype":"f8",
          "bdata":"AAAAAOzzFUEAAAAACfczQQAAAAD2\/CZBAAAAAEjmQkEAAACQqYVzQQAAAADNlUBBAAAAgMoCQkEAAAAAIqAlQQAAAAAU\/RFBAAAAwEiOXUEAAACAMVZLQQAAAAA62iNBAAAAQEtKUUEAAAAAfpQqQQAAAADY\/CtBAAAAAMmYMUEAAAAAQK5GQQAAAIAi2kRBAAAAAFtfOEEAAAAAUYI4QQAAAACojj5BAAAAAABwt0AAAAAAuI8MQQAAAICFAkZBAAAAADBHIEEAAABAdjVUQQAAAABs1BRBAAAAAHPjMkEAAADg9WtjQQAAAADRJElBAAAAAOzPK0EAAAAAKLEyQQAAAABSYUpBAAAAADy+GUEAAAAAv9QxQQAAAACQ\/A1BAAAAAABY20AAAADAgx9gQQAAAADaTyxBAAAAgLw9TEEAAAAAkMgFQQAAAAB6zUJBAAAAAPNOOEEAAAAAHIMaQQAAAABYsAVB"
         },
         "type":"choropleth"
        }
       ],
       "layout":{
        "template":{
         "data":{
          "histogram2dcontour":[
           {
            "type":"histogram2dcontour",
            "colorbar":{
             "outlinewidth":0,
             "ticks":""
            },
            "colorscale":[
             [
              0,
              "#0d0887"
             ],
             [
              0.1111111111111111,
              "#46039f"
             ],
             [
              0.2222222222222222,
              "#7201a8"
             ],
             [
              0.3333333333333333,
              "#9c179e"
             ],
             [
              0.4444444444444444,
              "#bd3786"
             ],
             [
              0.5555555555555556,
              "#d8576b"
             ],
             [
              0.6666666666666666,
              "#ed7953"
             ],
             [
              0.7777777777777778,
              "#fb9f3a"
             ],
             [
              0.8888888888888888,
              "#fdca26"
             ],
             [
              1,
              "#f0f921"
             ]
            ]
           }
          ],
          "choropleth":[
           {
            "type":"choropleth",
            "colorbar":{
             "outlinewidth":0,
             "ticks":""
            }
           }
          ],
          "histogram2d":[
           {
            "type":"histogram2d",
            "colorbar":{
             "outlinewidth":0,
             "ticks":""
            },
            "colorscale":[
             [
              0,
              "#0d0887"
             ],
             [
              0.1111111111111111,
              "#46039f"
             ],
             [
              0.2222222222222222,
              "#7201a8"
             ],
             [
              0.3333333333333333,
              "#9c179e"
             ],
             [
              0.4444444444444444,
              "#bd3786"
             ],
             [
              0.5555555555555556,
              "#d8576b"
             ],
             [
              0.6666666666666666,
              "#ed7953"
             ],
             [
              0.7777777777777778,
              "#fb9f3a"
             ],
             [
              0.8888888888888888,
              "#fdca26"
             ],
             [
              1,
              "#f0f921"
             ]
            ]
           }
          ],
          "heatmap":[
           {
            "type":"heatmap",
            "colorbar":{
             "outlinewidth":0,
             "ticks":""
            },
            "colorscale":[
             [
              0,
              "#0d0887"
             ],
             [
              0.1111111111111111,
              "#46039f"
             ],
             [
              0.2222222222222222,
              "#7201a8"
             ],
             [
              0.3333333333333333,
              "#9c179e"
             ],
             [
              0.4444444444444444,
              "#bd3786"
             ],
             [
              0.5555555555555556,
              "#d8576b"
             ],
             [
              0.6666666666666666,
              "#ed7953"
             ],
             [
              0.7777777777777778,
              "#fb9f3a"
             ],
             [
              0.8888888888888888,
              "#fdca26"
             ],
             [
              1,
              "#f0f921"
             ]
            ]
           }
          ],
          "contourcarpet":[
           {
            "type":"contourcarpet",
            "colorbar":{
             "outlinewidth":0,
             "ticks":""
            }
           }
          ],
          "contour":[
           {
            "type":"contour",
            "colorbar":{
             "outlinewidth":0,
             "ticks":""
            },
            "colorscale":[
             [
              0,
              "#0d0887"
             ],
             [
              0.1111111111111111,
              "#46039f"
             ],
             [
              0.2222222222222222,
              "#7201a8"
             ],
             [
              0.3333333333333333,
              "#9c179e"
             ],
             [
              0.4444444444444444,
              "#bd3786"
             ],
             [
              0.5555555555555556,
              "#d8576b"
             ],
             [
              0.6666666666666666,
              "#ed7953"
             ],
             [
              0.7777777777777778,
              "#fb9f3a"
             ],
             [
              0.8888888888888888,
              "#fdca26"
             ],
             [
              1,
              "#f0f921"
             ]
            ]
           }
          ],
          "surface":[
           {
            "type":"surface",
            "colorbar":{
             "outlinewidth":0,
             "ticks":""
            },
            "colorscale":[
             [
              0,
              "#0d0887"
             ],
             [
              0.1111111111111111,
              "#46039f"
             ],
             [
              0.2222222222222222,
              "#7201a8"
             ],
             [
              0.3333333333333333,
              "#9c179e"
             ],
             [
              0.4444444444444444,
              "#bd3786"
             ],
             [
              0.5555555555555556,
              "#d8576b"
             ],
             [
              0.6666666666666666,
              "#ed7953"
             ],
             [
              0.7777777777777778,
              "#fb9f3a"
             ],
             [
              0.8888888888888888,
              "#fdca26"
             ],
             [
              1,
              "#f0f921"
             ]
            ]
           }
          ],
          "mesh3d":[
           {
            "type":"mesh3d",
            "colorbar":{
             "outlinewidth":0,
             "ticks":""
            }
           }
          ],
          "scatter":[
           {
            "fillpattern":{
             "fillmode":"overlay",
             "size":10,
             "solidity":0.2
            },
            "type":"scatter"
           }
          ],
          "parcoords":[
           {
            "type":"parcoords",
            "line":{
             "colorbar":{
              "outlinewidth":0,
              "ticks":""
             }
            }
           }
          ],
          "scatterpolargl":[
           {
            "type":"scatterpolargl",
            "marker":{
             "colorbar":{
              "outlinewidth":0,
              "ticks":""
             }
            }
           }
          ],
          "bar":[
           {
            "error_x":{
             "color":"#2a3f5f"
            },
            "error_y":{
             "color":"#2a3f5f"
            },
            "marker":{
             "line":{
              "color":"#E5ECF6",
              "width":0.5
             },
             "pattern":{
              "fillmode":"overlay",
              "size":10,
              "solidity":0.2
             }
            },
            "type":"bar"
           }
          ],
          "scattergeo":[
           {
            "type":"scattergeo",
            "marker":{
             "colorbar":{
              "outlinewidth":0,
              "ticks":""
             }
            }
           }
          ],
          "scatterpolar":[
           {
            "type":"scatterpolar",
            "marker":{
             "colorbar":{
              "outlinewidth":0,
              "ticks":""
             }
            }
           }
          ],
          "histogram":[
           {
            "marker":{
             "pattern":{
              "fillmode":"overlay",
              "size":10,
              "solidity":0.2
             }
            },
            "type":"histogram"
           }
          ],
          "scattergl":[
           {
            "type":"scattergl",
            "marker":{
             "colorbar":{
              "outlinewidth":0,
              "ticks":""
             }
            }
           }
          ],
          "scatter3d":[
           {
            "type":"scatter3d",
            "line":{
             "colorbar":{
              "outlinewidth":0,
              "ticks":""
             }
            },
            "marker":{
             "colorbar":{
              "outlinewidth":0,
              "ticks":""
             }
            }
           }
          ],
          "scattermap":[
           {
            "type":"scattermap",
            "marker":{
             "colorbar":{
              "outlinewidth":0,
              "ticks":""
             }
            }
           }
          ],
          "scattermapbox":[
           {
            "type":"scattermapbox",
            "marker":{
             "colorbar":{
              "outlinewidth":0,
              "ticks":""
             }
            }
           }
          ],
          "scatterternary":[
           {
            "type":"scatterternary",
            "marker":{
             "colorbar":{
              "outlinewidth":0,
              "ticks":""
             }
            }
           }
          ],
          "scattercarpet":[
           {
            "type":"scattercarpet",
            "marker":{
             "colorbar":{
              "outlinewidth":0,
              "ticks":""
             }
            }
           }
          ],
          "carpet":[
           {
            "aaxis":{
             "endlinecolor":"#2a3f5f",
             "gridcolor":"white",
             "linecolor":"white",
             "minorgridcolor":"white",
             "startlinecolor":"#2a3f5f"
            },
            "baxis":{
             "endlinecolor":"#2a3f5f",
             "gridcolor":"white",
             "linecolor":"white",
             "minorgridcolor":"white",
             "startlinecolor":"#2a3f5f"
            },
            "type":"carpet"
           }
          ],
          "table":[
           {
            "cells":{
             "fill":{
              "color":"#EBF0F8"
             },
             "line":{
              "color":"white"
             }
            },
            "header":{
             "fill":{
              "color":"#C8D4E3"
             },
             "line":{
              "color":"white"
             }
            },
            "type":"table"
           }
          ],
          "barpolar":[
           {
            "marker":{
             "line":{
              "color":"#E5ECF6",
              "width":0.5
             },
             "pattern":{
              "fillmode":"overlay",
              "size":10,
              "solidity":0.2
             }
            },
            "type":"barpolar"
           }
          ],
          "pie":[
           {
            "automargin":true,
            "type":"pie"
           }
          ]
         },
         "layout":{
          "autotypenumbers":"strict",
          "colorway":[
           "#636efa",
           "#EF553B",
           "#00cc96",
           "#ab63fa",
           "#FFA15A",
           "#19d3f3",
           "#FF6692",
           "#B6E880",
           "#FF97FF",
           "#FECB52"
          ],
          "font":{
           "color":"#2a3f5f"
          },
          "hovermode":"closest",
          "hoverlabel":{
           "align":"left"
          },
          "paper_bgcolor":"white",
          "plot_bgcolor":"#E5ECF6",
          "polar":{
           "bgcolor":"#E5ECF6",
           "angularaxis":{
            "gridcolor":"white",
            "linecolor":"white",
            "ticks":""
           },
           "radialaxis":{
            "gridcolor":"white",
            "linecolor":"white",
            "ticks":""
           }
          },
          "ternary":{
           "bgcolor":"#E5ECF6",
           "aaxis":{
            "gridcolor":"white",
            "linecolor":"white",
            "ticks":""
           },
           "baxis":{
            "gridcolor":"white",
            "linecolor":"white",
            "ticks":""
           },
           "caxis":{
            "gridcolor":"white",
            "linecolor":"white",
            "ticks":""
           }
          },
          "coloraxis":{
           "colorbar":{
            "outlinewidth":0,
            "ticks":""
           }
          },
          "colorscale":{
           "sequential":[
            [
             0,
             "#0d0887"
            ],
            [
             0.1111111111111111,
             "#46039f"
            ],
            [
             0.2222222222222222,
             "#7201a8"
            ],
            [
             0.3333333333333333,
             "#9c179e"
            ],
            [
             0.4444444444444444,
             "#bd3786"
            ],
            [
             0.5555555555555556,
             "#d8576b"
            ],
            [
             0.6666666666666666,
             "#ed7953"
            ],
            [
             0.7777777777777778,
             "#fb9f3a"
            ],
            [
             0.8888888888888888,
             "#fdca26"
            ],
            [
             1,
             "#f0f921"
            ]
           ],
           "sequentialminus":[
            [
             0,
             "#0d0887"
            ],
            [
             0.1111111111111111,
             "#46039f"
            ],
            [
             0.2222222222222222,
             "#7201a8"
            ],
            [
             0.3333333333333333,
             "#9c179e"
            ],
            [
             0.4444444444444444,
             "#bd3786"
            ],
            [
             0.5555555555555556,
             "#d8576b"
            ],
            [
             0.6666666666666666,
             "#ed7953"
            ],
            [
             0.7777777777777778,
             "#fb9f3a"
            ],
            [
             0.8888888888888888,
             "#fdca26"
            ],
            [
             1,
             "#f0f921"
            ]
           ],
           "diverging":[
            [
             0,
             "#8e0152"
            ],
            [
             0.1,
             "#c51b7d"
            ],
            [
             0.2,
             "#de77ae"
            ],
            [
             0.3,
             "#f1b6da"
            ],
            [
             0.4,
             "#fde0ef"
            ],
            [
             0.5,
             "#f7f7f7"
            ],
            [
             0.6,
             "#e6f5d0"
            ],
            [
             0.7,
             "#b8e186"
            ],
            [
             0.8,
             "#7fbc41"
            ],
            [
             0.9,
             "#4d9221"
            ],
            [
             1,
             "#276419"
            ]
           ]
          },
          "xaxis":{
           "gridcolor":"white",
           "linecolor":"white",
           "ticks":"",
           "title":{
            "standoff":15
           },
           "zerolinecolor":"white",
           "automargin":true,
           "zerolinewidth":2
          },
          "yaxis":{
           "gridcolor":"white",
           "linecolor":"white",
           "ticks":"",
           "title":{
            "standoff":15
           },
           "zerolinecolor":"white",
           "automargin":true,
           "zerolinewidth":2
          },
          "scene":{
           "xaxis":{
            "backgroundcolor":"#E5ECF6",
            "gridcolor":"white",
            "linecolor":"white",
            "showbackground":true,
            "ticks":"",
            "zerolinecolor":"white",
            "gridwidth":2
           },
           "yaxis":{
            "backgroundcolor":"#E5ECF6",
            "gridcolor":"white",
            "linecolor":"white",
            "showbackground":true,
            "ticks":"",
            "zerolinecolor":"white",
            "gridwidth":2
           },
           "zaxis":{
            "backgroundcolor":"#E5ECF6",
            "gridcolor":"white",
            "linecolor":"white",
            "showbackground":true,
            "ticks":"",
            "zerolinecolor":"white",
            "gridwidth":2
           }
          },
          "shapedefaults":{
           "line":{
            "color":"#2a3f5f"
           }
          },
          "annotationdefaults":{
           "arrowcolor":"#2a3f5f",
           "arrowhead":0,
           "arrowwidth":1
          },
          "geo":{
           "bgcolor":"white",
           "landcolor":"#E5ECF6",
           "subunitcolor":"white",
           "showland":true,
           "showlakes":true,
           "lakecolor":"white"
          },
          "title":{
           "x":0.05
          },
          "mapbox":{
           "style":"light"
          }
         }
        },
        "title":{
         "text":"Total amount issued by State"
        },
        "geo":{
         "scope":"usa"
        }
       },
       "config":{
        "plotlyServerURL":"https:\/\/plot.ly"
       }
      }
     },
     "metadata":{},
     "output_type":"display_data"
    }
   ],
   "metadata":{
    "datalore":{
     "node_id":"yKb1XhhKAe5q9FCLL14Abx",
     "type":"CODE",
     "hide_input_from_viewers":false,
     "hide_output_from_viewers":false,
     "report_properties":{
      "rowId":"TADvfYsC67xhwGyE8XYeVD",
      "relativeY":0
     }
    }
   }
  },
  {
   "cell_type":"markdown",
   "source":[
    "Project the number of borrowers onto the map"
   ],
   "attachments":{},
   "metadata":{
    "datalore":{
     "node_id":"8oIJiheYlP6b2XBzUcPiyn",
     "type":"MD",
     "hide_input_from_viewers":false,
     "hide_output_from_viewers":false,
     "report_properties":{
      "rowId":"9qwk87HnzrXC1eeeDvjPLA",
      "relativeY":0
     }
    }
   }
  },
  {
   "cell_type":"code",
   "source":[
    "import matplotlib.image as mpimg\n",
    "\n",
    "img = mpimg.imread('\/data\/notebook_files\/Population_by_U.S._state.svg.png')\n",
    "\n",
    "plt.figure(figsize=(10, 8)) \n",
    "plt.imshow(img)\n",
    "plt.axis('off')  \n",
    "plt.title('Population')\n",
    "plt.show()"
   ],
   "execution_count":480,
   "outputs":[
    {
     "data":{
      "image\/png":"[encoded data removed]"
     },
     "metadata":{
      "image\/png":{}
     },
     "output_type":"display_data"
    }
   ],
   "metadata":{
    "datalore":{
     "node_id":"jCp9ZSxqo7YeG0dGJTUg2i",
     "type":"CODE",
     "hide_input_from_viewers":false,
     "hide_output_from_viewers":false,
     "report_properties":{
      "rowId":"6osiamnczupkj7oanG6y1l",
      "relativeY":0
     }
    }
   }
  },
  {
   "cell_type":"markdown",
   "source":[
    "Then download the population distribution of each continent in the United States from the official website. After comparing the two maps, the distribution of borrowers roughly conforms to the population distribution of various continents in the United States. If the number of borrowers in a region is abnormally higher than that of a region with a similar population, it indicates that there may be criminal activities related to borrowing in this area, and the possibility of not receiving repayment will increase significantly."
   ],
   "attachments":{},
   "metadata":{
    "datalore":{
     "node_id":"CP8fJMbkziZccKxDtVcWuV",
     "type":"MD",
     "hide_input_from_viewers":false,
     "hide_output_from_viewers":false,
     "report_properties":{
      "rowId":"xN6c8qBprKHpl0t1q2hgw6",
      "relativeY":0
     }
    }
   }
  },
  {
   "cell_type":"code",
   "source":[
    "plt.figure(figsize=(16, 6))\n",
    "plt.subplot(1, 2, 1)\n",
    "sns.countplot(x=\"grade\", data= LC_df, order = LC_df['grade'].value_counts().index)"
   ],
   "execution_count":481,
   "outputs":[
    {
     "data":{
      "text\/plain":[
       "<Axes: xlabel='grade', ylabel='count'>"
      ]
     },
     "metadata":{},
     "output_type":"display_data"
    },
    {
     "data":{
      "image\/png":"[encoded data removed]"
     },
     "metadata":{
      "image\/png":{}
     },
     "output_type":"display_data"
    }
   ],
   "metadata":{
    "datalore":{
     "node_id":"8BNSnKFNJnmw8b9FyvUB0s",
     "type":"CODE",
     "hide_input_from_viewers":false,
     "hide_output_from_viewers":false,
     "report_properties":{
      "rowId":"AGbcq4wkS2yH6VFzhEOqNO",
      "relativeY":0
     }
    }
   }
  },
  {
   "cell_type":"markdown",
   "source":[
    "The above chart shows that the number of people with credit ratings of A and B is the highest, while the number of EFG is in the minority, and these minority borrowers are more likely to not receive repayments."
   ],
   "attachments":{},
   "metadata":{
    "datalore":{
     "node_id":"VaDxv2moZQCmlmUIdPRWWY",
     "type":"MD",
     "hide_input_from_viewers":false,
     "hide_output_from_viewers":false,
     "report_properties":{
      "rowId":"CFlW2MxtJhfuIDkLgAsinT",
      "relativeY":0
     }
    }
   }
  },
  {
   "cell_type":"code",
   "source":[
    "_,axss = plt.subplots(3,2, figsize=[30,20])\n",
    "sns.countplot(x='loan_status', hue='term', data=LC_df, ax=axss[0][0])\n",
    "sns.countplot(x='loan_status', hue='grade', data=LC_df, ax=axss[0][1])\n",
    "sns.countplot(x='loan_status', hue='emp_length', data=LC_df, ax=axss[1][0])\n",
    "sns.countplot(x='loan_status', hue='home_ownership', data=LC_df, ax=axss[1][1])\n",
    "sns.countplot(x='loan_status', hue='verification_status', data=LC_df, ax=axss[2][0])\n",
    "sns.countplot(x='loan_status', hue='purpose', data=LC_df, ax=axss[2][1])"
   ],
   "execution_count":482,
   "outputs":[
    {
     "data":{
      "text\/plain":[
       "<Axes: xlabel='loan_status', ylabel='count'>"
      ]
     },
     "metadata":{},
     "output_type":"display_data"
    },
    {
     "data":{
      "image\/png":"[encoded data removed]"
     },
     "metadata":{
      "image\/png":{}
     },
     "output_type":"display_data"
    }
   ],
   "metadata":{
    "datalore":{
     "node_id":"ZxWYO0b1n4f9VFhd6PNYCW",
     "type":"CODE",
     "hide_input_from_viewers":false,
     "hide_output_from_viewers":false,
     "report_properties":{
      "rowId":"slzBhps8vMKLp1nrvZGasA",
      "relativeY":0
     }
    }
   }
  },
  {
   "cell_type":"markdown",
   "source":[
    "According to the above picture, term and grade have a significant impact on whether to repay, while other variables such as emp length, home ownership, verification status, and purpose have relatively little impact on whether to repay."
   ],
   "attachments":{},
   "metadata":{
    "datalore":{
     "node_id":"ZUptvb6j3am7oL6VROmle5",
     "type":"MD",
     "hide_input_from_viewers":false,
     "hide_output_from_viewers":false,
     "report_properties":{
      "rowId":"yAFmalaO7g9saKuspMJwgk",
      "relativeY":0
     }
    }
   }
  },
  {
   "cell_type":"markdown",
   "source":[
    "# Part 2: Data cleaning and Feature Preprocessing"
   ],
   "attachments":{},
   "metadata":{
    "datalore":{
     "node_id":"yHpC2n6WOItMWgBxbXe8q0",
     "type":"MD",
     "hide_input_from_viewers":false,
     "hide_output_from_viewers":false,
     "report_properties":{
      "rowId":"CkZw5jpnZqcbleVwILfIlG",
      "relativeY":0
     }
    }
   }
  },
  {
   "cell_type":"code",
   "source":[
    "import numpy as np\n",
    "from sklearn.preprocessing import OneHotEncoder\n",
    "X = LC_df.copy()\n",
    "\n",
    "#Delete high correlation and high variance columns\n",
    "X = X.drop([\"total_pymnt\"], axis=1)\n",
    "X = X.drop([\"total_pymnt_inv\"], axis=1)\n",
    "X = X.drop([\"total_rec_int\"], axis=1)\n",
    "X = X.drop([\"id\"], axis=1)\n",
    "X = X.drop([\"total_rec_prncp\"], axis=1)\n",
    "\n",
    "X.head()"
   ],
   "execution_count":483,
   "outputs":[
    {
     "data":{
      "text\/html":[
       "<div>\n",
       "<style scoped>\n",
       "    .dataframe tbody tr th:only-of-type {\n",
       "        vertical-align: middle;\n",
       "    }\n",
       "\n",
       "    .dataframe tbody tr th {\n",
       "        vertical-align: top;\n",
       "    }\n",
       "\n",
       "    .dataframe thead th {\n",
       "        text-align: right;\n",
       "    }\n",
       "<\/style>\n",
       "<table border=\"1\" class=\"dataframe\">\n",
       "  <thead>\n",
       "    <tr style=\"text-align: right;\">\n",
       "      <th><\/th>\n",
       "      <th>loan_amnt<\/th>\n",
       "      <th>funded_amnt<\/th>\n",
       "      <th>funded_amnt_inv<\/th>\n",
       "      <th>term<\/th>\n",
       "      <th>int_rate<\/th>\n",
       "      <th>installment<\/th>\n",
       "      <th>grade<\/th>\n",
       "      <th>emp_length<\/th>\n",
       "      <th>home_ownership<\/th>\n",
       "      <th>annual_inc<\/th>\n",
       "      <th>...<\/th>\n",
       "      <th>earliest_cr_line<\/th>\n",
       "      <th>inq_last_6mths<\/th>\n",
       "      <th>open_acc<\/th>\n",
       "      <th>pub_rec<\/th>\n",
       "      <th>revol_bal<\/th>\n",
       "      <th>revol_util<\/th>\n",
       "      <th>total_acc<\/th>\n",
       "      <th>out_prncp<\/th>\n",
       "      <th>out_prncp_inv<\/th>\n",
       "      <th>loan_status<\/th>\n",
       "    <\/tr>\n",
       "  <\/thead>\n",
       "  <tbody>\n",
       "    <tr>\n",
       "      <th>0<\/th>\n",
       "      <td>5000<\/td>\n",
       "      <td>5000<\/td>\n",
       "      <td>4975.0<\/td>\n",
       "      <td>36 months<\/td>\n",
       "      <td>10.65<\/td>\n",
       "      <td>162.87<\/td>\n",
       "      <td>B<\/td>\n",
       "      <td>10+ years<\/td>\n",
       "      <td>RENT<\/td>\n",
       "      <td>24000.0<\/td>\n",
       "      <td>...<\/td>\n",
       "      <td>31048<\/td>\n",
       "      <td>1<\/td>\n",
       "      <td>3<\/td>\n",
       "      <td>0<\/td>\n",
       "      <td>13648<\/td>\n",
       "      <td>83.7<\/td>\n",
       "      <td>9<\/td>\n",
       "      <td>0<\/td>\n",
       "      <td>0<\/td>\n",
       "      <td>Fully Paid<\/td>\n",
       "    <\/tr>\n",
       "    <tr>\n",
       "      <th>1<\/th>\n",
       "      <td>2500<\/td>\n",
       "      <td>2500<\/td>\n",
       "      <td>2500.0<\/td>\n",
       "      <td>60 months<\/td>\n",
       "      <td>15.27<\/td>\n",
       "      <td>59.83<\/td>\n",
       "      <td>C<\/td>\n",
       "      <td>Less than 1 year<\/td>\n",
       "      <td>RENT<\/td>\n",
       "      <td>30000.0<\/td>\n",
       "      <td>...<\/td>\n",
       "      <td>36251<\/td>\n",
       "      <td>5<\/td>\n",
       "      <td>3<\/td>\n",
       "      <td>0<\/td>\n",
       "      <td>1687<\/td>\n",
       "      <td>9.4<\/td>\n",
       "      <td>4<\/td>\n",
       "      <td>0<\/td>\n",
       "      <td>0<\/td>\n",
       "      <td>Charged Off<\/td>\n",
       "    <\/tr>\n",
       "    <tr>\n",
       "      <th>2<\/th>\n",
       "      <td>2400<\/td>\n",
       "      <td>2400<\/td>\n",
       "      <td>2400.0<\/td>\n",
       "      <td>36 months<\/td>\n",
       "      <td>15.96<\/td>\n",
       "      <td>84.33<\/td>\n",
       "      <td>C<\/td>\n",
       "      <td>10+ years<\/td>\n",
       "      <td>RENT<\/td>\n",
       "      <td>12252.0<\/td>\n",
       "      <td>...<\/td>\n",
       "      <td>43040<\/td>\n",
       "      <td>2<\/td>\n",
       "      <td>2<\/td>\n",
       "      <td>0<\/td>\n",
       "      <td>2956<\/td>\n",
       "      <td>98.5<\/td>\n",
       "      <td>10<\/td>\n",
       "      <td>0<\/td>\n",
       "      <td>0<\/td>\n",
       "      <td>Fully Paid<\/td>\n",
       "    <\/tr>\n",
       "    <tr>\n",
       "      <th>3<\/th>\n",
       "      <td>10000<\/td>\n",
       "      <td>10000<\/td>\n",
       "      <td>10000.0<\/td>\n",
       "      <td>36 months<\/td>\n",
       "      <td>13.49<\/td>\n",
       "      <td>339.31<\/td>\n",
       "      <td>C<\/td>\n",
       "      <td>10+ years<\/td>\n",
       "      <td>RENT<\/td>\n",
       "      <td>49200.0<\/td>\n",
       "      <td>...<\/td>\n",
       "      <td>35096<\/td>\n",
       "      <td>1<\/td>\n",
       "      <td>10<\/td>\n",
       "      <td>0<\/td>\n",
       "      <td>5598<\/td>\n",
       "      <td>21.0<\/td>\n",
       "      <td>37<\/td>\n",
       "      <td>0<\/td>\n",
       "      <td>0<\/td>\n",
       "      <td>Fully Paid<\/td>\n",
       "    <\/tr>\n",
       "    <tr>\n",
       "      <th>4<\/th>\n",
       "      <td>5000<\/td>\n",
       "      <td>5000<\/td>\n",
       "      <td>5000.0<\/td>\n",
       "      <td>36 months<\/td>\n",
       "      <td>7.90<\/td>\n",
       "      <td>156.46<\/td>\n",
       "      <td>A<\/td>\n",
       "      <td>3 years<\/td>\n",
       "      <td>RENT<\/td>\n",
       "      <td>36000.0<\/td>\n",
       "      <td>...<\/td>\n",
       "      <td>43043<\/td>\n",
       "      <td>3<\/td>\n",
       "      <td>9<\/td>\n",
       "      <td>0<\/td>\n",
       "      <td>7963<\/td>\n",
       "      <td>28.3<\/td>\n",
       "      <td>12<\/td>\n",
       "      <td>0<\/td>\n",
       "      <td>0<\/td>\n",
       "      <td>Fully Paid<\/td>\n",
       "    <\/tr>\n",
       "  <\/tbody>\n",
       "<\/table>\n",
       "<p>5 rows × 24 columns<\/p>\n",
       "<\/div>"
      ]
     },
     "metadata":{},
     "output_type":"display_data"
    }
   ],
   "metadata":{
    "datalore":{
     "node_id":"vg0OlQtDSyPm36TWC6qH3C",
     "type":"CODE",
     "hide_input_from_viewers":false,
     "hide_output_from_viewers":false,
     "report_properties":{
      "rowId":"2tFljh8e04taZxpXKl308f",
      "relativeY":0
     }
    }
   }
  },
  {
   "cell_type":"code",
   "source":[
    "# split dataset\n",
    "from sklearn.model_selection import train_test_split\n",
    "#extract 20% of data\n",
    "yPredict = X.loan_status\n",
    "XClean = X.drop([\"loan_status\"], axis=1)\n",
    "X_train, X_test, y_train, y_test = train_test_split(XClean, yPredict, random_state=10, test_size=.2)\n",
    "\n",
    "X_train.head()"
   ],
   "execution_count":484,
   "outputs":[
    {
     "data":{
      "text\/html":[
       "<div>\n",
       "<style scoped>\n",
       "    .dataframe tbody tr th:only-of-type {\n",
       "        vertical-align: middle;\n",
       "    }\n",
       "\n",
       "    .dataframe tbody tr th {\n",
       "        vertical-align: top;\n",
       "    }\n",
       "\n",
       "    .dataframe thead th {\n",
       "        text-align: right;\n",
       "    }\n",
       "<\/style>\n",
       "<table border=\"1\" class=\"dataframe\">\n",
       "  <thead>\n",
       "    <tr style=\"text-align: right;\">\n",
       "      <th><\/th>\n",
       "      <th>loan_amnt<\/th>\n",
       "      <th>funded_amnt<\/th>\n",
       "      <th>funded_amnt_inv<\/th>\n",
       "      <th>term<\/th>\n",
       "      <th>int_rate<\/th>\n",
       "      <th>installment<\/th>\n",
       "      <th>grade<\/th>\n",
       "      <th>emp_length<\/th>\n",
       "      <th>home_ownership<\/th>\n",
       "      <th>annual_inc<\/th>\n",
       "      <th>...<\/th>\n",
       "      <th>dti<\/th>\n",
       "      <th>earliest_cr_line<\/th>\n",
       "      <th>inq_last_6mths<\/th>\n",
       "      <th>open_acc<\/th>\n",
       "      <th>pub_rec<\/th>\n",
       "      <th>revol_bal<\/th>\n",
       "      <th>revol_util<\/th>\n",
       "      <th>total_acc<\/th>\n",
       "      <th>out_prncp<\/th>\n",
       "      <th>out_prncp_inv<\/th>\n",
       "    <\/tr>\n",
       "  <\/thead>\n",
       "  <tbody>\n",
       "    <tr>\n",
       "      <th>7220<\/th>\n",
       "      <td>4950<\/td>\n",
       "      <td>4950<\/td>\n",
       "      <td>4950.0<\/td>\n",
       "      <td>60 months<\/td>\n",
       "      <td>13.49<\/td>\n",
       "      <td>113.88<\/td>\n",
       "      <td>C<\/td>\n",
       "      <td>8 years<\/td>\n",
       "      <td>MORTGAGE<\/td>\n",
       "      <td>48000.0<\/td>\n",
       "      <td>...<\/td>\n",
       "      <td>17.85<\/td>\n",
       "      <td>34973<\/td>\n",
       "      <td>0<\/td>\n",
       "      <td>13<\/td>\n",
       "      <td>0<\/td>\n",
       "      <td>20762<\/td>\n",
       "      <td>70.4<\/td>\n",
       "      <td>30<\/td>\n",
       "      <td>0<\/td>\n",
       "      <td>0<\/td>\n",
       "    <\/tr>\n",
       "    <tr>\n",
       "      <th>8708<\/th>\n",
       "      <td>3000<\/td>\n",
       "      <td>3000<\/td>\n",
       "      <td>3000.0<\/td>\n",
       "      <td>36 months<\/td>\n",
       "      <td>5.42<\/td>\n",
       "      <td>90.48<\/td>\n",
       "      <td>A<\/td>\n",
       "      <td>10+ years<\/td>\n",
       "      <td>MORTGAGE<\/td>\n",
       "      <td>70000.0<\/td>\n",
       "      <td>...<\/td>\n",
       "      <td>13.94<\/td>\n",
       "      <td>34851<\/td>\n",
       "      <td>0<\/td>\n",
       "      <td>9<\/td>\n",
       "      <td>0<\/td>\n",
       "      <td>4062<\/td>\n",
       "      <td>12.6<\/td>\n",
       "      <td>23<\/td>\n",
       "      <td>0<\/td>\n",
       "      <td>0<\/td>\n",
       "    <\/tr>\n",
       "    <tr>\n",
       "      <th>2662<\/th>\n",
       "      <td>10500<\/td>\n",
       "      <td>10500<\/td>\n",
       "      <td>10500.0<\/td>\n",
       "      <td>36 months<\/td>\n",
       "      <td>15.96<\/td>\n",
       "      <td>368.95<\/td>\n",
       "      <td>C<\/td>\n",
       "      <td>10+ years<\/td>\n",
       "      <td>OWN<\/td>\n",
       "      <td>45000.0<\/td>\n",
       "      <td>...<\/td>\n",
       "      <td>21.28<\/td>\n",
       "      <td>36800<\/td>\n",
       "      <td>2<\/td>\n",
       "      <td>9<\/td>\n",
       "      <td>0<\/td>\n",
       "      <td>7795<\/td>\n",
       "      <td>77.2<\/td>\n",
       "      <td>22<\/td>\n",
       "      <td>0<\/td>\n",
       "      <td>0<\/td>\n",
       "    <\/tr>\n",
       "    <tr>\n",
       "      <th>5020<\/th>\n",
       "      <td>14000<\/td>\n",
       "      <td>14000<\/td>\n",
       "      <td>14000.0<\/td>\n",
       "      <td>36 months<\/td>\n",
       "      <td>14.27<\/td>\n",
       "      <td>480.33<\/td>\n",
       "      <td>C<\/td>\n",
       "      <td>10+ years<\/td>\n",
       "      <td>RENT<\/td>\n",
       "      <td>46900.0<\/td>\n",
       "      <td>...<\/td>\n",
       "      <td>13.94<\/td>\n",
       "      <td>36647<\/td>\n",
       "      <td>2<\/td>\n",
       "      <td>6<\/td>\n",
       "      <td>0<\/td>\n",
       "      <td>15991<\/td>\n",
       "      <td>97.5<\/td>\n",
       "      <td>16<\/td>\n",
       "      <td>0<\/td>\n",
       "      <td>0<\/td>\n",
       "    <\/tr>\n",
       "    <tr>\n",
       "      <th>5424<\/th>\n",
       "      <td>10000<\/td>\n",
       "      <td>10000<\/td>\n",
       "      <td>10000.0<\/td>\n",
       "      <td>60 months<\/td>\n",
       "      <td>10.65<\/td>\n",
       "      <td>215.69<\/td>\n",
       "      <td>B<\/td>\n",
       "      <td>3 years<\/td>\n",
       "      <td>RENT<\/td>\n",
       "      <td>60000.0<\/td>\n",
       "      <td>...<\/td>\n",
       "      <td>24.34<\/td>\n",
       "      <td>35827<\/td>\n",
       "      <td>2<\/td>\n",
       "      <td>9<\/td>\n",
       "      <td>0<\/td>\n",
       "      <td>9408<\/td>\n",
       "      <td>47.5<\/td>\n",
       "      <td>28<\/td>\n",
       "      <td>0<\/td>\n",
       "      <td>0<\/td>\n",
       "    <\/tr>\n",
       "  <\/tbody>\n",
       "<\/table>\n",
       "<p>5 rows × 23 columns<\/p>\n",
       "<\/div>"
      ]
     },
     "metadata":{},
     "output_type":"display_data"
    }
   ],
   "metadata":{
    "datalore":{
     "node_id":"cAEVZKGMRs9uauBMWOHxx5",
     "type":"CODE",
     "hide_input_from_viewers":false,
     "hide_output_from_viewers":false,
     "report_properties":{
      "rowId":"fsp7WgA4QfO3XadtvuYT2T",
      "relativeY":0
     }
    }
   }
  },
  {
   "cell_type":"code",
   "source":[
    "class_mapping = {'Fully Paid': 0, 'Charged Off': 1}\n",
    "y_train = y_train.map(class_mapping)\n",
    "y_test = y_test.map(class_mapping)\n",
    "def OneHotEncoding(df, enc, categories):\n",
    "  transformed = pd.DataFrame(enc.transform(df[categories]).toarray(), columns = enc.get_feature_names_out(categories))\n",
    "  return pd.concat([df.reset_index(drop=True), transformed], axis=1).drop(categories, axis=1)\n",
    "categories = ['home_ownership','verification_status','purpose','addr_state']\n",
    "enc_ohe = OneHotEncoder()\n",
    "enc_ohe.fit(X_train[categories])\n",
    "\n",
    "X_train = OneHotEncoding(X_train, enc_ohe, categories)\n",
    "X_test = OneHotEncoding(X_test, enc_ohe, categories)\n",
    "\n",
    "class_mapping = {label: idx for idx, label in enumerate(np.unique(X_train['term']))}\n",
    "X_train['term'] = X_train['term'].map(class_mapping)\n",
    "class_mapping = {label: idx for idx, label in enumerate(np.unique(X_train['grade']))}\n",
    "X_train['grade'] = X_train['grade'].map(class_mapping)\n",
    "\n",
    "class_mapping = {label: idx for idx, label in enumerate(np.unique(X_test['term']))}\n",
    "X_test['term'] = X_test['term'].map(class_mapping)\n",
    "class_mapping = {label: idx for idx, label in enumerate(np.unique(X_test['grade']))}\n",
    "X_test['grade'] = X_test['grade'].map(class_mapping)\n",
    "\n",
    "X_train.head(10)"
   ],
   "execution_count":485,
   "outputs":[
    {
     "data":{
      "text\/html":[
       "<div>\n",
       "<style scoped>\n",
       "    .dataframe tbody tr th:only-of-type {\n",
       "        vertical-align: middle;\n",
       "    }\n",
       "\n",
       "    .dataframe tbody tr th {\n",
       "        vertical-align: top;\n",
       "    }\n",
       "\n",
       "    .dataframe thead th {\n",
       "        text-align: right;\n",
       "    }\n",
       "<\/style>\n",
       "<table border=\"1\" class=\"dataframe\">\n",
       "  <thead>\n",
       "    <tr style=\"text-align: right;\">\n",
       "      <th><\/th>\n",
       "      <th>loan_amnt<\/th>\n",
       "      <th>funded_amnt<\/th>\n",
       "      <th>funded_amnt_inv<\/th>\n",
       "      <th>term<\/th>\n",
       "      <th>int_rate<\/th>\n",
       "      <th>installment<\/th>\n",
       "      <th>grade<\/th>\n",
       "      <th>emp_length<\/th>\n",
       "      <th>annual_inc<\/th>\n",
       "      <th>dti<\/th>\n",
       "      <th>...<\/th>\n",
       "      <th>addr_state_SD<\/th>\n",
       "      <th>addr_state_TN<\/th>\n",
       "      <th>addr_state_TX<\/th>\n",
       "      <th>addr_state_UT<\/th>\n",
       "      <th>addr_state_VA<\/th>\n",
       "      <th>addr_state_VT<\/th>\n",
       "      <th>addr_state_WA<\/th>\n",
       "      <th>addr_state_WI<\/th>\n",
       "      <th>addr_state_WV<\/th>\n",
       "      <th>addr_state_WY<\/th>\n",
       "    <\/tr>\n",
       "  <\/thead>\n",
       "  <tbody>\n",
       "    <tr>\n",
       "      <th>0<\/th>\n",
       "      <td>4950<\/td>\n",
       "      <td>4950<\/td>\n",
       "      <td>4950.0<\/td>\n",
       "      <td>1<\/td>\n",
       "      <td>13.49<\/td>\n",
       "      <td>113.88<\/td>\n",
       "      <td>2<\/td>\n",
       "      <td>8 years<\/td>\n",
       "      <td>48000.0<\/td>\n",
       "      <td>17.85<\/td>\n",
       "      <td>...<\/td>\n",
       "      <td>0.0<\/td>\n",
       "      <td>0.0<\/td>\n",
       "      <td>0.0<\/td>\n",
       "      <td>0.0<\/td>\n",
       "      <td>0.0<\/td>\n",
       "      <td>0.0<\/td>\n",
       "      <td>0.0<\/td>\n",
       "      <td>0.0<\/td>\n",
       "      <td>0.0<\/td>\n",
       "      <td>0.0<\/td>\n",
       "    <\/tr>\n",
       "    <tr>\n",
       "      <th>1<\/th>\n",
       "      <td>3000<\/td>\n",
       "      <td>3000<\/td>\n",
       "      <td>3000.0<\/td>\n",
       "      <td>0<\/td>\n",
       "      <td>5.42<\/td>\n",
       "      <td>90.48<\/td>\n",
       "      <td>0<\/td>\n",
       "      <td>10+ years<\/td>\n",
       "      <td>70000.0<\/td>\n",
       "      <td>13.94<\/td>\n",
       "      <td>...<\/td>\n",
       "      <td>0.0<\/td>\n",
       "      <td>0.0<\/td>\n",
       "      <td>0.0<\/td>\n",
       "      <td>0.0<\/td>\n",
       "      <td>0.0<\/td>\n",
       "      <td>0.0<\/td>\n",
       "      <td>0.0<\/td>\n",
       "      <td>0.0<\/td>\n",
       "      <td>0.0<\/td>\n",
       "      <td>0.0<\/td>\n",
       "    <\/tr>\n",
       "    <tr>\n",
       "      <th>2<\/th>\n",
       "      <td>10500<\/td>\n",
       "      <td>10500<\/td>\n",
       "      <td>10500.0<\/td>\n",
       "      <td>0<\/td>\n",
       "      <td>15.96<\/td>\n",
       "      <td>368.95<\/td>\n",
       "      <td>2<\/td>\n",
       "      <td>10+ years<\/td>\n",
       "      <td>45000.0<\/td>\n",
       "      <td>21.28<\/td>\n",
       "      <td>...<\/td>\n",
       "      <td>0.0<\/td>\n",
       "      <td>0.0<\/td>\n",
       "      <td>0.0<\/td>\n",
       "      <td>0.0<\/td>\n",
       "      <td>0.0<\/td>\n",
       "      <td>0.0<\/td>\n",
       "      <td>0.0<\/td>\n",
       "      <td>0.0<\/td>\n",
       "      <td>0.0<\/td>\n",
       "      <td>0.0<\/td>\n",
       "    <\/tr>\n",
       "    <tr>\n",
       "      <th>3<\/th>\n",
       "      <td>14000<\/td>\n",
       "      <td>14000<\/td>\n",
       "      <td>14000.0<\/td>\n",
       "      <td>0<\/td>\n",
       "      <td>14.27<\/td>\n",
       "      <td>480.33<\/td>\n",
       "      <td>2<\/td>\n",
       "      <td>10+ years<\/td>\n",
       "      <td>46900.0<\/td>\n",
       "      <td>13.94<\/td>\n",
       "      <td>...<\/td>\n",
       "      <td>0.0<\/td>\n",
       "      <td>0.0<\/td>\n",
       "      <td>1.0<\/td>\n",
       "      <td>0.0<\/td>\n",
       "      <td>0.0<\/td>\n",
       "      <td>0.0<\/td>\n",
       "      <td>0.0<\/td>\n",
       "      <td>0.0<\/td>\n",
       "      <td>0.0<\/td>\n",
       "      <td>0.0<\/td>\n",
       "    <\/tr>\n",
       "    <tr>\n",
       "      <th>4<\/th>\n",
       "      <td>10000<\/td>\n",
       "      <td>10000<\/td>\n",
       "      <td>10000.0<\/td>\n",
       "      <td>1<\/td>\n",
       "      <td>10.65<\/td>\n",
       "      <td>215.69<\/td>\n",
       "      <td>1<\/td>\n",
       "      <td>3 years<\/td>\n",
       "      <td>60000.0<\/td>\n",
       "      <td>24.34<\/td>\n",
       "      <td>...<\/td>\n",
       "      <td>0.0<\/td>\n",
       "      <td>0.0<\/td>\n",
       "      <td>0.0<\/td>\n",
       "      <td>0.0<\/td>\n",
       "      <td>0.0<\/td>\n",
       "      <td>0.0<\/td>\n",
       "      <td>0.0<\/td>\n",
       "      <td>0.0<\/td>\n",
       "      <td>0.0<\/td>\n",
       "      <td>0.0<\/td>\n",
       "    <\/tr>\n",
       "    <tr>\n",
       "      <th>5<\/th>\n",
       "      <td>14000<\/td>\n",
       "      <td>14000<\/td>\n",
       "      <td>14000.0<\/td>\n",
       "      <td>1<\/td>\n",
       "      <td>17.27<\/td>\n",
       "      <td>349.98<\/td>\n",
       "      <td>3<\/td>\n",
       "      <td>9 years<\/td>\n",
       "      <td>72000.0<\/td>\n",
       "      <td>20.35<\/td>\n",
       "      <td>...<\/td>\n",
       "      <td>0.0<\/td>\n",
       "      <td>0.0<\/td>\n",
       "      <td>0.0<\/td>\n",
       "      <td>0.0<\/td>\n",
       "      <td>0.0<\/td>\n",
       "      <td>0.0<\/td>\n",
       "      <td>0.0<\/td>\n",
       "      <td>0.0<\/td>\n",
       "      <td>0.0<\/td>\n",
       "      <td>0.0<\/td>\n",
       "    <\/tr>\n",
       "    <tr>\n",
       "      <th>6<\/th>\n",
       "      <td>9100<\/td>\n",
       "      <td>9100<\/td>\n",
       "      <td>9100.0<\/td>\n",
       "      <td>0<\/td>\n",
       "      <td>6.03<\/td>\n",
       "      <td>276.97<\/td>\n",
       "      <td>0<\/td>\n",
       "      <td>10+ years<\/td>\n",
       "      <td>42000.0<\/td>\n",
       "      <td>14.66<\/td>\n",
       "      <td>...<\/td>\n",
       "      <td>0.0<\/td>\n",
       "      <td>0.0<\/td>\n",
       "      <td>0.0<\/td>\n",
       "      <td>0.0<\/td>\n",
       "      <td>0.0<\/td>\n",
       "      <td>0.0<\/td>\n",
       "      <td>0.0<\/td>\n",
       "      <td>0.0<\/td>\n",
       "      <td>0.0<\/td>\n",
       "      <td>0.0<\/td>\n",
       "    <\/tr>\n",
       "    <tr>\n",
       "      <th>7<\/th>\n",
       "      <td>12000<\/td>\n",
       "      <td>12000<\/td>\n",
       "      <td>12000.0<\/td>\n",
       "      <td>0<\/td>\n",
       "      <td>6.03<\/td>\n",
       "      <td>365.23<\/td>\n",
       "      <td>0<\/td>\n",
       "      <td>4 years<\/td>\n",
       "      <td>60000.0<\/td>\n",
       "      <td>7.96<\/td>\n",
       "      <td>...<\/td>\n",
       "      <td>0.0<\/td>\n",
       "      <td>0.0<\/td>\n",
       "      <td>0.0<\/td>\n",
       "      <td>0.0<\/td>\n",
       "      <td>0.0<\/td>\n",
       "      <td>0.0<\/td>\n",
       "      <td>0.0<\/td>\n",
       "      <td>0.0<\/td>\n",
       "      <td>0.0<\/td>\n",
       "      <td>0.0<\/td>\n",
       "    <\/tr>\n",
       "    <tr>\n",
       "      <th>8<\/th>\n",
       "      <td>12000<\/td>\n",
       "      <td>12000<\/td>\n",
       "      <td>11750.0<\/td>\n",
       "      <td>0<\/td>\n",
       "      <td>9.91<\/td>\n",
       "      <td>386.70<\/td>\n",
       "      <td>1<\/td>\n",
       "      <td>3 years<\/td>\n",
       "      <td>140000.0<\/td>\n",
       "      <td>10.16<\/td>\n",
       "      <td>...<\/td>\n",
       "      <td>0.0<\/td>\n",
       "      <td>0.0<\/td>\n",
       "      <td>1.0<\/td>\n",
       "      <td>0.0<\/td>\n",
       "      <td>0.0<\/td>\n",
       "      <td>0.0<\/td>\n",
       "      <td>0.0<\/td>\n",
       "      <td>0.0<\/td>\n",
       "      <td>0.0<\/td>\n",
       "      <td>0.0<\/td>\n",
       "    <\/tr>\n",
       "    <tr>\n",
       "      <th>9<\/th>\n",
       "      <td>20000<\/td>\n",
       "      <td>20000<\/td>\n",
       "      <td>19975.0<\/td>\n",
       "      <td>1<\/td>\n",
       "      <td>16.89<\/td>\n",
       "      <td>495.87<\/td>\n",
       "      <td>3<\/td>\n",
       "      <td>4 years<\/td>\n",
       "      <td>45000.0<\/td>\n",
       "      <td>17.07<\/td>\n",
       "      <td>...<\/td>\n",
       "      <td>0.0<\/td>\n",
       "      <td>0.0<\/td>\n",
       "      <td>0.0<\/td>\n",
       "      <td>0.0<\/td>\n",
       "      <td>0.0<\/td>\n",
       "      <td>0.0<\/td>\n",
       "      <td>0.0<\/td>\n",
       "      <td>0.0<\/td>\n",
       "      <td>0.0<\/td>\n",
       "      <td>0.0<\/td>\n",
       "    <\/tr>\n",
       "  <\/tbody>\n",
       "<\/table>\n",
       "<p>10 rows × 83 columns<\/p>\n",
       "<\/div>"
      ]
     },
     "metadata":{},
     "output_type":"display_data"
    }
   ],
   "metadata":{
    "datalore":{
     "node_id":"9h8s1wgzgc9VMtFph49kmu",
     "type":"CODE",
     "hide_input_from_viewers":false,
     "hide_output_from_viewers":false,
     "report_properties":{
      "rowId":"uCxtpOhWpaQjnNGUyyQY3l",
      "relativeY":0
     }
    }
   }
  },
  {
   "cell_type":"code",
   "source":[
    "#deal with missing value\n",
    "X_train = X_train.select_dtypes(include=[np.number]).interpolate().dropna()\n",
    "X_test = X_test.select_dtypes(include=[np.number]).interpolate().dropna()\n",
    "\n",
    "X_train.head()"
   ],
   "execution_count":486,
   "outputs":[
    {
     "data":{
      "text\/html":[
       "<div>\n",
       "<style scoped>\n",
       "    .dataframe tbody tr th:only-of-type {\n",
       "        vertical-align: middle;\n",
       "    }\n",
       "\n",
       "    .dataframe tbody tr th {\n",
       "        vertical-align: top;\n",
       "    }\n",
       "\n",
       "    .dataframe thead th {\n",
       "        text-align: right;\n",
       "    }\n",
       "<\/style>\n",
       "<table border=\"1\" class=\"dataframe\">\n",
       "  <thead>\n",
       "    <tr style=\"text-align: right;\">\n",
       "      <th><\/th>\n",
       "      <th>loan_amnt<\/th>\n",
       "      <th>funded_amnt<\/th>\n",
       "      <th>funded_amnt_inv<\/th>\n",
       "      <th>term<\/th>\n",
       "      <th>int_rate<\/th>\n",
       "      <th>installment<\/th>\n",
       "      <th>grade<\/th>\n",
       "      <th>annual_inc<\/th>\n",
       "      <th>dti<\/th>\n",
       "      <th>earliest_cr_line<\/th>\n",
       "      <th>...<\/th>\n",
       "      <th>addr_state_SD<\/th>\n",
       "      <th>addr_state_TN<\/th>\n",
       "      <th>addr_state_TX<\/th>\n",
       "      <th>addr_state_UT<\/th>\n",
       "      <th>addr_state_VA<\/th>\n",
       "      <th>addr_state_VT<\/th>\n",
       "      <th>addr_state_WA<\/th>\n",
       "      <th>addr_state_WI<\/th>\n",
       "      <th>addr_state_WV<\/th>\n",
       "      <th>addr_state_WY<\/th>\n",
       "    <\/tr>\n",
       "  <\/thead>\n",
       "  <tbody>\n",
       "    <tr>\n",
       "      <th>0<\/th>\n",
       "      <td>4950<\/td>\n",
       "      <td>4950<\/td>\n",
       "      <td>4950.0<\/td>\n",
       "      <td>1<\/td>\n",
       "      <td>13.49<\/td>\n",
       "      <td>113.88<\/td>\n",
       "      <td>2<\/td>\n",
       "      <td>48000.0<\/td>\n",
       "      <td>17.85<\/td>\n",
       "      <td>34973<\/td>\n",
       "      <td>...<\/td>\n",
       "      <td>0.0<\/td>\n",
       "      <td>0.0<\/td>\n",
       "      <td>0.0<\/td>\n",
       "      <td>0.0<\/td>\n",
       "      <td>0.0<\/td>\n",
       "      <td>0.0<\/td>\n",
       "      <td>0.0<\/td>\n",
       "      <td>0.0<\/td>\n",
       "      <td>0.0<\/td>\n",
       "      <td>0.0<\/td>\n",
       "    <\/tr>\n",
       "    <tr>\n",
       "      <th>1<\/th>\n",
       "      <td>3000<\/td>\n",
       "      <td>3000<\/td>\n",
       "      <td>3000.0<\/td>\n",
       "      <td>0<\/td>\n",
       "      <td>5.42<\/td>\n",
       "      <td>90.48<\/td>\n",
       "      <td>0<\/td>\n",
       "      <td>70000.0<\/td>\n",
       "      <td>13.94<\/td>\n",
       "      <td>34851<\/td>\n",
       "      <td>...<\/td>\n",
       "      <td>0.0<\/td>\n",
       "      <td>0.0<\/td>\n",
       "      <td>0.0<\/td>\n",
       "      <td>0.0<\/td>\n",
       "      <td>0.0<\/td>\n",
       "      <td>0.0<\/td>\n",
       "      <td>0.0<\/td>\n",
       "      <td>0.0<\/td>\n",
       "      <td>0.0<\/td>\n",
       "      <td>0.0<\/td>\n",
       "    <\/tr>\n",
       "    <tr>\n",
       "      <th>2<\/th>\n",
       "      <td>10500<\/td>\n",
       "      <td>10500<\/td>\n",
       "      <td>10500.0<\/td>\n",
       "      <td>0<\/td>\n",
       "      <td>15.96<\/td>\n",
       "      <td>368.95<\/td>\n",
       "      <td>2<\/td>\n",
       "      <td>45000.0<\/td>\n",
       "      <td>21.28<\/td>\n",
       "      <td>36800<\/td>\n",
       "      <td>...<\/td>\n",
       "      <td>0.0<\/td>\n",
       "      <td>0.0<\/td>\n",
       "      <td>0.0<\/td>\n",
       "      <td>0.0<\/td>\n",
       "      <td>0.0<\/td>\n",
       "      <td>0.0<\/td>\n",
       "      <td>0.0<\/td>\n",
       "      <td>0.0<\/td>\n",
       "      <td>0.0<\/td>\n",
       "      <td>0.0<\/td>\n",
       "    <\/tr>\n",
       "    <tr>\n",
       "      <th>3<\/th>\n",
       "      <td>14000<\/td>\n",
       "      <td>14000<\/td>\n",
       "      <td>14000.0<\/td>\n",
       "      <td>0<\/td>\n",
       "      <td>14.27<\/td>\n",
       "      <td>480.33<\/td>\n",
       "      <td>2<\/td>\n",
       "      <td>46900.0<\/td>\n",
       "      <td>13.94<\/td>\n",
       "      <td>36647<\/td>\n",
       "      <td>...<\/td>\n",
       "      <td>0.0<\/td>\n",
       "      <td>0.0<\/td>\n",
       "      <td>1.0<\/td>\n",
       "      <td>0.0<\/td>\n",
       "      <td>0.0<\/td>\n",
       "      <td>0.0<\/td>\n",
       "      <td>0.0<\/td>\n",
       "      <td>0.0<\/td>\n",
       "      <td>0.0<\/td>\n",
       "      <td>0.0<\/td>\n",
       "    <\/tr>\n",
       "    <tr>\n",
       "      <th>4<\/th>\n",
       "      <td>10000<\/td>\n",
       "      <td>10000<\/td>\n",
       "      <td>10000.0<\/td>\n",
       "      <td>1<\/td>\n",
       "      <td>10.65<\/td>\n",
       "      <td>215.69<\/td>\n",
       "      <td>1<\/td>\n",
       "      <td>60000.0<\/td>\n",
       "      <td>24.34<\/td>\n",
       "      <td>35827<\/td>\n",
       "      <td>...<\/td>\n",
       "      <td>0.0<\/td>\n",
       "      <td>0.0<\/td>\n",
       "      <td>0.0<\/td>\n",
       "      <td>0.0<\/td>\n",
       "      <td>0.0<\/td>\n",
       "      <td>0.0<\/td>\n",
       "      <td>0.0<\/td>\n",
       "      <td>0.0<\/td>\n",
       "      <td>0.0<\/td>\n",
       "      <td>0.0<\/td>\n",
       "    <\/tr>\n",
       "  <\/tbody>\n",
       "<\/table>\n",
       "<p>5 rows × 82 columns<\/p>\n",
       "<\/div>"
      ]
     },
     "metadata":{},
     "output_type":"display_data"
    }
   ],
   "metadata":{
    "datalore":{
     "node_id":"xDvjFJM4nsFfCKFUWKQv0c",
     "type":"CODE",
     "hide_input_from_viewers":false,
     "hide_output_from_viewers":false,
     "report_properties":{
      "rowId":"m8xO0lnOztutDMP73AmdwW",
      "relativeY":0
     }
    }
   }
  },
  {
   "cell_type":"code",
   "source":[
    "from sklearn.preprocessing import StandardScaler\n",
    "\n",
    "# Standardize data\n",
    "scaler = StandardScaler()  \n",
    "scaler.fit(X_train)  \n",
    "X_train = pd.DataFrame(scaler.transform(X_train), columns=X_train.columns, index=X_train.index)  # Transform and retain DataFrame structure\n",
    "X_test = pd.DataFrame(scaler.transform(X_test), columns=X_test.columns, index=X_test.index)  # Apply transformation to test data\n",
    "\n",
    "X_train.head()"
   ],
   "execution_count":487,
   "outputs":[
    {
     "data":{
      "text\/html":[
       "<div>\n",
       "<style scoped>\n",
       "    .dataframe tbody tr th:only-of-type {\n",
       "        vertical-align: middle;\n",
       "    }\n",
       "\n",
       "    .dataframe tbody tr th {\n",
       "        vertical-align: top;\n",
       "    }\n",
       "\n",
       "    .dataframe thead th {\n",
       "        text-align: right;\n",
       "    }\n",
       "<\/style>\n",
       "<table border=\"1\" class=\"dataframe\">\n",
       "  <thead>\n",
       "    <tr style=\"text-align: right;\">\n",
       "      <th><\/th>\n",
       "      <th>loan_amnt<\/th>\n",
       "      <th>funded_amnt<\/th>\n",
       "      <th>funded_amnt_inv<\/th>\n",
       "      <th>term<\/th>\n",
       "      <th>int_rate<\/th>\n",
       "      <th>installment<\/th>\n",
       "      <th>grade<\/th>\n",
       "      <th>annual_inc<\/th>\n",
       "      <th>dti<\/th>\n",
       "      <th>earliest_cr_line<\/th>\n",
       "      <th>...<\/th>\n",
       "      <th>addr_state_SD<\/th>\n",
       "      <th>addr_state_TN<\/th>\n",
       "      <th>addr_state_TX<\/th>\n",
       "      <th>addr_state_UT<\/th>\n",
       "      <th>addr_state_VA<\/th>\n",
       "      <th>addr_state_VT<\/th>\n",
       "      <th>addr_state_WA<\/th>\n",
       "      <th>addr_state_WI<\/th>\n",
       "      <th>addr_state_WV<\/th>\n",
       "      <th>addr_state_WY<\/th>\n",
       "    <\/tr>\n",
       "  <\/thead>\n",
       "  <tbody>\n",
       "    <tr>\n",
       "      <th>0<\/th>\n",
       "      <td>-0.887716<\/td>\n",
       "      <td>-0.892129<\/td>\n",
       "      <td>-0.889268<\/td>\n",
       "      <td>1.678443<\/td>\n",
       "      <td>0.320642<\/td>\n",
       "      <td>-1.077173<\/td>\n",
       "      <td>0.418304<\/td>\n",
       "      <td>-0.427059<\/td>\n",
       "      <td>0.590340<\/td>\n",
       "      <td>-0.534801<\/td>\n",
       "      <td>...<\/td>\n",
       "      <td>-0.050052<\/td>\n",
       "      <td>-0.011783<\/td>\n",
       "      <td>-0.276624<\/td>\n",
       "      <td>-0.089311<\/td>\n",
       "      <td>-0.177497<\/td>\n",
       "      <td>-0.04413<\/td>\n",
       "      <td>-0.151684<\/td>\n",
       "      <td>-0.110571<\/td>\n",
       "      <td>-0.060189<\/td>\n",
       "      <td>-0.03537<\/td>\n",
       "    <\/tr>\n",
       "    <tr>\n",
       "      <th>1<\/th>\n",
       "      <td>-1.123389<\/td>\n",
       "      <td>-1.133503<\/td>\n",
       "      <td>-1.132455<\/td>\n",
       "      <td>-0.595790<\/td>\n",
       "      <td>-1.602061<\/td>\n",
       "      <td>-1.180576<\/td>\n",
       "      <td>-1.040444<\/td>\n",
       "      <td>0.012230<\/td>\n",
       "      <td>0.000261<\/td>\n",
       "      <td>-0.562600<\/td>\n",
       "      <td>...<\/td>\n",
       "      <td>-0.050052<\/td>\n",
       "      <td>-0.011783<\/td>\n",
       "      <td>-0.276624<\/td>\n",
       "      <td>-0.089311<\/td>\n",
       "      <td>-0.177497<\/td>\n",
       "      <td>-0.04413<\/td>\n",
       "      <td>-0.151684<\/td>\n",
       "      <td>-0.110571<\/td>\n",
       "      <td>-0.060189<\/td>\n",
       "      <td>-0.03537<\/td>\n",
       "    <\/tr>\n",
       "    <tr>\n",
       "      <th>2<\/th>\n",
       "      <td>-0.216953<\/td>\n",
       "      <td>-0.205141<\/td>\n",
       "      <td>-0.197117<\/td>\n",
       "      <td>-0.595790<\/td>\n",
       "      <td>0.909127<\/td>\n",
       "      <td>0.049961<\/td>\n",
       "      <td>0.418304<\/td>\n",
       "      <td>-0.486962<\/td>\n",
       "      <td>1.107979<\/td>\n",
       "      <td>-0.118496<\/td>\n",
       "      <td>...<\/td>\n",
       "      <td>-0.050052<\/td>\n",
       "      <td>-0.011783<\/td>\n",
       "      <td>-0.276624<\/td>\n",
       "      <td>-0.089311<\/td>\n",
       "      <td>-0.177497<\/td>\n",
       "      <td>-0.04413<\/td>\n",
       "      <td>-0.151684<\/td>\n",
       "      <td>-0.110571<\/td>\n",
       "      <td>-0.060189<\/td>\n",
       "      <td>-0.03537<\/td>\n",
       "    <\/tr>\n",
       "    <tr>\n",
       "      <th>3<\/th>\n",
       "      <td>0.206051<\/td>\n",
       "      <td>0.228095<\/td>\n",
       "      <td>0.239374<\/td>\n",
       "      <td>-0.595790<\/td>\n",
       "      <td>0.506480<\/td>\n",
       "      <td>0.542141<\/td>\n",
       "      <td>0.418304<\/td>\n",
       "      <td>-0.449024<\/td>\n",
       "      <td>0.000261<\/td>\n",
       "      <td>-0.153359<\/td>\n",
       "      <td>...<\/td>\n",
       "      <td>-0.050052<\/td>\n",
       "      <td>-0.011783<\/td>\n",
       "      <td>3.615019<\/td>\n",
       "      <td>-0.089311<\/td>\n",
       "      <td>-0.177497<\/td>\n",
       "      <td>-0.04413<\/td>\n",
       "      <td>-0.151684<\/td>\n",
       "      <td>-0.110571<\/td>\n",
       "      <td>-0.060189<\/td>\n",
       "      <td>-0.03537<\/td>\n",
       "    <\/tr>\n",
       "    <tr>\n",
       "      <th>4<\/th>\n",
       "      <td>-0.277382<\/td>\n",
       "      <td>-0.267032<\/td>\n",
       "      <td>-0.259473<\/td>\n",
       "      <td>1.678443<\/td>\n",
       "      <td>-0.355997<\/td>\n",
       "      <td>-0.627283<\/td>\n",
       "      <td>-0.311070<\/td>\n",
       "      <td>-0.187447<\/td>\n",
       "      <td>1.569780<\/td>\n",
       "      <td>-0.340206<\/td>\n",
       "      <td>...<\/td>\n",
       "      <td>-0.050052<\/td>\n",
       "      <td>-0.011783<\/td>\n",
       "      <td>-0.276624<\/td>\n",
       "      <td>-0.089311<\/td>\n",
       "      <td>-0.177497<\/td>\n",
       "      <td>-0.04413<\/td>\n",
       "      <td>-0.151684<\/td>\n",
       "      <td>-0.110571<\/td>\n",
       "      <td>-0.060189<\/td>\n",
       "      <td>-0.03537<\/td>\n",
       "    <\/tr>\n",
       "  <\/tbody>\n",
       "<\/table>\n",
       "<p>5 rows × 82 columns<\/p>\n",
       "<\/div>"
      ]
     },
     "metadata":{},
     "output_type":"display_data"
    }
   ],
   "metadata":{
    "datalore":{
     "node_id":"1JGahs215pRBcUnA3nSNKf",
     "type":"CODE",
     "hide_input_from_viewers":false,
     "hide_output_from_viewers":false,
     "report_properties":{
      "rowId":"iIDeRacYD0yszmB6ggWY3k",
      "relativeY":0
     }
    }
   }
  },
  {
   "cell_type":"markdown",
   "source":[
    "# Part 3: Model Training and Selection"
   ],
   "attachments":{},
   "metadata":{
    "datalore":{
     "node_id":"iYCfxNpNkQL3vuySouZcN9",
     "type":"MD",
     "hide_input_from_viewers":false,
     "hide_output_from_viewers":false,
     "report_properties":{
      "rowId":"L6wWcVJg8hy4NVcps6BR4O",
      "relativeY":0
     }
    }
   }
  },
  {
   "cell_type":"code",
   "source":[
    "from sklearn.ensemble import RandomForestClassifier\n",
    "from sklearn.neighbors import KNeighborsClassifier \n",
    "from sklearn.linear_model import LogisticRegression\n",
    "from sklearn.svm import SVC \n",
    "#build four different models\n",
    "classifier_logistic = LogisticRegression()\n",
    "classifier_KNN = KNeighborsClassifier()\n",
    "classifier_RF = RandomForestClassifier()\n",
    "classifier_SVC = SVC()"
   ],
   "execution_count":488,
   "outputs":[],
   "metadata":{
    "datalore":{
     "node_id":"SMuKnQUcuU3mks43YBXkSM",
     "type":"CODE",
     "hide_input_from_viewers":false,
     "hide_output_from_viewers":false,
     "report_properties":{
      "rowId":"gZREKwsRQdaNbL7JMmcsXT",
      "relativeY":0
     }
    }
   }
  },
  {
   "cell_type":"code",
   "source":[
    "from sklearn.metrics import classification_report, confusion_matrix\n",
    "\n",
    "classifier_logistic.fit(X_train, y_train)\n",
    "\n",
    "prediction_Regression = classifier_logistic.predict(X_test)\n",
    "print(classification_report(y_test, prediction_Regression))"
   ],
   "execution_count":489,
   "outputs":[
    {
     "name":"stdout",
     "text":[
      "              precision    recall  f1-score   support\n",
      "\n",
      "           0       0.85      0.98      0.91      1510\n",
      "           1       0.51      0.11      0.18       291\n",
      "\n",
      "    accuracy                           0.84      1801\n",
      "   macro avg       0.68      0.54      0.54      1801\n",
      "weighted avg       0.80      0.84      0.79      1801\n",
      "\n"
     ],
     "output_type":"stream"
    }
   ],
   "metadata":{
    "datalore":{
     "node_id":"roXDJ6eDwDYKMFn5QHFOT4",
     "type":"CODE",
     "hide_input_from_viewers":false,
     "hide_output_from_viewers":false,
     "report_properties":{
      "rowId":"tIi7O2PY17leruJQS8RIon",
      "relativeY":0
     }
    }
   }
  },
  {
   "cell_type":"code",
   "source":[
    "classifier_KNN.fit(X_train,y_train)\n",
    "prediction_KNN = classifier_KNN.predict(X_test)\n",
    "print(classification_report(y_test,prediction_KNN))"
   ],
   "execution_count":490,
   "outputs":[
    {
     "name":"stdout",
     "text":[
      "              precision    recall  f1-score   support\n",
      "\n",
      "           0       0.85      0.96      0.90      1510\n",
      "           1       0.29      0.09      0.14       291\n",
      "\n",
      "    accuracy                           0.82      1801\n",
      "   macro avg       0.57      0.52      0.52      1801\n",
      "weighted avg       0.76      0.82      0.78      1801\n",
      "\n"
     ],
     "output_type":"stream"
    }
   ],
   "metadata":{
    "datalore":{
     "node_id":"FKdn3YG76OYBcXcCku6IO8",
     "type":"CODE",
     "hide_input_from_viewers":false,
     "hide_output_from_viewers":false,
     "report_properties":{
      "rowId":"GHenR2jc1tFLnfsf9AyC67",
      "relativeY":0
     }
    }
   }
  },
  {
   "cell_type":"code",
   "source":[
    "classifier_RF.fit(X_train,y_train)\n",
    "prediction_RF = classifier_RF.predict(X_test)\n",
    "print(classification_report(y_test,prediction_RF))"
   ],
   "execution_count":491,
   "outputs":[
    {
     "name":"stdout",
     "text":[
      "              precision    recall  f1-score   support\n",
      "\n",
      "           0       0.85      0.99      0.91      1510\n",
      "           1       0.51      0.07      0.12       291\n",
      "\n",
      "    accuracy                           0.84      1801\n",
      "   macro avg       0.68      0.53      0.51      1801\n",
      "weighted avg       0.79      0.84      0.78      1801\n",
      "\n"
     ],
     "output_type":"stream"
    }
   ],
   "metadata":{
    "datalore":{
     "node_id":"s5UJOJpCwjzqjrEE4ROrKj",
     "type":"CODE",
     "hide_input_from_viewers":false,
     "hide_output_from_viewers":false,
     "report_properties":{
      "rowId":"CFnXdV0mm9YUk8pyao01tM",
      "relativeY":0
     }
    }
   }
  },
  {
   "cell_type":"code",
   "source":[
    "classifier_SVC.fit(X_train,y_train)\n",
    "prediction_SVC = classifier_SVC.predict(X_test)\n",
    "print(classification_report(y_test,prediction_SVC))"
   ],
   "execution_count":492,
   "outputs":[
    {
     "name":"stdout",
     "text":[
      "              precision    recall  f1-score   support\n",
      "\n",
      "           0       0.84      1.00      0.91      1510\n",
      "           1       0.00      0.00      0.00       291\n",
      "\n",
      "    accuracy                           0.84      1801\n",
      "   macro avg       0.42      0.50      0.46      1801\n",
      "weighted avg       0.70      0.84      0.76      1801\n",
      "\n"
     ],
     "output_type":"stream"
    }
   ],
   "metadata":{
    "datalore":{
     "node_id":"Pj2k75DjNte40t8bdvpfym",
     "type":"CODE",
     "hide_input_from_viewers":false,
     "hide_output_from_viewers":false,
     "report_properties":{
      "rowId":"IGjr270vrnMZOHyxemRBl2",
      "relativeY":0
     }
    }
   }
  },
  {
   "cell_type":"code",
   "source":[
    "#5-fold cross-validation\n",
    "from sklearn import model_selection\n",
    "\n",
    "model_names = ['Logistic Regression','KNN','Random Forest','SVC']\n",
    "model_list = [classifier_logistic, classifier_KNN, classifier_RF,classifier_SVC]\n",
    "count = 0\n",
    "\n",
    "for classifier in model_list:\n",
    "    cv_score = model_selection.cross_val_score(classifier, X_train, y_train, cv=5)\n",
    "    print(cv_score)\n",
    "    print('Model accuracy of ' + model_names[count] + ' is ' + str(cv_score.mean()))\n",
    "    count += 1"
   ],
   "execution_count":493,
   "outputs":[
    {
     "name":"stdout",
     "text":[
      "[0.83691881 0.84247051 0.83275503 0.82777778 0.82638889]\n",
      "Model accuracy of Logistic Regression is 0.8332622021744157\n",
      "[0.80985427 0.81054823 0.81401804 0.80694444 0.81736111]\n",
      "Model accuracy of KNN is 0.8117452193692651\n",
      "[0.83553088 0.83067314 0.82997918 0.82569444 0.82291667]\n",
      "Model accuracy of Random Forest is 0.8289588634435964\n",
      "[0.83136711 0.82997918 0.82859126 0.82916667 0.82847222]\n",
      "Model accuracy of SVC is 0.8295152864523093\n"
     ],
     "output_type":"stream"
    }
   ],
   "metadata":{
    "datalore":{
     "node_id":"DINKBbmEwTCv0ZwP4xeXep",
     "type":"CODE",
     "hide_input_from_viewers":false,
     "hide_output_from_viewers":false,
     "report_properties":{
      "rowId":"Sqi3OnPvbkaLnc3Iy671cT",
      "relativeY":0
     }
    }
   }
  },
  {
   "cell_type":"markdown",
   "source":[
    "- Comparing the four models, it can be seen that their accuracy is very similar, with LR having the highest accuracy;\n",
    "- In practical application, it is believed that the lending club would prefer to find possible unrecoverable payments as much as possible, so the reacll of the model will be more important in this project. LR performs better in this regard;\n",
    "- Finally, LR performs the best in terms of precision;\n",
    "- Overall, the Logistics Regression model performed the best in this project;"
   ],
   "attachments":{},
   "metadata":{
    "datalore":{
     "node_id":"n3wKbHnzk3ajjlIlSCtBCK",
     "type":"MD",
     "hide_input_from_viewers":false,
     "hide_output_from_viewers":false,
     "report_properties":{
      "rowId":"2IU8A7NlrzffehwWH7zyB5",
      "relativeY":0
     }
    }
   }
  },
  {
   "cell_type":"markdown",
   "source":[
    "# Part 4 : Feature Importance"
   ],
   "attachments":{},
   "metadata":{
    "datalore":{
     "node_id":"YFWIkAyge9YoH50sk437zL",
     "type":"MD",
     "hide_input_from_viewers":false,
     "hide_output_from_viewers":false,
     "report_properties":{
      "rowId":"tPYLAkOk3bsIpVHS6SLXJZ",
      "relativeY":0
     }
    }
   }
  },
  {
   "cell_type":"code",
   "source":[
    "X_with_corr = XClean.copy()\n",
    "\n",
    "\n",
    "X_with_corr.head()\n"
   ],
   "execution_count":494,
   "outputs":[
    {
     "data":{
      "text\/html":[
       "<div>\n",
       "<style scoped>\n",
       "    .dataframe tbody tr th:only-of-type {\n",
       "        vertical-align: middle;\n",
       "    }\n",
       "\n",
       "    .dataframe tbody tr th {\n",
       "        vertical-align: top;\n",
       "    }\n",
       "\n",
       "    .dataframe thead th {\n",
       "        text-align: right;\n",
       "    }\n",
       "<\/style>\n",
       "<table border=\"1\" class=\"dataframe\">\n",
       "  <thead>\n",
       "    <tr style=\"text-align: right;\">\n",
       "      <th><\/th>\n",
       "      <th>loan_amnt<\/th>\n",
       "      <th>funded_amnt<\/th>\n",
       "      <th>funded_amnt_inv<\/th>\n",
       "      <th>term<\/th>\n",
       "      <th>int_rate<\/th>\n",
       "      <th>installment<\/th>\n",
       "      <th>grade<\/th>\n",
       "      <th>emp_length<\/th>\n",
       "      <th>home_ownership<\/th>\n",
       "      <th>annual_inc<\/th>\n",
       "      <th>...<\/th>\n",
       "      <th>dti<\/th>\n",
       "      <th>earliest_cr_line<\/th>\n",
       "      <th>inq_last_6mths<\/th>\n",
       "      <th>open_acc<\/th>\n",
       "      <th>pub_rec<\/th>\n",
       "      <th>revol_bal<\/th>\n",
       "      <th>revol_util<\/th>\n",
       "      <th>total_acc<\/th>\n",
       "      <th>out_prncp<\/th>\n",
       "      <th>out_prncp_inv<\/th>\n",
       "    <\/tr>\n",
       "  <\/thead>\n",
       "  <tbody>\n",
       "    <tr>\n",
       "      <th>0<\/th>\n",
       "      <td>5000<\/td>\n",
       "      <td>5000<\/td>\n",
       "      <td>4975.0<\/td>\n",
       "      <td>36 months<\/td>\n",
       "      <td>10.65<\/td>\n",
       "      <td>162.87<\/td>\n",
       "      <td>B<\/td>\n",
       "      <td>10+ years<\/td>\n",
       "      <td>RENT<\/td>\n",
       "      <td>24000.0<\/td>\n",
       "      <td>...<\/td>\n",
       "      <td>27.65<\/td>\n",
       "      <td>31048<\/td>\n",
       "      <td>1<\/td>\n",
       "      <td>3<\/td>\n",
       "      <td>0<\/td>\n",
       "      <td>13648<\/td>\n",
       "      <td>83.7<\/td>\n",
       "      <td>9<\/td>\n",
       "      <td>0<\/td>\n",
       "      <td>0<\/td>\n",
       "    <\/tr>\n",
       "    <tr>\n",
       "      <th>1<\/th>\n",
       "      <td>2500<\/td>\n",
       "      <td>2500<\/td>\n",
       "      <td>2500.0<\/td>\n",
       "      <td>60 months<\/td>\n",
       "      <td>15.27<\/td>\n",
       "      <td>59.83<\/td>\n",
       "      <td>C<\/td>\n",
       "      <td>Less than 1 year<\/td>\n",
       "      <td>RENT<\/td>\n",
       "      <td>30000.0<\/td>\n",
       "      <td>...<\/td>\n",
       "      <td>1.00<\/td>\n",
       "      <td>36251<\/td>\n",
       "      <td>5<\/td>\n",
       "      <td>3<\/td>\n",
       "      <td>0<\/td>\n",
       "      <td>1687<\/td>\n",
       "      <td>9.4<\/td>\n",
       "      <td>4<\/td>\n",
       "      <td>0<\/td>\n",
       "      <td>0<\/td>\n",
       "    <\/tr>\n",
       "    <tr>\n",
       "      <th>2<\/th>\n",
       "      <td>2400<\/td>\n",
       "      <td>2400<\/td>\n",
       "      <td>2400.0<\/td>\n",
       "      <td>36 months<\/td>\n",
       "      <td>15.96<\/td>\n",
       "      <td>84.33<\/td>\n",
       "      <td>C<\/td>\n",
       "      <td>10+ years<\/td>\n",
       "      <td>RENT<\/td>\n",
       "      <td>12252.0<\/td>\n",
       "      <td>...<\/td>\n",
       "      <td>8.72<\/td>\n",
       "      <td>43040<\/td>\n",
       "      <td>2<\/td>\n",
       "      <td>2<\/td>\n",
       "      <td>0<\/td>\n",
       "      <td>2956<\/td>\n",
       "      <td>98.5<\/td>\n",
       "      <td>10<\/td>\n",
       "      <td>0<\/td>\n",
       "      <td>0<\/td>\n",
       "    <\/tr>\n",
       "    <tr>\n",
       "      <th>3<\/th>\n",
       "      <td>10000<\/td>\n",
       "      <td>10000<\/td>\n",
       "      <td>10000.0<\/td>\n",
       "      <td>36 months<\/td>\n",
       "      <td>13.49<\/td>\n",
       "      <td>339.31<\/td>\n",
       "      <td>C<\/td>\n",
       "      <td>10+ years<\/td>\n",
       "      <td>RENT<\/td>\n",
       "      <td>49200.0<\/td>\n",
       "      <td>...<\/td>\n",
       "      <td>20.00<\/td>\n",
       "      <td>35096<\/td>\n",
       "      <td>1<\/td>\n",
       "      <td>10<\/td>\n",
       "      <td>0<\/td>\n",
       "      <td>5598<\/td>\n",
       "      <td>21.0<\/td>\n",
       "      <td>37<\/td>\n",
       "      <td>0<\/td>\n",
       "      <td>0<\/td>\n",
       "    <\/tr>\n",
       "    <tr>\n",
       "      <th>4<\/th>\n",
       "      <td>5000<\/td>\n",
       "      <td>5000<\/td>\n",
       "      <td>5000.0<\/td>\n",
       "      <td>36 months<\/td>\n",
       "      <td>7.90<\/td>\n",
       "      <td>156.46<\/td>\n",
       "      <td>A<\/td>\n",
       "      <td>3 years<\/td>\n",
       "      <td>RENT<\/td>\n",
       "      <td>36000.0<\/td>\n",
       "      <td>...<\/td>\n",
       "      <td>11.20<\/td>\n",
       "      <td>43043<\/td>\n",
       "      <td>3<\/td>\n",
       "      <td>9<\/td>\n",
       "      <td>0<\/td>\n",
       "      <td>7963<\/td>\n",
       "      <td>28.3<\/td>\n",
       "      <td>12<\/td>\n",
       "      <td>0<\/td>\n",
       "      <td>0<\/td>\n",
       "    <\/tr>\n",
       "  <\/tbody>\n",
       "<\/table>\n",
       "<p>5 rows × 23 columns<\/p>\n",
       "<\/div>"
      ]
     },
     "metadata":{},
     "output_type":"display_data"
    }
   ],
   "metadata":{
    "datalore":{
     "node_id":"j5oWOD9fJWgFV2QFrDlhgw",
     "type":"CODE",
     "hide_input_from_viewers":false,
     "hide_output_from_viewers":false,
     "report_properties":{
      "rowId":"g8ql30ba38cNXeJe8CMz9I",
      "relativeY":0
     }
    }
   }
  },
  {
   "cell_type":"code",
   "source":[
    "\n",
    "X_with_corr = OneHotEncoding(X_with_corr, enc_ohe, categories)\n",
    "\n",
    "class_mapping = {label: idx for idx, label in enumerate(np.unique(X_with_corr['term']))}\n",
    "X_with_corr['term'] = X_with_corr['term'].map(class_mapping)\n",
    "class_mapping = {label: idx for idx, label in enumerate(np.unique(X_with_corr['grade']))}\n",
    "X_with_corr['grade'] = X_with_corr['grade'].map(class_mapping)\n",
    "X_with_corr = X_with_corr.select_dtypes(include=[np.number]).interpolate().dropna()\n",
    "X_with_corr.head()"
   ],
   "execution_count":495,
   "outputs":[
    {
     "data":{
      "text\/html":[
       "<div>\n",
       "<style scoped>\n",
       "    .dataframe tbody tr th:only-of-type {\n",
       "        vertical-align: middle;\n",
       "    }\n",
       "\n",
       "    .dataframe tbody tr th {\n",
       "        vertical-align: top;\n",
       "    }\n",
       "\n",
       "    .dataframe thead th {\n",
       "        text-align: right;\n",
       "    }\n",
       "<\/style>\n",
       "<table border=\"1\" class=\"dataframe\">\n",
       "  <thead>\n",
       "    <tr style=\"text-align: right;\">\n",
       "      <th><\/th>\n",
       "      <th>loan_amnt<\/th>\n",
       "      <th>funded_amnt<\/th>\n",
       "      <th>funded_amnt_inv<\/th>\n",
       "      <th>term<\/th>\n",
       "      <th>int_rate<\/th>\n",
       "      <th>installment<\/th>\n",
       "      <th>grade<\/th>\n",
       "      <th>annual_inc<\/th>\n",
       "      <th>dti<\/th>\n",
       "      <th>earliest_cr_line<\/th>\n",
       "      <th>...<\/th>\n",
       "      <th>addr_state_SD<\/th>\n",
       "      <th>addr_state_TN<\/th>\n",
       "      <th>addr_state_TX<\/th>\n",
       "      <th>addr_state_UT<\/th>\n",
       "      <th>addr_state_VA<\/th>\n",
       "      <th>addr_state_VT<\/th>\n",
       "      <th>addr_state_WA<\/th>\n",
       "      <th>addr_state_WI<\/th>\n",
       "      <th>addr_state_WV<\/th>\n",
       "      <th>addr_state_WY<\/th>\n",
       "    <\/tr>\n",
       "  <\/thead>\n",
       "  <tbody>\n",
       "    <tr>\n",
       "      <th>0<\/th>\n",
       "      <td>5000<\/td>\n",
       "      <td>5000<\/td>\n",
       "      <td>4975.0<\/td>\n",
       "      <td>0<\/td>\n",
       "      <td>10.65<\/td>\n",
       "      <td>162.87<\/td>\n",
       "      <td>1<\/td>\n",
       "      <td>24000.0<\/td>\n",
       "      <td>27.65<\/td>\n",
       "      <td>31048<\/td>\n",
       "      <td>...<\/td>\n",
       "      <td>0.0<\/td>\n",
       "      <td>0.0<\/td>\n",
       "      <td>0.0<\/td>\n",
       "      <td>0.0<\/td>\n",
       "      <td>0.0<\/td>\n",
       "      <td>0.0<\/td>\n",
       "      <td>0.0<\/td>\n",
       "      <td>0.0<\/td>\n",
       "      <td>0.0<\/td>\n",
       "      <td>0.0<\/td>\n",
       "    <\/tr>\n",
       "    <tr>\n",
       "      <th>1<\/th>\n",
       "      <td>2500<\/td>\n",
       "      <td>2500<\/td>\n",
       "      <td>2500.0<\/td>\n",
       "      <td>1<\/td>\n",
       "      <td>15.27<\/td>\n",
       "      <td>59.83<\/td>\n",
       "      <td>2<\/td>\n",
       "      <td>30000.0<\/td>\n",
       "      <td>1.00<\/td>\n",
       "      <td>36251<\/td>\n",
       "      <td>...<\/td>\n",
       "      <td>0.0<\/td>\n",
       "      <td>0.0<\/td>\n",
       "      <td>0.0<\/td>\n",
       "      <td>0.0<\/td>\n",
       "      <td>0.0<\/td>\n",
       "      <td>0.0<\/td>\n",
       "      <td>0.0<\/td>\n",
       "      <td>0.0<\/td>\n",
       "      <td>0.0<\/td>\n",
       "      <td>0.0<\/td>\n",
       "    <\/tr>\n",
       "    <tr>\n",
       "      <th>2<\/th>\n",
       "      <td>2400<\/td>\n",
       "      <td>2400<\/td>\n",
       "      <td>2400.0<\/td>\n",
       "      <td>0<\/td>\n",
       "      <td>15.96<\/td>\n",
       "      <td>84.33<\/td>\n",
       "      <td>2<\/td>\n",
       "      <td>12252.0<\/td>\n",
       "      <td>8.72<\/td>\n",
       "      <td>43040<\/td>\n",
       "      <td>...<\/td>\n",
       "      <td>0.0<\/td>\n",
       "      <td>0.0<\/td>\n",
       "      <td>0.0<\/td>\n",
       "      <td>0.0<\/td>\n",
       "      <td>0.0<\/td>\n",
       "      <td>0.0<\/td>\n",
       "      <td>0.0<\/td>\n",
       "      <td>0.0<\/td>\n",
       "      <td>0.0<\/td>\n",
       "      <td>0.0<\/td>\n",
       "    <\/tr>\n",
       "    <tr>\n",
       "      <th>3<\/th>\n",
       "      <td>10000<\/td>\n",
       "      <td>10000<\/td>\n",
       "      <td>10000.0<\/td>\n",
       "      <td>0<\/td>\n",
       "      <td>13.49<\/td>\n",
       "      <td>339.31<\/td>\n",
       "      <td>2<\/td>\n",
       "      <td>49200.0<\/td>\n",
       "      <td>20.00<\/td>\n",
       "      <td>35096<\/td>\n",
       "      <td>...<\/td>\n",
       "      <td>0.0<\/td>\n",
       "      <td>0.0<\/td>\n",
       "      <td>0.0<\/td>\n",
       "      <td>0.0<\/td>\n",
       "      <td>0.0<\/td>\n",
       "      <td>0.0<\/td>\n",
       "      <td>0.0<\/td>\n",
       "      <td>0.0<\/td>\n",
       "      <td>0.0<\/td>\n",
       "      <td>0.0<\/td>\n",
       "    <\/tr>\n",
       "    <tr>\n",
       "      <th>4<\/th>\n",
       "      <td>5000<\/td>\n",
       "      <td>5000<\/td>\n",
       "      <td>5000.0<\/td>\n",
       "      <td>0<\/td>\n",
       "      <td>7.90<\/td>\n",
       "      <td>156.46<\/td>\n",
       "      <td>0<\/td>\n",
       "      <td>36000.0<\/td>\n",
       "      <td>11.20<\/td>\n",
       "      <td>43043<\/td>\n",
       "      <td>...<\/td>\n",
       "      <td>0.0<\/td>\n",
       "      <td>0.0<\/td>\n",
       "      <td>0.0<\/td>\n",
       "      <td>0.0<\/td>\n",
       "      <td>0.0<\/td>\n",
       "      <td>0.0<\/td>\n",
       "      <td>0.0<\/td>\n",
       "      <td>0.0<\/td>\n",
       "      <td>0.0<\/td>\n",
       "      <td>0.0<\/td>\n",
       "    <\/tr>\n",
       "  <\/tbody>\n",
       "<\/table>\n",
       "<p>5 rows × 82 columns<\/p>\n",
       "<\/div>"
      ]
     },
     "metadata":{},
     "output_type":"display_data"
    }
   ],
   "metadata":{
    "datalore":{
     "node_id":"1JocQDPNaZYjLPQnhNMyHG",
     "type":"CODE",
     "hide_input_from_viewers":false,
     "hide_output_from_viewers":false,
     "report_properties":{
      "rowId":"h3hk1bXeEKavNFauJcAa4w",
      "relativeY":0
     }
    }
   }
  },
  {
   "cell_type":"markdown",
   "source":[
    "***To some extent feature importance determines the degree of impact on whether the borrower repays the money, so we first rank the best performing Logistics Regression based on feature importance***"
   ],
   "attachments":{},
   "metadata":{
    "datalore":{
     "node_id":"asqEyRKt9F5jisFRXewWrK",
     "type":"MD",
     "hide_input_from_viewers":false,
     "hide_output_from_viewers":false,
     "report_properties":{
      "rowId":"a6Nscc96uEQBFJt8l9jmsh",
      "relativeY":0
     }
    }
   }
  },
  {
   "cell_type":"code",
   "source":[
    "#Using L1 regularization to obtain feature importance\n",
    "scaler = StandardScaler()\n",
    "X_l1 = scaler.fit_transform(X_with_corr)\n",
    "LRmodel_l1 = LogisticRegression(penalty=\"l1\", C = 10, solver='liblinear')\n",
    "LRmodel_l1.fit(X_l1, yPredict)\n",
    "\n",
    "indices = np.argsort(abs(LRmodel_l1.coef_[0]))[::-1]\n",
    "\n",
    "print (\"Logistic Regression (L1) Coefficients\")\n",
    "for ind in range(X_with_corr.shape[1]):\n",
    "  print (\"{0} : {1}\".format(X_with_corr.columns[indices[ind]],round(LRmodel_l1.coef_[0][indices[ind]], 4)))"
   ],
   "execution_count":496,
   "outputs":[
    {
     "name":"stdout",
     "text":[
      "Logistic Regression (L1) Coefficients\n",
      "int_rate : -0.5622\n",
      "annual_inc : 0.5092\n",
      "term : -0.4131\n",
      "funded_amnt : 0.3927\n",
      "funded_amnt_inv : -0.2811\n",
      "purpose_small_business : -0.1725\n",
      "revol_util : -0.1554\n",
      "loan_amnt : -0.1531\n",
      "purpose_other : -0.1365\n",
      "grade : 0.1253\n",
      "purpose_credit_card : 0.1124\n",
      "inq_last_6mths : -0.1019\n",
      "purpose_medical : -0.0774\n",
      "purpose_moving : -0.0717\n",
      "addr_state_TX : 0.0711\n",
      "addr_state_UT : 0.0704\n",
      "purpose_major_purchase : 0.0683\n",
      "addr_state_KS : 0.0675\n",
      "home_ownership_RENT : -0.0637\n",
      "addr_state_NV : -0.0625\n",
      "earliest_cr_line : 0.0621\n",
      "installment : -0.0595\n",
      "addr_state_CA : -0.059\n",
      "open_acc : -0.058\n",
      "total_acc : 0.0561\n",
      "verification_status_Not Verified : -0.0554\n",
      "addr_state_RI : -0.0532\n",
      "pub_rec : -0.0527\n",
      "addr_state_MD : -0.0513\n",
      "addr_state_AR : 0.0506\n",
      "addr_state_TN : 0.0491\n",
      "addr_state_MT : 0.0486\n",
      "addr_state_MS : 0.0456\n",
      "addr_state_OK : 0.0452\n",
      "addr_state_MO : 0.0427\n",
      "addr_state_FL : -0.0394\n",
      "addr_state_CO : 0.0385\n",
      "dti : -0.0384\n",
      "addr_state_AK : -0.0379\n",
      "addr_state_SD : -0.0369\n",
      "verification_status_Verified : 0.0346\n",
      "addr_state_LA : 0.0323\n",
      "addr_state_WV : 0.0321\n",
      "addr_state_AL : -0.0265\n",
      "addr_state_VA : -0.0262\n",
      "purpose_car : -0.0248\n",
      "addr_state_CT : 0.0247\n",
      "addr_state_NM : -0.0245\n",
      "addr_state_OR : -0.0222\n",
      "addr_state_MI : -0.0212\n",
      "purpose_home_improvement : 0.021\n",
      "addr_state_SC : 0.0208\n",
      "addr_state_NC : 0.0197\n",
      "addr_state_PA : 0.0191\n",
      "purpose_renewable_energy : -0.0184\n",
      "addr_state_WI : 0.0184\n",
      "addr_state_AZ : -0.017\n",
      "addr_state_DC : 0.0162\n",
      "purpose_wedding : 0.0158\n",
      "addr_state_DE : 0.0153\n",
      "addr_state_VT : 0.0139\n",
      "addr_state_OH : -0.0124\n",
      "purpose_vacation : -0.0115\n",
      "addr_state_HI : 0.0114\n",
      "addr_state_NH : -0.0099\n",
      "addr_state_GA : -0.0096\n",
      "purpose_house : -0.0092\n",
      "addr_state_MA : 0.0084\n",
      "addr_state_NY : 0.0059\n",
      "addr_state_WY : 0.0054\n",
      "addr_state_IL : -0.0054\n",
      "revol_bal : 0.0048\n",
      "addr_state_WA : -0.0047\n",
      "addr_state_MN : 0.0041\n",
      "home_ownership_OWN : 0.0038\n",
      "purpose_debt_consolidation : 0.0036\n",
      "addr_state_KY : 0.0028\n",
      "addr_state_NJ : 0.0\n",
      "home_ownership_MORTGAGE : 0.0\n",
      "verification_status_Source Verified : 0.0\n",
      "out_prncp_inv : 0.0\n",
      "out_prncp : 0.0\n"
     ],
     "output_type":"stream"
    }
   ],
   "metadata":{
    "datalore":{
     "node_id":"M3pbqy77kifErPfd9ADXKZ",
     "type":"CODE",
     "hide_input_from_viewers":false,
     "hide_output_from_viewers":false,
     "report_properties":{
      "rowId":"TnXbXNq2gMWuecDcHdf58k",
      "relativeY":0
     }
    }
   }
  },
  {
   "cell_type":"markdown",
   "source":[
    "In the LR model, the most influential ones are int_rate, annual_inc, term, etc"
   ],
   "attachments":{},
   "metadata":{
    "datalore":{
     "node_id":"PDdFz5Xn2aAIILcL1i8AEE",
     "type":"MD",
     "hide_input_from_viewers":false,
     "hide_output_from_viewers":false,
     "report_properties":{
      "rowId":"yKu9vhbvES33tcfKw3fJem",
      "relativeY":0
     }
    }
   }
  },
  {
   "cell_type":"markdown",
   "source":[
    "**As a comparison, we will rank Random Forests**"
   ],
   "attachments":{},
   "metadata":{
    "datalore":{
     "node_id":"y6TOZIChPbxUz0CE0ie4I2",
     "type":"MD",
     "hide_input_from_viewers":false,
     "hide_output_from_viewers":false,
     "report_properties":{
      "rowId":"mRVdMWA0VOUvQhWyQgQQJ3",
      "relativeY":0
     }
    }
   }
  },
  {
   "cell_type":"code",
   "source":[
    "yPredict = yPredict .map({'Fully Paid': 0, 'Charged Off': 1})"
   ],
   "execution_count":497,
   "outputs":[],
   "metadata":{
    "datalore":{
     "node_id":"SuphU1LNQ7chr6qZiXn326",
     "type":"CODE",
     "hide_input_from_viewers":false,
     "hide_output_from_viewers":false,
     "report_properties":{
      "rowId":"rT3x6wEeq9EAx3s8ZvWSG2",
      "relativeY":0
     }
    }
   }
  },
  {
   "cell_type":"code",
   "source":[
    "# check feature importance of random forests\n",
    "forest = RandomForestClassifier()\n",
    "forest.fit(X_with_corr, yPredict)\n",
    "\n",
    "importances = forest.feature_importances_\n",
    "indices = np.argsort(importances)[::-1]\n",
    "\n",
    "print(\"Feature importance ranking by Random Forest Model:\")\n",
    "for ind in range(X_with_corr.shape[1]):  # Use X_with_corr shape here\n",
    "    print(\"{0} : {1}\".format(X_with_corr.columns[indices[ind]], round(importances[indices[ind]], 4)))"
   ],
   "execution_count":498,
   "outputs":[
    {
     "name":"stdout",
     "text":[
      "Feature importance ranking by Random Forest Model:\n",
      "int_rate : 0.0715\n",
      "revol_util : 0.0684\n",
      "annual_inc : 0.0677\n",
      "earliest_cr_line : 0.0641\n",
      "dti : 0.0637\n",
      "revol_bal : 0.0635\n",
      "installment : 0.0573\n",
      "total_acc : 0.0542\n",
      "funded_amnt_inv : 0.0531\n",
      "funded_amnt : 0.0452\n",
      "loan_amnt : 0.0446\n",
      "open_acc : 0.044\n",
      "grade : 0.0335\n",
      "term : 0.0295\n",
      "inq_last_6mths : 0.0238\n",
      "addr_state_CA : 0.0102\n",
      "purpose_debt_consolidation : 0.0097\n",
      "verification_status_Source Verified : 0.0093\n",
      "home_ownership_RENT : 0.0091\n",
      "home_ownership_MORTGAGE : 0.0084\n",
      "verification_status_Verified : 0.0082\n",
      "verification_status_Not Verified : 0.0079\n",
      "purpose_small_business : 0.0076\n",
      "purpose_other : 0.0073\n",
      "addr_state_NY : 0.0069\n",
      "purpose_credit_card : 0.0068\n",
      "addr_state_FL : 0.0065\n",
      "pub_rec : 0.0059\n",
      "addr_state_TX : 0.0047\n",
      "addr_state_IL : 0.0047\n",
      "addr_state_NJ : 0.0046\n",
      "home_ownership_OWN : 0.0045\n",
      "addr_state_VA : 0.0043\n",
      "addr_state_MD : 0.0041\n",
      "addr_state_OH : 0.0041\n",
      "addr_state_GA : 0.0041\n",
      "purpose_home_improvement : 0.0041\n",
      "addr_state_PA : 0.0038\n",
      "addr_state_WA : 0.0037\n",
      "addr_state_AZ : 0.0034\n",
      "addr_state_NV : 0.0034\n",
      "purpose_medical : 0.0032\n",
      "addr_state_NC : 0.003\n",
      "purpose_car : 0.0029\n",
      "addr_state_MI : 0.0026\n",
      "purpose_moving : 0.0025\n",
      "purpose_wedding : 0.0025\n",
      "addr_state_MA : 0.0025\n",
      "addr_state_CT : 0.0025\n",
      "addr_state_OR : 0.0024\n",
      "addr_state_MN : 0.0023\n",
      "addr_state_RI : 0.0022\n",
      "addr_state_WI : 0.0021\n",
      "addr_state_MO : 0.0021\n",
      "purpose_major_purchase : 0.0021\n",
      "addr_state_AL : 0.002\n",
      "addr_state_CO : 0.0019\n",
      "addr_state_NM : 0.0015\n",
      "addr_state_OK : 0.0014\n",
      "addr_state_SC : 0.0014\n",
      "purpose_house : 0.0014\n",
      "addr_state_KY : 0.0014\n",
      "addr_state_LA : 0.0014\n",
      "addr_state_AK : 0.0013\n",
      "addr_state_HI : 0.0011\n",
      "purpose_vacation : 0.001\n",
      "addr_state_KS : 0.001\n",
      "addr_state_AR : 0.001\n",
      "addr_state_DC : 0.0009\n",
      "addr_state_NH : 0.0008\n",
      "addr_state_SD : 0.0008\n",
      "addr_state_WV : 0.0007\n",
      "addr_state_UT : 0.0006\n",
      "addr_state_DE : 0.0006\n",
      "purpose_renewable_energy : 0.0005\n",
      "addr_state_MT : 0.0005\n",
      "addr_state_VT : 0.0003\n",
      "addr_state_WY : 0.0002\n",
      "addr_state_TN : 0.0\n",
      "addr_state_MS : 0.0\n",
      "out_prncp_inv : 0.0\n",
      "out_prncp : 0.0\n"
     ],
     "output_type":"stream"
    }
   ],
   "metadata":{
    "datalore":{
     "node_id":"nTqqdnL8ULz7GgjzmmJJpO",
     "type":"CODE",
     "hide_input_from_viewers":false,
     "hide_output_from_viewers":false,
     "report_properties":{
      "rowId":"V6c2ktfM74aw1rlad6NRLe",
      "relativeY":0
     }
    }
   }
  },
  {
   "cell_type":"markdown",
   "source":[
    "In RF, the influential factors ranked high are int_rate, revol_util, annual_inc, while some important influencing factors in LR, such as term, rank low in the RF model.\n",
    "- **It is not difficult to find in Part 1 that some classifications (such as terms) have a significant impact on whether borrowers repay on time, and obviously this is better reflected in Logistics Regression than Random Forests**"
   ],
   "attachments":{},
   "metadata":{
    "datalore":{
     "node_id":"uExLkGJrjfAJvoGqTKn8le",
     "type":"MD",
     "hide_input_from_viewers":false,
     "hide_output_from_viewers":false,
     "report_properties":{
      "rowId":"EqSFhkIb8IsOmCPUQ2S3Fo",
      "relativeY":0
     }
    }
   }
  },
  {
   "cell_type":"markdown",
   "source":[
    "# Sheet 2"
   ],
   "attachments":{},
   "metadata":{
    "datalore":{
     "node_id":"Sheet 2",
     "type":"MD",
     "hide_input_from_viewers":false,
     "hide_output_from_viewers":false,
     "sheet_delimiter":true
    }
   }
  },
  {
   "cell_type":"code",
   "source":[],
   "execution_count":0,
   "outputs":[],
   "metadata":{
    "datalore":{
     "node_id":"ufRPeGzt4XhIkaZuAuZ8oX",
     "type":"CODE",
     "hide_input_from_viewers":true,
     "hide_output_from_viewers":true
    }
   }
  }
 ],
 "metadata":{
  "kernelspec":{
   "display_name":"Python",
   "language":"python",
   "name":"python"
  },
  "datalore":{
   "computation_mode":"JUPYTER",
   "package_manager":"pip",
   "base_environment":"default_3_11",
   "packages":[],
   "report_row_ids":[],
   "report_tabs":[
    {
     "id":"GFAJT90ykEocIrkk7gmmEb",
     "name":"Report tab",
     "rows":[
      "Oak6iQfqfanHYwPVMKRBjQ",
      "maWjM1yYjLllBSRRrw2wfc",
      "QxSyby20K8E1AeTm2HhRtr",
      "jpXqMT29F7oRimssCbzlzx",
      "0gr1JBWtq7xuDGWwNJmiwc",
      "3XTbk1Gr8PRc3DZYeljPDC",
      "NnckYqTn3768CpU5WrTZmy",
      "vLVWtOKmBbOJYzKi5Ad7NX",
      "tWXW3abvqDQAQGX05p4bMO",
      "HTPeg93Pm2W2QofC1V9WVL",
      "ucYCGS0LgsUVhQantHJZ3i",
      "9CdppEp3hC2p3cuFrGMckS",
      "6D08TTOOZQdcG5xipkxl45",
      "1ztwLgDaCFnjVkJ0oZkXH4",
      "pH1jk6PhpRuXw9exO8LHLN",
      "birYaLgRbuTvrpBWR40fFJ",
      "Tntb5zaOOGHlxxqB9j52u2",
      "6wxJmuxTsKFI92IMURlqTW",
      "YEy7FyMz3luPbziA1LyRda",
      "416Dfb12uO8eqLVvhMGAsf",
      "fFZqPKQGk1ruolmIs6ZKrZ",
      "rssvbXGkUmZQtJ3MgeL2Lu",
      "TADvfYsC67xhwGyE8XYeVD",
      "9qwk87HnzrXC1eeeDvjPLA",
      "6osiamnczupkj7oanG6y1l",
      "xN6c8qBprKHpl0t1q2hgw6",
      "AGbcq4wkS2yH6VFzhEOqNO",
      "CFlW2MxtJhfuIDkLgAsinT",
      "slzBhps8vMKLp1nrvZGasA",
      "yAFmalaO7g9saKuspMJwgk",
      "CkZw5jpnZqcbleVwILfIlG",
      "2tFljh8e04taZxpXKl308f",
      "fsp7WgA4QfO3XadtvuYT2T",
      "uCxtpOhWpaQjnNGUyyQY3l",
      "m8xO0lnOztutDMP73AmdwW",
      "iIDeRacYD0yszmB6ggWY3k",
      "L6wWcVJg8hy4NVcps6BR4O",
      "gZREKwsRQdaNbL7JMmcsXT",
      "tIi7O2PY17leruJQS8RIon",
      "GHenR2jc1tFLnfsf9AyC67",
      "CFnXdV0mm9YUk8pyao01tM",
      "IGjr270vrnMZOHyxemRBl2",
      "Sqi3OnPvbkaLnc3Iy671cT",
      "2IU8A7NlrzffehwWH7zyB5",
      "tPYLAkOk3bsIpVHS6SLXJZ",
      "g8ql30ba38cNXeJe8CMz9I",
      "h3hk1bXeEKavNFauJcAa4w",
      "a6Nscc96uEQBFJt8l9jmsh",
      "TnXbXNq2gMWuecDcHdf58k",
      "yKu9vhbvES33tcfKw3fJem",
      "mRVdMWA0VOUvQhWyQgQQJ3",
      "rT3x6wEeq9EAx3s8ZvWSG2",
      "V6c2ktfM74aw1rlad6NRLe",
      "EqSFhkIb8IsOmCPUQ2S3Fo"
     ]
    }
   ],
   "report_link":"https:\/\/datalore.jetbrains.com\/report\/JlF04JJUOKuOBddIJe53K5\/20T1J1CAPhBzWFUtPsFj0L",
   "version":4
  }
 },
 "nbformat":4,
 "nbformat_minor":4
}